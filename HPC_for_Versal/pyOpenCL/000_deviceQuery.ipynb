{
  "nbformat": 4,
  "nbformat_minor": 0,
  "metadata": {
    "colab": {
      "name": "000_pyOpencl_deviceQuery.ipynb",
      "provenance": [],
      "authorship_tag": "ABX9TyPax5OJjzRbV9AeR2xUgT6d",
      "include_colab_link": true
    },
    "kernelspec": {
      "name": "python3",
      "display_name": "Python 3"
    },
    "language_info": {
      "name": "python"
    },
    "accelerator": "GPU",
    "gpuClass": "standard"
  },
  "cells": [
    {
      "cell_type": "markdown",
      "metadata": {
        "id": "view-in-github",
        "colab_type": "text"
      },
      "source": [
        "<a href=\"https://colab.research.google.com/github/AEW2015/fpga-colab/blob/main/HPC_for_Versal/pyOpenCL/000_deviceQuery.ipynb\" target=\"_parent\"><img src=\"https://colab.research.google.com/assets/colab-badge.svg\" alt=\"Open In Colab\"/></a>"
      ]
    },
    {
      "cell_type": "markdown",
      "source": [
        "# OpenCL device query example with python"
      ],
      "metadata": {
        "id": "grnMh5vIKA1T"
      }
    },
    {
      "cell_type": "code",
      "execution_count": 1,
      "metadata": {
        "colab": {
          "base_uri": "https://localhost:8080/"
        },
        "id": "oA3oj7VjJ9A7",
        "outputId": "6a59cef0-466d-45ca-c45f-35efa99fdc85"
      },
      "outputs": [
        {
          "output_type": "stream",
          "name": "stdout",
          "text": [
            "Wed Aug 31 04:29:51 2022       \n",
            "+-----------------------------------------------------------------------------+\n",
            "| NVIDIA-SMI 460.32.03    Driver Version: 460.32.03    CUDA Version: 11.2     |\n",
            "|-------------------------------+----------------------+----------------------+\n",
            "| GPU  Name        Persistence-M| Bus-Id        Disp.A | Volatile Uncorr. ECC |\n",
            "| Fan  Temp  Perf  Pwr:Usage/Cap|         Memory-Usage | GPU-Util  Compute M. |\n",
            "|                               |                      |               MIG M. |\n",
            "|===============================+======================+======================|\n",
            "|   0  Tesla T4            Off  | 00000000:00:04.0 Off |                    0 |\n",
            "| N/A   67C    P8    10W /  70W |      0MiB / 15109MiB |      0%      Default |\n",
            "|                               |                      |                  N/A |\n",
            "+-------------------------------+----------------------+----------------------+\n",
            "                                                                               \n",
            "+-----------------------------------------------------------------------------+\n",
            "| Processes:                                                                  |\n",
            "|  GPU   GI   CI        PID   Type   Process name                  GPU Memory |\n",
            "|        ID   ID                                                   Usage      |\n",
            "|=============================================================================|\n",
            "|  No running processes found                                                 |\n",
            "+-----------------------------------------------------------------------------+\n"
          ]
        }
      ],
      "source": [
        "!nvidia-smi"
      ]
    },
    {
      "cell_type": "code",
      "source": [
        "pip install pyopencl"
      ],
      "metadata": {
        "colab": {
          "base_uri": "https://localhost:8080/"
        },
        "id": "o1jolIq1KVDL",
        "outputId": "3a6c03ce-ac51-475c-e545-6d0d0f189187"
      },
      "execution_count": 2,
      "outputs": [
        {
          "output_type": "stream",
          "name": "stdout",
          "text": [
            "Looking in indexes: https://pypi.org/simple, https://us-python.pkg.dev/colab-wheels/public/simple/\n",
            "Collecting pyopencl\n",
            "  Downloading pyopencl-2022.1.6-cp37-cp37m-manylinux_2_17_x86_64.manylinux2014_x86_64.whl (887 kB)\n",
            "\u001b[K     |████████████████████████████████| 887 kB 50.4 MB/s \n",
            "\u001b[?25hCollecting pytools>=2021.2.7\n",
            "  Downloading pytools-2022.1.12.tar.gz (70 kB)\n",
            "\u001b[K     |████████████████████████████████| 70 kB 9.4 MB/s \n",
            "\u001b[?25hRequirement already satisfied: numpy in /usr/local/lib/python3.7/dist-packages (from pyopencl) (1.21.6)\n",
            "Collecting platformdirs>=2.2.0\n",
            "  Downloading platformdirs-2.5.2-py3-none-any.whl (14 kB)\n",
            "Requirement already satisfied: typing_extensions>=4.0 in /usr/local/lib/python3.7/dist-packages (from pytools>=2021.2.7->pyopencl) (4.1.1)\n",
            "Building wheels for collected packages: pytools\n",
            "  Building wheel for pytools (setup.py) ... \u001b[?25l\u001b[?25hdone\n",
            "  Created wheel for pytools: filename=pytools-2022.1.12-py2.py3-none-any.whl size=65034 sha256=82da9cc77c7bbc46ab198d56c3daef1d9bfdb075d802ca4133f8331208fedbc4\n",
            "  Stored in directory: /root/.cache/pip/wheels/37/5e/9e/76d7430e116b7cab0016fbabb26b896daae1946a3f7dea9915\n",
            "Successfully built pytools\n",
            "Installing collected packages: platformdirs, pytools, pyopencl\n",
            "Successfully installed platformdirs-2.5.2 pyopencl-2022.1.6 pytools-2022.1.12\n"
          ]
        }
      ]
    },
    {
      "cell_type": "code",
      "source": [
        "\"\"\"\n",
        "    Simple utility to list some interesting properties of all OpenCL devices.\n",
        "\"\"\"\n",
        "\n",
        "import pyopencl\n",
        "\n",
        "# Dummy kernel to have access to kernel properties\n",
        "CODE = \"__kernel void test() { float a = (1.0f + 2.0f) * 3.0f; }\"\n",
        "\n",
        "print()\n",
        "for platform in pyopencl.get_platforms():\n",
        "    for device in platform.get_devices():\n",
        "        context = pyopencl.Context([device])\n",
        "        program = pyopencl.Program(context, CODE).build()\n",
        "        kernel = pyopencl.Kernel(program, \"test\")\n",
        "\n",
        "        print(\"Platform: \" + platform.name)\n",
        "        print(\"Device: \" + device.name + \" (\" + pyopencl.device_type.to_string(device.type) + \")\")        \n",
        "        print(\"\\tcompute capability: \" + str(device.compute_capability_major_nv) + \".\" + str(device.compute_capability_minor_nv))\n",
        "        print(\"\\tGlobal memory: \\t\\t\" + str(device.global_mem_size / 2**30) + \" GB\")\n",
        "        print(\"\\tGlobal cache: \\t\\t\" + str(device.global_mem_cache_size / 2**10) + \" KB (\" + pyopencl.device_mem_cache_type.to_string(device.global_mem_cache_type) + \")\")\n",
        "        print(\"\\tGlobal cache line: \\t\" + str(device.global_mem_cacheline_size) + \" B\")\n",
        "        print(\"\\tLocal memory: \\t\\t\" + str(device.local_mem_size / 2**10) + \" KB (\" + pyopencl.device_local_mem_type.to_string(device.local_mem_type) + \")\")\n",
        "        print(\"\\tConstant memory: \\t\" + str(device.max_constant_buffer_size / 2**10) + \" KB\")\n",
        "        print(\"\\tCompute units: \\t\\t\" + str(device.max_compute_units))\n",
        "        print(\"\\tMax work-group size: \\t\" + str(device.max_work_group_size))\n",
        "        print(\"\\tMax work-item size: \\t\" + str(device.max_work_item_sizes))\n",
        "        print(\"\\tLockstep unit: \\t\\t\" + str(kernel.get_work_group_info(pyopencl.kernel_work_group_info.PREFERRED_WORK_GROUP_SIZE_MULTIPLE, device)))\n",
        "        print()"
      ],
      "metadata": {
        "colab": {
          "base_uri": "https://localhost:8080/"
        },
        "id": "DAXlPLh6KjFS",
        "outputId": "0167e4bc-5ea9-40fc-99ef-72d988061241"
      },
      "execution_count": 8,
      "outputs": [
        {
          "output_type": "stream",
          "name": "stdout",
          "text": [
            "\n",
            "Platform: NVIDIA CUDA\n",
            "Device: Tesla T4 (ALL | GPU)\n",
            "\tcompute capability: 7.5\n",
            "\tGlobal memory: \t\t14.755615234375 GB\n",
            "\tGlobal cache: \t\t1280.0 KB (READ_WRITE_CACHE)\n",
            "\tGlobal cache line: \t128 B\n",
            "\tLocal memory: \t\t48.0 KB (LOCAL)\n",
            "\tConstant memory: \t64.0 KB\n",
            "\tCompute units: \t\t40\n",
            "\tMax work-group size: \t1024\n",
            "\tMax work-item size: \t[1024, 1024, 64]\n",
            "\tLockstep unit: \t\t32\n",
            "\n"
          ]
        }
      ]
    }
  ]
}