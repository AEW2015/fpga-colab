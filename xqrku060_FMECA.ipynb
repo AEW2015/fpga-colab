{
  "nbformat": 4,
  "nbformat_minor": 0,
  "metadata": {
    "colab": {
      "provenance": [],
      "collapsed_sections": [
        "9dAoZdEUlY8X"
      ],
      "authorship_tag": "ABX9TyP2fj2Jv5k/gYJORXW/Gjg5",
      "include_colab_link": true
    },
    "kernelspec": {
      "name": "python3",
      "display_name": "Python 3"
    },
    "language_info": {
      "name": "python"
    }
  },
  "cells": [
    {
      "cell_type": "markdown",
      "metadata": {
        "id": "view-in-github",
        "colab_type": "text"
      },
      "source": [
        "<a href=\"https://colab.research.google.com/github/AEW2015/fpga-colab/blob/main/xqrku060_FMECA.ipynb\" target=\"_parent\"><img src=\"https://colab.research.google.com/assets/colab-badge.svg\" alt=\"Open In Colab\"/></a>"
      ]
    },
    {
      "cell_type": "markdown",
      "source": [
        "# Introduction"
      ],
      "metadata": {
        "id": "AkR0dej7DkOP"
      }
    },
    {
      "cell_type": "markdown",
      "source": [
        "AMD-Xilinx offers a Radiaiton Tolerant KU060 FPGA, but how often these devices fail and what is the effect of mitigation?\n",
        "\n",
        "\n",
        "<figure>\n",
        "    <img src=\"https://cf-images.us-east-1.prod.boltdns.net/v1/static/17209957001/321ccd1b-67b4-452a-a0a9-fc5586fdb87c/a3403ace-0540-42cc-a7e6-e042e5a7beb1/1280x720/match/image.jpg\"\n",
        "    width=\"450\"\n",
        "    alt=\"FT KU060\">\n",
        "    <figcaption>Caption Goes Here</figcaption>\n",
        "</figure>"
      ],
      "metadata": {
        "id": "uS2_vQj8DrSE"
      }
    },
    {
      "cell_type": "markdown",
      "source": [
        "TODO:\n",
        "* ~~add pictures~~\n",
        "    * Add Placement Picture\n",
        "* ~~point to publications~~\n",
        "* ~~point to other examples~~\n",
        "* Have a small story between sections"
      ],
      "metadata": {
        "id": "pt_pf1uf_AMS"
      }
    },
    {
      "cell_type": "markdown",
      "source": [
        "\n",
        "Quick points:\n",
        "*   Using Public Vendor Heavy Ion Data\n",
        "*   Vendor, Public, and Opensource Tools and designs\n",
        "*   Map data to an orbit for failures for a specific designs\n",
        "\n"
      ],
      "metadata": {
        "id": "FXof4maNDum9"
      }
    },
    {
      "cell_type": "markdown",
      "source": [
        "Assumptions will be listed, but can be changed to match your situation:\n",
        "*   DS882 Weibull Fit Curves, and SEFI rates\n",
        "*   Spenvis with listed configs\n",
        "*   GEO orbit\n",
        "*   100 mills of aluminum shiledling\n",
        "*   Simple CRAM Scrubbing (only look at Single CRAM events)\n",
        "*   No data for freqnecy-based SETI upsets\n",
        "*   Other assumptions listed below\n",
        "\n"
      ],
      "metadata": {
        "id": "HVIdvHNqEKmO"
      }
    },
    {
      "cell_type": "markdown",
      "source": [
        "# Orbit Upset Rates"
      ],
      "metadata": {
        "id": "QcaT9bNTcFzd"
      }
    },
    {
      "cell_type": "markdown",
      "source": [
        "![Spenvis logo](https://www.spenvis.oma.be/images/spenvislogo.gif)"
      ],
      "metadata": {
        "id": "_DrQbw2rD6Cx"
      }
    },
    {
      "cell_type": "markdown",
      "source": [
        "Spenvis Config:\n",
        "1.  Orbit is geostionary, 1 day orbit, longitude 0, Jan 2020 Launch\n",
        "2.  Solar Partiacl Fluex CREMA-96, H to U, Wort Week, Mag Shield (quiet)\n",
        "3. Short-Term SEU rate, 0.254 cm Shield, Si (CREME-86), x*y = 0.0004 um, z = 2 um\n",
        "4. Heavy Ion Weibull Funciton\n",
        "\n"
      ],
      "metadata": {
        "id": "gLSHkjzjFfkS"
      }
    },
    {
      "cell_type": "code",
      "execution_count": 1,
      "metadata": {
        "id": "iusUPGVBDfXD"
      },
      "outputs": [],
      "source": [
        "CRAM_bit_day    = 5.5132E-09\n",
        "BRAM_bit_day    = 7.8714E-09\n",
        "SLR_device_day  = 1.1775E-03\n",
        "CNT_device_day  = 7.6083E-04\n",
        "DSP_device_day  = 1.3997E-03\n",
        "GTH_device_day  = 9.0687E-05\n",
        "IOB_device_day  = 1.9342E-03\n",
        "PLL_device_day  = 4.9828E-05\n",
        "MMCM_device_day = 4.9828E-05\n",
        "SEFI_device_day = 4.5e-4"
      ]
    },
    {
      "cell_type": "markdown",
      "source": [
        "# Device Failures"
      ],
      "metadata": {
        "id": "_KGEeOkvcNq9"
      }
    },
    {
      "cell_type": "markdown",
      "source": [
        "<figure>\n",
        "    <img src=\"https://www.xilinx.com/content/xilinx/en/products/silicon-devices/fpga/rt-kintex-ultrascale/_jcr_content/root/imageTabParsys/childParsys-productAdvantages/xilinxcolumns/childParsys-1/xilinximage.img.png/1684954227147.png\"\n",
        "    width=\"350\"\n",
        "    alt=\"FPGA Layout\">\n",
        "    <figcaption>Caption Goes Here</figcaption>\n",
        "</figure>"
      ],
      "metadata": {
        "id": "hy4d8NLNED7e"
      }
    },
    {
      "cell_type": "markdown",
      "source": [
        "Apply this to the Whole device:\n",
        "\n",
        "*   Full Bitstream is 192,999,264 bits:\n",
        "  * CRAM is 153186144 bits (type 0 frames)\n",
        "  * BRAM is 39813120 bits (type 1 frames)\n",
        "\n"
      ],
      "metadata": {
        "id": "zTiWd0DZaX1U"
      }
    },
    {
      "cell_type": "code",
      "source": [
        "CRAM_device_day = CRAM_bit_day * 153186144\n",
        "BRAM_device_day = BRAM_bit_day * 39813120"
      ],
      "metadata": {
        "id": "oU0Pqh3JaXG_"
      },
      "execution_count": 2,
      "outputs": []
    },
    {
      "cell_type": "code",
      "source": [
        "Full_device_day = CRAM_device_day + BRAM_device_day + SLR_device_day + CNT_device_day + DSP_device_day \\\n",
        "                + GTH_device_day + IOB_device_day + PLL_device_day + MMCM_device_day + SEFI_device_day\n",
        "print(\"FPGA will see a device failure every {0:0.4} hours\".format(24/Full_device_day))"
      ],
      "metadata": {
        "colab": {
          "base_uri": "https://localhost:8080/"
        },
        "id": "U7qCI768bELO",
        "outputId": "53c1166d-3759-432b-bb10-dc99c40e854e"
      },
      "execution_count": 3,
      "outputs": [
        {
          "output_type": "stream",
          "name": "stdout",
          "text": [
            "FPGA will see a device failure every 20.62 hours\n"
          ]
        }
      ]
    },
    {
      "cell_type": "code",
      "source": [
        "import matplotlib.pyplot as plt\n",
        "\n",
        "labels = 'CRAM', 'BRAM', 'SLR', 'Counter','DSP','GTH','IOB','PLL','MMCM','SEFI'\n",
        "sizes = [CRAM_device_day, BRAM_device_day, SLR_device_day, CNT_device_day,DSP_device_day,\\\n",
        "         GTH_device_day,IOB_device_day,PLL_device_day,MMCM_device_day,SEFI_device_day]\n",
        "\n",
        "fig, ax = plt.subplots()\n",
        "ax.pie(sizes, labels=labels, autopct='%1.1f%%')\n",
        "plt.show()"
      ],
      "metadata": {
        "colab": {
          "base_uri": "https://localhost:8080/",
          "height": 406
        },
        "id": "DjQaElwEdDMD",
        "outputId": "86e4ab3d-b7fb-4e9d-9126-52d509948ed7"
      },
      "execution_count": 4,
      "outputs": [
        {
          "output_type": "display_data",
          "data": {
            "text/plain": [
              "<Figure size 640x480 with 1 Axes>"
            ],
            "image/png": "[encoded data removed]"
          },
          "metadata": {}
        }
      ]
    },
    {
      "cell_type": "markdown",
      "source": [
        "# Embedded Processors"
      ],
      "metadata": {
        "id": "OtaFIbvBkSEW"
      }
    },
    {
      "cell_type": "markdown",
      "source": [
        "<figure>\n",
        "    <img src=\"https://d3i71xaburhd42.cloudfront.net/306e7102c922abd010baf5a1a957f9617bd647da/3-Figure2-1.png\"\n",
        "    width=\"350\"\n",
        "    alt=\"Proc Tiles\">\n",
        "    <figcaption>Caption Goes Here</figcaption>\n",
        "</figure>"
      ],
      "metadata": {
        "id": "6goT8oUrFqW4"
      }
    },
    {
      "cell_type": "markdown",
      "source": [
        "Example Design Build: [Source](https://github.com/AEW2015/fpga-colab/tree/main/FIG/digilent_arty/dut)"
      ],
      "metadata": {
        "id": "T7AZykNQLrX-"
      }
    },
    {
      "cell_type": "markdown",
      "source": [
        "## Design Failures"
      ],
      "metadata": {
        "id": "efBbX4ZqcQIu"
      }
    },
    {
      "cell_type": "markdown",
      "source": [
        "What is the design?"
      ],
      "metadata": {
        "id": "VFGdPlXWgUeg"
      }
    },
    {
      "cell_type": "markdown",
      "source": [
        "Assumptions:\n",
        "*   CRAM Senstivity reported with random fault injeciton\n",
        "*   BRAM:\n",
        "  * Ignore unused BRAMs with features not tested\n",
        "  * Ignore FIFO BRAMs with data in flight\n",
        "  * Estimated a 50% \"senstivity\" for operation BRAMs, but could be different\n",
        "      * difficult to simulate for more detailed analysis\n",
        "* Everything else based on utilization\n"
      ],
      "metadata": {
        "id": "KTGBHoNVcVPw"
      }
    },
    {
      "cell_type": "code",
      "source": [
        "CRAM_senstivity = .0551\n",
        "nFIFO_BRAM = .702\n",
        "SLR_util = .01 #Assume non-zero\n",
        "CNT_util = .01 #Assume non-zero\n",
        "DSP_util = .117\n",
        "GTH_util = 0 # Not used\n",
        "IOB_util = 2 /620 # UART only\n",
        "PLL_util = 0 / 24 # Not used\n",
        "MMCM_util = 1 / 12"
      ],
      "metadata": {
        "id": "xcU_PEjQeE8B"
      },
      "execution_count": 5,
      "outputs": []
    },
    {
      "cell_type": "code",
      "source": [
        "BRAM_senstivity_estimate = 0.5\n",
        "CRAM_design_day = CRAM_device_day * CRAM_senstivity\n",
        "BRAM_design_day = BRAM_device_day * nFIFO_BRAM * BRAM_senstivity_estimate\n",
        "SLR_design_day  = SLR_device_day * SLR_util\n",
        "CNT_design_day  = CNT_device_day * CNT_util\n",
        "DSP_design_day  = DSP_device_day * DSP_util\n",
        "GTH_design_day  = GTH_device_day * GTH_util\n",
        "IOB_design_day  = IOB_device_day * IOB_util\n",
        "PLL_design_day  = PLL_device_day * PLL_util\n",
        "MMCM_design_day = MMCM_device_day * MMCM_util\n",
        "SEFI_design_day = SEFI_device_day"
      ],
      "metadata": {
        "id": "bNCKB4dGfkyX"
      },
      "execution_count": 6,
      "outputs": []
    },
    {
      "cell_type": "code",
      "source": [
        "Full_design_day = CRAM_design_day + BRAM_design_day + SLR_design_day + CNT_design_day + DSP_design_day \\\n",
        "                + GTH_design_day + IOB_design_day + PLL_design_day + MMCM_design_day + SEFI_design_day\n",
        "print(\"FPGA will see a design failure every {0} days\".format(1/Full_design_day))\n",
        "nTMR_GEO_MTTF = 1/Full_design_day"
      ],
      "metadata": {
        "colab": {
          "base_uri": "https://localhost:8080/"
        },
        "id": "cgm5PrdmfuvA",
        "outputId": "b3cae676-2189-4f12-fe13-ce7fe4eaf629"
      },
      "execution_count": 7,
      "outputs": [
        {
          "output_type": "stream",
          "name": "stdout",
          "text": [
            "FPGA will see a design failure every 6.362288481320409 days\n"
          ]
        }
      ]
    },
    {
      "cell_type": "code",
      "source": [
        "labels = 'CRAM', 'BRAM', 'SLR', 'Counter','DSP','GTH','IOB','PLL','MMCM','SEFI'\n",
        "sizes = [CRAM_design_day, BRAM_design_day, SLR_design_day, CNT_design_day,DSP_design_day,\\\n",
        "         GTH_design_day,IOB_design_day,PLL_design_day,MMCM_design_day,SEFI_design_day]\n",
        "\n",
        "fig, ax = plt.subplots()\n",
        "ax.pie(sizes, labels=labels, autopct='%1.1f%%')\n",
        "plt.show()"
      ],
      "metadata": {
        "colab": {
          "base_uri": "https://localhost:8080/",
          "height": 406
        },
        "id": "KwFET_mif5y2",
        "outputId": "1c831c28-0c38-4947-d68c-be0cbbd976d3"
      },
      "execution_count": 8,
      "outputs": [
        {
          "output_type": "display_data",
          "data": {
            "text/plain": [
              "<Figure size 640x480 with 1 Axes>"
            ],
            "image/png": "[encoded data removed]"
          },
          "metadata": {}
        }
      ]
    },
    {
      "cell_type": "markdown",
      "source": [
        "## Mitigated Design"
      ],
      "metadata": {
        "id": "SkkHhuBrbTXL"
      }
    },
    {
      "cell_type": "markdown",
      "source": [
        "<figure>\n",
        "    <img src=\"https://d3i71xaburhd42.cloudfront.net/306e7102c922abd010baf5a1a957f9617bd647da/2-Figure1-1.png\"\n",
        "    width=\"350\"\n",
        "    alt=\"TMR Application\">\n",
        "    <figcaption>Caption Goes Here</figcaption>\n",
        "</figure>"
      ],
      "metadata": {
        "id": "hKLEMjfHHPHs"
      }
    },
    {
      "cell_type": "markdown",
      "source": [
        "<figure>\n",
        "    <img src=\"https://d3i71xaburhd42.cloudfront.net/6f34b7eba74d2e2460e3af1f3edd310d8492b93f/3-Figure2-1.png\"\n",
        "    width=\"350\"\n",
        "    alt=\"TMR Voters\">\n",
        "    <figcaption>Caption Goes Here</figcaption>\n",
        "</figure>"
      ],
      "metadata": {
        "id": "sPKMyaUiHW2R"
      }
    },
    {
      "cell_type": "markdown",
      "source": [
        "Example Python TMR Flow: [ipynb](https://github.com/AEW2015/fpga-colab/blob/main/FIG/digilent_arty/tmr/digilent_arty_SpyDrNet_TMR.ipynb)\n",
        "\n",
        "Example Build TCL script: [TCL](https://github.com/AEW2015/fpga-colab/blob/main/FIG/digilent_arty/tmr/build_tmr.tcl)\n",
        "\n",
        "Another Python Example: [ipynb](https://github.com/AEW2015/fpga-colab/blob/main/SpyDrNet_TMR_examples.ipynb)"
      ],
      "metadata": {
        "id": "mW903X_tL9YJ"
      }
    },
    {
      "cell_type": "markdown",
      "source": [
        "New TMR design!\n",
        "Assumptions:\n",
        "*   CRAM Senstivity reported with random fault injeciton\n",
        "*   BRAM:\n",
        "  * Ignore unused BRAMs with feauters not tested\n",
        "  * Ignore FIFO BRAMs with data in flight\n",
        "  * Estimated a 50% \"senstivity\" for operation BRAMs, but could be different\n",
        "    * difficult to simulate for more detailed analysis\n",
        "  * add an additional 0.412% sensitivity for TMR BRAM (see Apendix)\n",
        "* Everything else based on utilization\n",
        "  * assume TMR protects SLR, CNT, & DSPs"
      ],
      "metadata": {
        "id": "HERtc8W5gZj2"
      }
    },
    {
      "cell_type": "code",
      "source": [
        "CRAM_senstivity = .00079\n",
        "nFIFO_BRAM = .476\n",
        "SLR_util = .01 #Assume non-zero\n",
        "CNT_util = .01 #Assume non-zero\n",
        "DSP_util = .117\n",
        "GTH_util = 0 # Not used\n",
        "IOB_util = 2 /620 # UART only\n",
        "PLL_util = 0 / 24 # Not used\n",
        "MMCM_util = 1 / 12"
      ],
      "metadata": {
        "id": "fD3b-UUsgNpy"
      },
      "execution_count": 9,
      "outputs": []
    },
    {
      "cell_type": "code",
      "source": [
        "BRAM_senstivity_estimate = 0.5\n",
        "BRAM_TMR_senstivity_estiamte = 0.00411983113735914\n",
        "TMR_protected = 0\n",
        "\n",
        "CRAM_design_day = CRAM_device_day * CRAM_senstivity\n",
        "BRAM_design_day = BRAM_device_day * nFIFO_BRAM * BRAM_senstivity_estimate * BRAM_TMR_senstivity_estiamte\n",
        "SLR_design_day  = SLR_device_day * SLR_util * TMR_protected\n",
        "CNT_design_day  = CNT_device_day * CNT_util * TMR_protected\n",
        "DSP_design_day  = DSP_device_day * DSP_util * TMR_protected\n",
        "GTH_design_day  = GTH_device_day * GTH_util\n",
        "IOB_design_day  = IOB_device_day * IOB_util\n",
        "PLL_design_day  = PLL_device_day * PLL_util\n",
        "MMCM_design_day = MMCM_device_day * MMCM_util\n",
        "SEFI_design_day = SEFI_device_day"
      ],
      "metadata": {
        "id": "msi1WcK0g7kq"
      },
      "execution_count": 10,
      "outputs": []
    },
    {
      "cell_type": "code",
      "source": [
        "Full_design_day = CRAM_design_day + BRAM_design_day + SLR_design_day + CNT_design_day + DSP_design_day \\\n",
        "                + GTH_design_day + IOB_design_day + PLL_design_day + MMCM_design_day + SEFI_design_day\n",
        "print(\"FPGA will see a design failure every {0} Year\".format(1/Full_design_day/365.25))\n",
        "TMR_GEO_MTTF = 1/Full_design_day"
      ],
      "metadata": {
        "colab": {
          "base_uri": "https://localhost:8080/"
        },
        "id": "hVcc37XnhTk6",
        "outputId": "050adf4d-6caf-4a27-ac65-2df763dd8574"
      },
      "execution_count": 11,
      "outputs": [
        {
          "output_type": "stream",
          "name": "stdout",
          "text": [
            "FPGA will see a design failure every 1.908091985845966 Year\n"
          ]
        }
      ]
    },
    {
      "cell_type": "code",
      "source": [
        "labels = 'CRAM', 'BRAM', 'SLR', 'Counter','DSP','GTH','IOB','PLL','MMCM','SEFI'\n",
        "sizes = [CRAM_design_day, BRAM_design_day, SLR_design_day, CNT_design_day,DSP_design_day,\\\n",
        "         GTH_design_day,IOB_design_day,PLL_design_day,MMCM_design_day,SEFI_design_day]\n",
        "\n",
        "fig, ax = plt.subplots()\n",
        "ax.pie(sizes, labels=labels, autopct='%1.1f%%')\n",
        "plt.show()"
      ],
      "metadata": {
        "colab": {
          "base_uri": "https://localhost:8080/",
          "height": 406
        },
        "id": "2O9jbF8QhU-E",
        "outputId": "00f2961a-2004-4e3b-ac15-60f7a8819768"
      },
      "execution_count": 12,
      "outputs": [
        {
          "output_type": "display_data",
          "data": {
            "text/plain": [
              "<Figure size 640x480 with 1 Axes>"
            ],
            "image/png": "[encoded data removed]"
          },
          "metadata": {}
        }
      ]
    },
    {
      "cell_type": "markdown",
      "source": [
        "## Compare to Radiation Data"
      ],
      "metadata": {
        "id": "RAsjkjruiAQS"
      }
    },
    {
      "cell_type": "markdown",
      "source": [
        "<figure>\n",
        "    <img src=\"https://d3i71xaburhd42.cloudfront.net/306e7102c922abd010baf5a1a957f9617bd647da/4-Figure3-1.png\"\n",
        "    width=\"350\"\n",
        "    alt=\"Rad Testing\">\n",
        "    <figcaption>Caption Goes Here</figcaption>\n",
        "</figure>"
      ],
      "metadata": {
        "id": "qXjQFhwFEvX3"
      }
    },
    {
      "cell_type": "code",
      "source": [
        "nTMR_NEU_MTTF = 1/ 5.96E-08 # 1/ cross-section\n",
        "TMR_NEU_MTTF = 1 / 5.58E-10 # 1/ cross-section"
      ],
      "metadata": {
        "id": "9gi5xLMmiG-A"
      },
      "execution_count": 13,
      "outputs": []
    },
    {
      "cell_type": "code",
      "source": [
        "GEO_improvement = TMR_GEO_MTTF/nTMR_GEO_MTTF\n",
        "NEU_improvement = TMR_NEU_MTTF/nTMR_NEU_MTTF\n",
        "print(GEO_improvement,NEU_improvement)"
      ],
      "metadata": {
        "colab": {
          "base_uri": "https://localhost:8080/"
        },
        "id": "B-Ekd6QFigsk",
        "outputId": "70ecfafe-04c4-4046-90fc-fc79a6babd77"
      },
      "execution_count": 14,
      "outputs": [
        {
          "output_type": "stream",
          "name": "stdout",
          "text": [
            "109.54086723298035 106.8100358422939\n"
          ]
        }
      ]
    },
    {
      "cell_type": "code",
      "source": [
        "nTMR_processor_count = 117\n",
        "TMR_processor_count = 28\n",
        "nTMR_norm_perf = 1\n",
        "TMR_norm_perf = 0.93\n",
        "\n",
        "nTMR_GEO_MWBF = nTMR_GEO_MTTF * nTMR_processor_count * nTMR_norm_perf\n",
        "TMR_GEO_MWBF = TMR_GEO_MTTF * TMR_processor_count * TMR_norm_perf\n",
        "\n",
        "nTMR_NEU_MWBF = nTMR_NEU_MTTF * nTMR_processor_count * nTMR_norm_perf\n",
        "TMR_NEU_MWBF = TMR_NEU_MTTF * TMR_processor_count * TMR_norm_perf\n",
        "\n",
        "GEO_improvement = TMR_GEO_MWBF/nTMR_GEO_MWBF\n",
        "NEU_improvement = TMR_NEU_MWBF/nTMR_NEU_MWBF\n",
        "print(GEO_improvement,NEU_improvement)"
      ],
      "metadata": {
        "colab": {
          "base_uri": "https://localhost:8080/"
        },
        "id": "elsGDU5bjBGX",
        "outputId": "be2af39a-45c4-445a-d187-a5399c4ec267"
      },
      "execution_count": 15,
      "outputs": [
        {
          "output_type": "stream",
          "name": "stdout",
          "text": [
            "24.379864809801784 23.772079772079774\n"
          ]
        }
      ]
    },
    {
      "cell_type": "markdown",
      "source": [
        "### Publication for more info: [IEEE](https://ieeexplore.ieee.org/document/10012379)"
      ],
      "metadata": {
        "id": "EO8J_wJGjZ37"
      }
    },
    {
      "cell_type": "markdown",
      "source": [
        "# Soft Linux SoC Processor\n"
      ],
      "metadata": {
        "id": "I6BU5MmSkdPA"
      }
    },
    {
      "cell_type": "markdown",
      "source": [
        "<figure>\n",
        "    <img src=\"https://d3i71xaburhd42.cloudfront.net/6f34b7eba74d2e2460e3af1f3edd310d8492b93f/2-Figure1-1.png\"\n",
        "    width=\"650\"\n",
        "    alt=\"VexRiscv LiteX Config\">\n",
        "    <figcaption>Caption Goes Here</figcaption>\n",
        "</figure>"
      ],
      "metadata": {
        "id": "9DDJMxM8EQMl"
      }
    },
    {
      "cell_type": "markdown",
      "source": [
        "Example LiteX Gen:\n",
        "\n",
        "F4PGA LiteX Arty [link](https://github.com/AEW2015/fpga-colab/blob/main/F4PGA_Litex_Arty.ipynb)\n",
        "\n",
        "Linux on LiteX Repo: [link](https://github.com/litex-hub/linux-on-litex-vexriscv) (supports most dev boards)"
      ],
      "metadata": {
        "id": "8X2dw0PtMXbu"
      }
    },
    {
      "cell_type": "markdown",
      "source": [
        "## Design Failures"
      ],
      "metadata": {
        "id": "IUkU4v6pkdPB"
      }
    },
    {
      "cell_type": "markdown",
      "source": [
        "What is the design?"
      ],
      "metadata": {
        "id": "KgG57lB3kdPB"
      }
    },
    {
      "cell_type": "markdown",
      "source": [
        "Fault Injection Example:\n",
        "[ipynb](https://github.com/AEW2015/fpga-colab/blob/main/FIG/digilent_arty/fault_injection/arty_a7_fault_injection.ipynb)"
      ],
      "metadata": {
        "id": "qJmk_R0kNAW_"
      }
    },
    {
      "cell_type": "markdown",
      "source": [
        "Assumptions:\n",
        "*   CRAM Senstivity reported with random fault injeciton\n",
        "*   BRAM:\n",
        "  * Ignore unused BRAMs with feauters not tested\n",
        "  * Ignore FIFO BRAMs with data in flight\n",
        "  * Estimated a 50% \"senstivity\" for operation BRAMs, but could be different\n",
        "    * difficult to simulate for more detailed analysis\n",
        "* Everything else based on utilization\n",
        "\n"
      ],
      "metadata": {
        "id": "mvNvJAoCkdPB"
      }
    },
    {
      "cell_type": "code",
      "source": [
        "CRAM_senstivity = .0057\n",
        "nFIFO_BRAM = .0692\n",
        "SLR_util = .01 #Assume non-zero\n",
        "CNT_util = .01 #Assume non-zero\n",
        "DSP_util = .0054\n",
        "GTH_util = 0 # Not used\n",
        "IOB_util = 64 /620 # UART only\n",
        "PLL_util = 0 / 24 # Not used\n",
        "MMCM_util = 1 / 12"
      ],
      "metadata": {
        "id": "wpD5iylwkdPB"
      },
      "execution_count": 16,
      "outputs": []
    },
    {
      "cell_type": "code",
      "source": [
        "BRAM_senstivity_estimate = 0.5\n",
        "CRAM_design_day = CRAM_device_day * CRAM_senstivity\n",
        "BRAM_design_day = BRAM_device_day * nFIFO_BRAM * BRAM_senstivity_estimate\n",
        "SLR_design_day  = SLR_device_day * SLR_util\n",
        "CNT_design_day  = CNT_device_day * CNT_util\n",
        "DSP_design_day  = DSP_device_day * DSP_util\n",
        "GTH_design_day  = GTH_device_day * GTH_util\n",
        "IOB_design_day  = IOB_device_day * IOB_util\n",
        "PLL_design_day  = PLL_device_day * PLL_util\n",
        "MMCM_design_day = MMCM_device_day * MMCM_util\n",
        "SEFI_design_day = SEFI_device_day"
      ],
      "metadata": {
        "id": "MYiJJyVGkdPB"
      },
      "execution_count": 17,
      "outputs": []
    },
    {
      "cell_type": "code",
      "source": [
        "Full_design_day = CRAM_design_day + BRAM_design_day + SLR_design_day + CNT_design_day + DSP_design_day \\\n",
        "                + GTH_design_day + IOB_design_day + PLL_design_day + MMCM_design_day + SEFI_design_day\n",
        "print(\"FPGA will see a design failure every {0} days\".format(1/Full_design_day))\n",
        "nTMR_GEO_MTTF = 1/Full_design_day"
      ],
      "metadata": {
        "colab": {
          "base_uri": "https://localhost:8080/"
        },
        "outputId": "6e6e7768-6dbf-4ab4-b55e-ec3caa34aaa3",
        "id": "i2wfSZt_kdPC"
      },
      "execution_count": 18,
      "outputs": [
        {
          "output_type": "stream",
          "name": "stdout",
          "text": [
            "FPGA will see a design failure every 61.2078058303423 days\n"
          ]
        }
      ]
    },
    {
      "cell_type": "code",
      "source": [
        "labels = 'CRAM', 'BRAM', 'SLR', 'Counter','DSP','GTH','IOB','PLL','MMCM','SEFI'\n",
        "sizes = [CRAM_design_day, BRAM_design_day, SLR_design_day, CNT_design_day,DSP_design_day,\\\n",
        "         GTH_design_day,IOB_design_day,PLL_design_day,MMCM_design_day,SEFI_design_day]\n",
        "\n",
        "fig, ax = plt.subplots()\n",
        "ax.pie(sizes, labels=labels, autopct='%1.1f%%')\n",
        "plt.show()"
      ],
      "metadata": {
        "colab": {
          "base_uri": "https://localhost:8080/",
          "height": 406
        },
        "outputId": "b26df308-b894-49ec-d236-6c5f9bc84176",
        "id": "6yoc4XEjkdPC"
      },
      "execution_count": 19,
      "outputs": [
        {
          "output_type": "display_data",
          "data": {
            "text/plain": [
              "<Figure size 640x480 with 1 Axes>"
            ],
            "image/png": "[encoded data removed]"
          },
          "metadata": {}
        }
      ]
    },
    {
      "cell_type": "markdown",
      "source": [
        "## Mitigated Design"
      ],
      "metadata": {
        "id": "h82Dtpz2kdPC"
      }
    },
    {
      "cell_type": "markdown",
      "source": [
        "New TMR design!\n",
        "Assumptions:\n",
        "*   CRAM Senstivity reported with random fault injeciton\n",
        "*   BRAM:\n",
        "  * Ignore unused BRAMs with feauters not tested\n",
        "  * Ignore FIFO BRAMs with data in flight\n",
        "  * Estimated a 50% \"senstivity\" for operation BRAMs, but could be different\n",
        "    * difficult to simulate for more detailed analysis\n",
        "  * add an additional 4.12E-3 sensitivity for BRAM (see Apendix)\n",
        "* Everything else based on utilization\n",
        "  * assume TMR protects SLR, CNT, & DSPs"
      ],
      "metadata": {
        "id": "W-xLxSwZkdPC"
      }
    },
    {
      "cell_type": "code",
      "source": [
        "CRAM_senstivity = .00039\n",
        "nFIFO_BRAM = .2076\n",
        "SLR_util = .03 #Assume non-zero\n",
        "CNT_util = .03 #Assume non-zero\n",
        "DSP_util = .0162\n",
        "GTH_util = 0 # Not used\n",
        "IOB_util = 64 /620 # UART only\n",
        "PLL_util = 0 / 24 # Not used\n",
        "MMCM_util = 1 / 12"
      ],
      "metadata": {
        "id": "2hTE6SvYkdPC"
      },
      "execution_count": 20,
      "outputs": []
    },
    {
      "cell_type": "code",
      "source": [
        "BRAM_senstivity_estimate = 0.5\n",
        "BRAM_TMR_senstivity_estiamte = 0.00411983113735914\n",
        "TMR_protected = 0\n",
        "\n",
        "CRAM_design_day = CRAM_device_day * CRAM_senstivity\n",
        "BRAM_design_day = BRAM_device_day * nFIFO_BRAM * BRAM_senstivity_estimate * BRAM_TMR_senstivity_estiamte\n",
        "SLR_design_day  = SLR_device_day * SLR_util * TMR_protected\n",
        "CNT_design_day  = CNT_device_day * CNT_util * TMR_protected\n",
        "DSP_design_day  = DSP_device_day * DSP_util * TMR_protected\n",
        "GTH_design_day  = GTH_device_day * GTH_util\n",
        "IOB_design_day  = IOB_device_day * IOB_util\n",
        "PLL_design_day  = PLL_device_day * PLL_util\n",
        "MMCM_design_day = MMCM_device_day * MMCM_util\n",
        "SEFI_design_day = SEFI_device_day"
      ],
      "metadata": {
        "id": "C20YUm3_kdPD"
      },
      "execution_count": 21,
      "outputs": []
    },
    {
      "cell_type": "code",
      "source": [
        "Full_design_day = CRAM_design_day + BRAM_design_day + SLR_design_day + CNT_design_day + DSP_design_day \\\n",
        "                + GTH_design_day + IOB_design_day + PLL_design_day + MMCM_design_day + SEFI_design_day\n",
        "print(\"FPGA will see a design failure every {0} Year\".format(1/Full_design_day/365.25))\n",
        "TMR_GEO_MTTF = 1/Full_design_day"
      ],
      "metadata": {
        "colab": {
          "base_uri": "https://localhost:8080/"
        },
        "outputId": "7608c6ce-1c76-4e6a-a155-1a21f263bf3c",
        "id": "PYpMzxR3kdPD"
      },
      "execution_count": 22,
      "outputs": [
        {
          "output_type": "stream",
          "name": "stdout",
          "text": [
            "FPGA will see a design failure every 2.450636114889419 Year\n"
          ]
        }
      ]
    },
    {
      "cell_type": "code",
      "source": [
        "labels = 'CRAM', 'BRAM', 'SLR', 'Counter','DSP','GTH','IOB','PLL','MMCM','SEFI'\n",
        "sizes = [CRAM_design_day, BRAM_design_day, SLR_design_day, CNT_design_day,DSP_design_day,\\\n",
        "         GTH_design_day,IOB_design_day,PLL_design_day,MMCM_design_day,SEFI_design_day]\n",
        "\n",
        "fig, ax = plt.subplots()\n",
        "ax.pie(sizes, labels=labels, autopct='%1.1f%%')\n",
        "plt.show()"
      ],
      "metadata": {
        "colab": {
          "base_uri": "https://localhost:8080/",
          "height": 406
        },
        "outputId": "725ee059-accb-4479-be3d-c9eff657ab8e",
        "id": "v5CoTC7WkdPD"
      },
      "execution_count": 23,
      "outputs": [
        {
          "output_type": "display_data",
          "data": {
            "text/plain": [
              "<Figure size 640x480 with 1 Axes>"
            ],
            "image/png": "[encoded data removed]"
          },
          "metadata": {}
        }
      ]
    },
    {
      "cell_type": "markdown",
      "source": [
        "## Compare to Radiation Data"
      ],
      "metadata": {
        "id": "lXXgRIztkdPD"
      }
    },
    {
      "cell_type": "markdown",
      "source": [
        "<figure>\n",
        "    <img src=\"https://d3i71xaburhd42.cloudfront.net/6f34b7eba74d2e2460e3af1f3edd310d8492b93f/4-Figure5-1.png\"\n",
        "    width=\"350\"\n",
        "    alt=\"VexRiscv LiteX Rad Test\">\n",
        "    <figcaption>Caption Goes Here</figcaption>\n",
        "</figure>"
      ],
      "metadata": {
        "id": "bGBmPJzgHjbV"
      }
    },
    {
      "cell_type": "code",
      "source": [
        "nTMR_NEU_MTTF = 1/ 2.09E-09 # 1/ cross-section\n",
        "TMR_NEU_MTTF = 1 / 1.42E-10 # 1/ cross-section"
      ],
      "metadata": {
        "id": "5HbULuVCkdPE"
      },
      "execution_count": 24,
      "outputs": []
    },
    {
      "cell_type": "code",
      "source": [
        "GEO_improvement = TMR_GEO_MTTF/nTMR_GEO_MTTF\n",
        "NEU_improvement = TMR_NEU_MTTF/nTMR_NEU_MTTF\n",
        "print(GEO_improvement,NEU_improvement)"
      ],
      "metadata": {
        "colab": {
          "base_uri": "https://localhost:8080/"
        },
        "outputId": "54d6bc2a-9a37-4883-8820-e15710947d76",
        "id": "aJhlrQXykdPE"
      },
      "execution_count": 25,
      "outputs": [
        {
          "output_type": "stream",
          "name": "stdout",
          "text": [
            "14.62386747606036 14.71830985915493\n"
          ]
        }
      ]
    },
    {
      "cell_type": "code",
      "source": [
        "nTMR_processor_count = 1\n",
        "TMR_processor_count = 1\n",
        "nTMR_norm_perf = 1\n",
        "TMR_norm_perf = 0.81\n",
        "\n",
        "nTMR_GEO_MWBF = nTMR_GEO_MTTF * nTMR_processor_count * nTMR_norm_perf\n",
        "TMR_GEO_MWBF = TMR_GEO_MTTF * TMR_processor_count * TMR_norm_perf\n",
        "\n",
        "nTMR_NEU_MWBF = nTMR_NEU_MTTF * nTMR_processor_count * nTMR_norm_perf\n",
        "TMR_NEU_MWBF = TMR_NEU_MTTF * TMR_processor_count * TMR_norm_perf\n",
        "\n",
        "GEO_improvement = TMR_GEO_MWBF/nTMR_GEO_MWBF\n",
        "NEU_improvement = TMR_NEU_MWBF/nTMR_NEU_MWBF\n",
        "print(GEO_improvement,NEU_improvement)"
      ],
      "metadata": {
        "colab": {
          "base_uri": "https://localhost:8080/"
        },
        "id": "aWSHLPLZl7h8",
        "outputId": "84f012d9-ebba-421a-af09-5b6025112cc5"
      },
      "execution_count": 26,
      "outputs": [
        {
          "output_type": "stream",
          "name": "stdout",
          "text": [
            "11.845332655608892 11.921830985915493\n"
          ]
        }
      ]
    },
    {
      "cell_type": "markdown",
      "source": [
        "### Publication for more info: [IEEE](https://ieeexplore.ieee.org/document/9386126)"
      ],
      "metadata": {
        "id": "Gllurw5MPzNY"
      }
    },
    {
      "cell_type": "markdown",
      "source": [
        "# Bitstream Fault Analysis"
      ],
      "metadata": {
        "id": "OZx8klg1NkUH"
      }
    },
    {
      "cell_type": "markdown",
      "source": [
        "Small Introduction with pic!"
      ],
      "metadata": {
        "id": "uovw_VcaNoRp"
      }
    },
    {
      "cell_type": "markdown",
      "source": [
        "<figure>\n",
        "    <img src=\"https://d3i71xaburhd42.cloudfront.net/6f34b7eba74d2e2460e3af1f3edd310d8492b93f/6-Figure7-1.png\"\n",
        "    width=\"450\"\n",
        "    alt=\"BFAT Flow\">\n",
        "    <figcaption>Caption Goes Here</figcaption>\n",
        "</figure>"
      ],
      "metadata": {
        "id": "Ulk-KmIlNrEY"
      }
    },
    {
      "cell_type": "markdown",
      "source": [
        "BFAT Examples:\n",
        "\n",
        "[Embedded Proccessor](https://github.com/AEW2015/fpga-colab/blob/main/FIG/digilent_arty/digilent_arty_BFAT.ipynb)\n",
        "\n",
        "[Litex Example](https://github.com/AEW2015/fpga-colab/blob/main/BFAT_Litex_example.ipynb)"
      ],
      "metadata": {
        "id": "FrsHumWrQg0k"
      }
    },
    {
      "cell_type": "markdown",
      "source": [
        "<figure>\n",
        "    <img src=\"https://d3i71xaburhd42.cloudfront.net/6f34b7eba74d2e2460e3af1f3edd310d8492b93f/8-Table4-1.png\"\n",
        "    width=\"450\"\n",
        "    alt=\"BFAT Flow\">\n",
        "    <figcaption>Caption Goes Here</figcaption>\n",
        "</figure>"
      ],
      "metadata": {
        "id": "OhlpZyozOFSp"
      }
    },
    {
      "cell_type": "markdown",
      "source": [
        "<figure>\n",
        "    <img src=\"https://d3i71xaburhd42.cloudfront.net/6f34b7eba74d2e2460e3af1f3edd310d8492b93f/9-Figure11-1.png\"\n",
        "    width=\"750\"\n",
        "    alt=\"BFAT Flow\">\n",
        "    <figcaption>Caption Goes Here</figcaption>\n",
        "</figure>"
      ],
      "metadata": {
        "id": "_M4diSufRBAY"
      }
    },
    {
      "cell_type": "markdown",
      "source": [
        "### Publication for more info: [ACM](https://dl.acm.org/doi/10.1145/3543622.3573191)"
      ],
      "metadata": {
        "id": "EY0eWo_VP4E6"
      }
    },
    {
      "cell_type": "markdown",
      "source": [
        "# TMR with Placement guides\n"
      ],
      "metadata": {
        "id": "qxTlLhlrlY8X"
      }
    },
    {
      "cell_type": "markdown",
      "source": [
        "## Design Failures"
      ],
      "metadata": {
        "id": "9dAoZdEUlY8X"
      }
    },
    {
      "cell_type": "markdown",
      "source": [
        "What is the design?"
      ],
      "metadata": {
        "id": "VOg6A9ZblY8X"
      }
    },
    {
      "cell_type": "markdown",
      "source": [
        "Assumptions:\n",
        "*   CRAM Senstivity reported with random fault injeciton\n",
        "*   BRAM:\n",
        "  * Ignore unused BRAMs with feauters not tested\n",
        "  * Ignore FIFO BRAMs with data in flight\n",
        "  * Estimated a 50% \"senstivity\" for operation BRAMs, but could be different\n",
        "    * difficult to simulate for more detailed analysis\n",
        "* Everything else based on utilization\n",
        "\n"
      ],
      "metadata": {
        "id": "1BIk6eaTlY8X"
      }
    },
    {
      "cell_type": "code",
      "source": [
        "CRAM_senstivity = .0057\n",
        "nFIFO_BRAM = .0692\n",
        "SLR_util = .01 #Assume non-zero\n",
        "CNT_util = .01 #Assume non-zero\n",
        "DSP_util = .0054\n",
        "GTH_util = 0 # Not used\n",
        "IOB_util = 64 /620 # UART only\n",
        "PLL_util = 0 / 24 # Not used\n",
        "MMCM_util = 1 / 12"
      ],
      "metadata": {
        "id": "l4XKvZctlY8X"
      },
      "execution_count": 27,
      "outputs": []
    },
    {
      "cell_type": "code",
      "source": [
        "BRAM_senstivity_estimate = 0.5\n",
        "CRAM_design_day = CRAM_device_day * CRAM_senstivity\n",
        "BRAM_design_day = BRAM_device_day * nFIFO_BRAM * BRAM_senstivity_estimate\n",
        "SLR_design_day  = SLR_device_day * SLR_util\n",
        "CNT_design_day  = CNT_device_day * CNT_util\n",
        "DSP_design_day  = DSP_device_day * DSP_util\n",
        "GTH_design_day  = GTH_device_day * GTH_util\n",
        "IOB_design_day  = IOB_device_day * IOB_util\n",
        "PLL_design_day  = PLL_device_day * PLL_util\n",
        "MMCM_design_day = MMCM_device_day * MMCM_util\n",
        "SEFI_design_day = SEFI_device_day"
      ],
      "metadata": {
        "id": "sWucmJNulY8Y"
      },
      "execution_count": 28,
      "outputs": []
    },
    {
      "cell_type": "code",
      "source": [
        "Full_design_day = CRAM_design_day + BRAM_design_day + SLR_design_day + CNT_design_day + DSP_design_day \\\n",
        "                + GTH_design_day + IOB_design_day + PLL_design_day + MMCM_design_day + SEFI_design_day\n",
        "print(\"FPGA will see a design failure every {0} days\".format(1/Full_design_day))\n",
        "nTMR_GEO_MTTF = 1/Full_design_day"
      ],
      "metadata": {
        "colab": {
          "base_uri": "https://localhost:8080/"
        },
        "outputId": "840e0fa7-84de-4e54-eee2-e99241368579",
        "id": "TvQc1RBtlY8Y"
      },
      "execution_count": 29,
      "outputs": [
        {
          "output_type": "stream",
          "name": "stdout",
          "text": [
            "FPGA will see a design failure every 61.2078058303423 days\n"
          ]
        }
      ]
    },
    {
      "cell_type": "code",
      "source": [
        "labels = 'CRAM', 'BRAM', 'SLR', 'Counter','DSP','GTH','IOB','PLL','MMCM','SEFI'\n",
        "sizes = [CRAM_design_day, BRAM_design_day, SLR_design_day, CNT_design_day,DSP_design_day,\\\n",
        "         GTH_design_day,IOB_design_day,PLL_design_day,MMCM_design_day,SEFI_design_day]\n",
        "\n",
        "fig, ax = plt.subplots()\n",
        "ax.pie(sizes, labels=labels, autopct='%1.1f%%')\n",
        "plt.show()"
      ],
      "metadata": {
        "colab": {
          "base_uri": "https://localhost:8080/",
          "height": 0
        },
        "outputId": "7724de7e-6b64-473b-f55d-d6521d4d3ece",
        "id": "rsATbTwylY8Y"
      },
      "execution_count": 30,
      "outputs": [
        {
          "output_type": "display_data",
          "data": {
            "text/plain": [
              "<Figure size 640x480 with 1 Axes>"
            ],
            "image/png": "[encoded data removed]"
          },
          "metadata": {}
        }
      ]
    },
    {
      "cell_type": "markdown",
      "source": [
        "## Mitigated Design"
      ],
      "metadata": {
        "id": "5sayi6eJlY8Y"
      }
    },
    {
      "cell_type": "markdown",
      "source": [
        "Need image here...\n"
      ],
      "metadata": {
        "id": "FNChrT9FOaRa"
      }
    },
    {
      "cell_type": "markdown",
      "source": [],
      "metadata": {
        "id": "4ZzG2JmEOn_n"
      }
    },
    {
      "cell_type": "markdown",
      "source": [
        "New TMR design!\n",
        "Assumptions:\n",
        "*   CRAM Senstivity reported with random fault injeciton\n",
        "*   BRAM:\n",
        "  * Ignore unused BRAMs with feauters not tested\n",
        "  * Ignore FIFO BRAMs with data in flight\n",
        "  * Estimated a 50% \"senstivity\" for operation BRAMs, but could be different\n",
        "    * difficult to simulate for more detailed analysis\n",
        "  * add an additional 4.12E-3 sensitivity for BRAM (see Apendix)\n",
        "* Everything else based on utilization\n",
        "  * assume TMR protects SLR, CNT, & DSPs"
      ],
      "metadata": {
        "id": "Zpwcnj3ClY8Z"
      }
    },
    {
      "cell_type": "code",
      "source": [
        "CRAM_senstivity = .00013\n",
        "nFIFO_BRAM = .2076\n",
        "SLR_util = .03 #Assume non-zero\n",
        "CNT_util = .03 #Assume non-zero\n",
        "DSP_util = .0162\n",
        "GTH_util = 0 # Not used\n",
        "IOB_util = 64 /620 # UART only\n",
        "PLL_util = 0 / 24 # Not used\n",
        "MMCM_util = 1 / 12"
      ],
      "metadata": {
        "id": "7igJdefslY8Z"
      },
      "execution_count": 31,
      "outputs": []
    },
    {
      "cell_type": "code",
      "source": [
        "BRAM_senstivity_estimate = 0.5\n",
        "BRAM_TMR_senstivity_estiamte = 0.00411983113735914\n",
        "TMR_protected = 0\n",
        "\n",
        "CRAM_design_day = CRAM_device_day * CRAM_senstivity\n",
        "BRAM_design_day = BRAM_device_day * nFIFO_BRAM * BRAM_senstivity_estimate * BRAM_TMR_senstivity_estiamte\n",
        "SLR_design_day  = SLR_device_day * SLR_util * TMR_protected\n",
        "CNT_design_day  = CNT_device_day * CNT_util * TMR_protected\n",
        "DSP_design_day  = DSP_device_day * DSP_util * TMR_protected\n",
        "GTH_design_day  = GTH_device_day * GTH_util\n",
        "IOB_design_day  = IOB_device_day * IOB_util\n",
        "PLL_design_day  = PLL_device_day * PLL_util\n",
        "MMCM_design_day = MMCM_device_day * MMCM_util\n",
        "SEFI_design_day = SEFI_device_day"
      ],
      "metadata": {
        "id": "ar75c9iClY8Z"
      },
      "execution_count": 32,
      "outputs": []
    },
    {
      "cell_type": "code",
      "source": [
        "Full_design_day = CRAM_design_day + BRAM_design_day + SLR_design_day + CNT_design_day + DSP_design_day \\\n",
        "                + GTH_design_day + IOB_design_day + PLL_design_day + MMCM_design_day + SEFI_design_day\n",
        "print(\"FPGA will see a design failure every {0} Year\".format(1/Full_design_day/365.25))\n",
        "TMR_GEO_MTTF = 1/Full_design_day"
      ],
      "metadata": {
        "colab": {
          "base_uri": "https://localhost:8080/"
        },
        "outputId": "4283ae58-911a-4113-9b16-b111e61b5e33",
        "id": "aREQw41JlY8Z"
      },
      "execution_count": 33,
      "outputs": [
        {
          "output_type": "stream",
          "name": "stdout",
          "text": [
            "FPGA will see a design failure every 3.0501286701350017 Year\n"
          ]
        }
      ]
    },
    {
      "cell_type": "code",
      "source": [
        "labels = 'CRAM', 'BRAM', 'SLR', 'Counter','DSP','GTH','IOB','PLL','MMCM','SEFI'\n",
        "sizes = [CRAM_design_day, BRAM_design_day, SLR_design_day, CNT_design_day,DSP_design_day,\\\n",
        "         GTH_design_day,IOB_design_day,PLL_design_day,MMCM_design_day,SEFI_design_day]\n",
        "\n",
        "fig, ax = plt.subplots()\n",
        "ax.pie(sizes, labels=labels, autopct='%1.1f%%')\n",
        "plt.show()"
      ],
      "metadata": {
        "colab": {
          "base_uri": "https://localhost:8080/",
          "height": 406
        },
        "outputId": "b3988246-0cc7-4504-c734-f43d69379ba5",
        "id": "ifXTKexplY8Z"
      },
      "execution_count": 34,
      "outputs": [
        {
          "output_type": "display_data",
          "data": {
            "text/plain": [
              "<Figure size 640x480 with 1 Axes>"
            ],
            "image/png": "[encoded data removed]"
          },
          "metadata": {}
        }
      ]
    },
    {
      "cell_type": "markdown",
      "source": [
        "## Compare to Radiation Data"
      ],
      "metadata": {
        "id": "wAOGh2azlY8a"
      }
    },
    {
      "cell_type": "markdown",
      "source": [
        "<figure>\n",
        "    <img src=\"https://ccl.byu.edu/images/news_2022/lansce_experiments.jpg\"\n",
        "    width=\"750\"\n",
        "    alt=\"VexRiscv LiteX Par Rad Test\">\n",
        "    <figcaption>Caption Goes Here</figcaption>\n",
        "</figure>"
      ],
      "metadata": {
        "id": "YHo1WrFfGtDi"
      }
    },
    {
      "cell_type": "code",
      "source": [
        "nTMR_NEU_MTTF = 1/ 2.59E-09 # 1/ cross-section\n",
        "TMR_NEU_MTTF = 1 / 1.14E-10 # 1/ cross-section"
      ],
      "metadata": {
        "id": "XG50gCeolY8a"
      },
      "execution_count": 35,
      "outputs": []
    },
    {
      "cell_type": "code",
      "source": [
        "GEO_improvement = TMR_GEO_MTTF/nTMR_GEO_MTTF\n",
        "NEU_improvement = TMR_NEU_MTTF/nTMR_NEU_MTTF\n",
        "print(GEO_improvement,NEU_improvement)"
      ],
      "metadata": {
        "colab": {
          "base_uri": "https://localhost:8080/"
        },
        "outputId": "3e4e4777-21eb-4c9b-9a7b-9ce0a07eb9ba",
        "id": "7qu7tkNklY8a"
      },
      "execution_count": 36,
      "outputs": [
        {
          "output_type": "stream",
          "name": "stdout",
          "text": [
            "18.201265045422378 22.719298245614034\n"
          ]
        }
      ]
    },
    {
      "cell_type": "code",
      "source": [
        "nTMR_processor_count = 1\n",
        "TMR_processor_count = 1\n",
        "nTMR_norm_perf = 1\n",
        "TMR_norm_perf = 0.81\n",
        "\n",
        "nTMR_GEO_MWBF = nTMR_GEO_MTTF * nTMR_processor_count * nTMR_norm_perf\n",
        "TMR_GEO_MWBF = TMR_GEO_MTTF * TMR_processor_count * TMR_norm_perf\n",
        "\n",
        "nTMR_NEU_MWBF = nTMR_NEU_MTTF * nTMR_processor_count * nTMR_norm_perf\n",
        "TMR_NEU_MWBF = TMR_NEU_MTTF * TMR_processor_count * TMR_norm_perf\n",
        "\n",
        "GEO_improvement = TMR_GEO_MWBF/nTMR_GEO_MWBF\n",
        "NEU_improvement = TMR_NEU_MWBF/nTMR_NEU_MWBF\n",
        "print(GEO_improvement,NEU_improvement)"
      ],
      "metadata": {
        "colab": {
          "base_uri": "https://localhost:8080/"
        },
        "id": "vcH9lnjgmHNN",
        "outputId": "ec5916cf-0a06-49e9-e46a-4b47324e4cf7"
      },
      "execution_count": 37,
      "outputs": [
        {
          "output_type": "stream",
          "name": "stdout",
          "text": [
            "14.743024686792127 18.40263157894737\n"
          ]
        }
      ]
    },
    {
      "cell_type": "code",
      "source": [],
      "metadata": {
        "id": "o4_XIKTQmKvy"
      },
      "execution_count": 37,
      "outputs": []
    },
    {
      "cell_type": "markdown",
      "source": [
        "# TMR with DDR EDAC\n"
      ],
      "metadata": {
        "id": "yF9hl_V4mYRh"
      }
    },
    {
      "cell_type": "markdown",
      "source": [
        "<figure>\n",
        "    <img src=\"https://antmicro.com/images/05-09-01-lpddr4-hero.png\"\n",
        "    width=\"750\"\n",
        "    alt=\"VexRiscv LiteX Par Rad Test\">\n",
        "    <figcaption>Caption Goes Here</figcaption>\n",
        "</figure>"
      ],
      "metadata": {
        "id": "uUs4oppDH-rA"
      }
    },
    {
      "cell_type": "markdown",
      "source": [
        "## Design Failures"
      ],
      "metadata": {
        "id": "na3o5_R-mYRh"
      }
    },
    {
      "cell_type": "markdown",
      "source": [
        "What is the design?"
      ],
      "metadata": {
        "id": "tscwPbtNmYRi"
      }
    },
    {
      "cell_type": "markdown",
      "source": [
        "Assumptions:\n",
        "*   CRAM Senstivity reported with random fault injeciton\n",
        "*   BRAM:\n",
        "  * Ignore unused BRAMs with feauters not tested\n",
        "  * Ignore FIFO BRAMs with data in flight\n",
        "  * Estimated a 50% \"senstivity\" for operation BRAMs, but could be different\n",
        "    * difficult to simulate for more detailed analysis\n",
        "* Everything else based on utilization\n",
        "\n"
      ],
      "metadata": {
        "id": "I48NTjNsmYRi"
      }
    },
    {
      "cell_type": "code",
      "source": [
        "CRAM_senstivity = .01274\n",
        "nFIFO_BRAM = .0692\n",
        "SLR_util = .01 #Assume non-zero\n",
        "CNT_util = .01 #Assume non-zero\n",
        "DSP_util = .0067\n",
        "GTH_util = 0 # Not used\n",
        "IOB_util = 138 /620 # UART only\n",
        "PLL_util = 1 / 24 # Not used\n",
        "MMCM_util = 0 / 12"
      ],
      "metadata": {
        "id": "V8LXYLBBmYRi"
      },
      "execution_count": 38,
      "outputs": []
    },
    {
      "cell_type": "code",
      "source": [
        "BRAM_senstivity_estimate = 0.5\n",
        "CRAM_design_day = CRAM_device_day * CRAM_senstivity\n",
        "BRAM_design_day = BRAM_device_day * nFIFO_BRAM * BRAM_senstivity_estimate\n",
        "SLR_design_day  = SLR_device_day * SLR_util\n",
        "CNT_design_day  = CNT_device_day * CNT_util\n",
        "DSP_design_day  = DSP_device_day * DSP_util\n",
        "GTH_design_day  = GTH_device_day * GTH_util\n",
        "IOB_design_day  = IOB_device_day * IOB_util\n",
        "PLL_design_day  = PLL_device_day * PLL_util\n",
        "MMCM_design_day = MMCM_device_day * MMCM_util\n",
        "SEFI_design_day = SEFI_device_day"
      ],
      "metadata": {
        "id": "VU8yG4yomYRi"
      },
      "execution_count": 39,
      "outputs": []
    },
    {
      "cell_type": "code",
      "source": [
        "Full_design_day = CRAM_design_day + BRAM_design_day + SLR_design_day + CNT_design_day + DSP_design_day \\\n",
        "                + GTH_design_day + IOB_design_day + PLL_design_day + MMCM_design_day + SEFI_design_day\n",
        "print(\"FPGA will see a design failure every {0} days\".format(1/Full_design_day))\n",
        "nTMR_GEO_MTTF = 1/Full_design_day"
      ],
      "metadata": {
        "colab": {
          "base_uri": "https://localhost:8080/"
        },
        "outputId": "366a779d-02ea-420e-90dd-3b7ae39b6520",
        "id": "Y_eyb2wEmYRi"
      },
      "execution_count": 40,
      "outputs": [
        {
          "output_type": "stream",
          "name": "stdout",
          "text": [
            "FPGA will see a design failure every 44.416831373210684 days\n"
          ]
        }
      ]
    },
    {
      "cell_type": "code",
      "source": [
        "labels = 'CRAM', 'BRAM', 'SLR', 'Counter','DSP','GTH','IOB','PLL','MMCM','SEFI'\n",
        "sizes = [CRAM_design_day, BRAM_design_day, SLR_design_day, CNT_design_day,DSP_design_day,\\\n",
        "         GTH_design_day,IOB_design_day,PLL_design_day,MMCM_design_day,SEFI_design_day]\n",
        "\n",
        "fig, ax = plt.subplots()\n",
        "ax.pie(sizes, labels=labels, autopct='%1.1f%%')\n",
        "plt.show()"
      ],
      "metadata": {
        "colab": {
          "base_uri": "https://localhost:8080/",
          "height": 406
        },
        "outputId": "83da1bf7-1b60-4392-e4f6-b3b98c21325f",
        "id": "uagPN-Y_mYRi"
      },
      "execution_count": 41,
      "outputs": [
        {
          "output_type": "display_data",
          "data": {
            "text/plain": [
              "<Figure size 640x480 with 1 Axes>"
            ],
            "image/png": "[encoded data removed]"
          },
          "metadata": {}
        }
      ]
    },
    {
      "cell_type": "markdown",
      "source": [
        "## Mitigated Design"
      ],
      "metadata": {
        "id": "l0DqCuNdmYRj"
      }
    },
    {
      "cell_type": "markdown",
      "source": [
        "New TMR design!\n",
        "Assumptions:\n",
        "*   CRAM Senstivity reported with random fault injeciton\n",
        "*   BRAM:\n",
        "  * Ignore unused BRAMs with feauters not tested\n",
        "  * Ignore FIFO BRAMs with data in flight\n",
        "  * Estimated a 50% \"senstivity\" for operation BRAMs, but could be different\n",
        "    * difficult to simulate for more detailed analysis\n",
        "  * add an additional 4.12E-3 sensitivity for BRAM (see Apendix)\n",
        "* Everything else based on utilization\n",
        "  * assume TMR protects SLR, CNT, & DSPs"
      ],
      "metadata": {
        "id": "OCj2FiE1mYRj"
      }
    },
    {
      "cell_type": "code",
      "source": [
        "CRAM_senstivity = .00035\n",
        "nFIFO_BRAM = .2076\n",
        "SLR_util = .03 #Assume non-zero\n",
        "CNT_util = .03 #Assume non-zero\n",
        "DSP_util = .0301\n",
        "GTH_util = 0 # Not used\n",
        "IOB_util = 75 /620 # UART only\n",
        "PLL_util = 1 / 24 # Not used\n",
        "MMCM_util = 0 / 12"
      ],
      "metadata": {
        "id": "uQu_6N7kmYRj"
      },
      "execution_count": 42,
      "outputs": []
    },
    {
      "cell_type": "code",
      "source": [
        "BRAM_senstivity_estimate = 0.5\n",
        "BRAM_TMR_senstivity_estiamte = 0.00411983113735914\n",
        "TMR_protected = 0\n",
        "\n",
        "CRAM_design_day = CRAM_device_day * CRAM_senstivity\n",
        "BRAM_design_day = BRAM_device_day * nFIFO_BRAM * BRAM_senstivity_estimate * BRAM_TMR_senstivity_estiamte\n",
        "SLR_design_day  = SLR_device_day * SLR_util * TMR_protected\n",
        "CNT_design_day  = CNT_device_day * CNT_util * TMR_protected\n",
        "DSP_design_day  = DSP_device_day * DSP_util * TMR_protected\n",
        "GTH_design_day  = GTH_device_day * GTH_util\n",
        "IOB_design_day  = IOB_device_day * IOB_util\n",
        "PLL_design_day  = PLL_device_day * PLL_util\n",
        "MMCM_design_day = MMCM_device_day * MMCM_util\n",
        "SEFI_design_day = SEFI_device_day"
      ],
      "metadata": {
        "id": "iH1lyglLmYRj"
      },
      "execution_count": 43,
      "outputs": []
    },
    {
      "cell_type": "code",
      "source": [
        "Full_design_day = CRAM_design_day + BRAM_design_day + SLR_design_day + CNT_design_day + DSP_design_day \\\n",
        "                + GTH_design_day + IOB_design_day + PLL_design_day + MMCM_design_day + SEFI_design_day\n",
        "print(\"FPGA will see a design failure every {0} Year\".format(1/Full_design_day/365.25))\n",
        "TMR_GEO_MTTF = 1/Full_design_day"
      ],
      "metadata": {
        "colab": {
          "base_uri": "https://localhost:8080/"
        },
        "outputId": "15c42b43-edb5-4ede-af3b-4e8e0e7fe776",
        "id": "vuFyMFjPmYRj"
      },
      "execution_count": 44,
      "outputs": [
        {
          "output_type": "stream",
          "name": "stdout",
          "text": [
            "FPGA will see a design failure every 2.45402225473117 Year\n"
          ]
        }
      ]
    },
    {
      "cell_type": "code",
      "source": [
        "labels = 'CRAM', 'BRAM', 'SLR', 'Counter','DSP','GTH','IOB','PLL','MMCM','SEFI'\n",
        "sizes = [CRAM_design_day, BRAM_design_day, SLR_design_day, CNT_design_day,DSP_design_day,\\\n",
        "         GTH_design_day,IOB_design_day,PLL_design_day,MMCM_design_day,SEFI_design_day]\n",
        "\n",
        "fig, ax = plt.subplots()\n",
        "ax.pie(sizes, labels=labels, autopct='%1.1f%%')\n",
        "plt.show()"
      ],
      "metadata": {
        "colab": {
          "base_uri": "https://localhost:8080/",
          "height": 406
        },
        "outputId": "b593001e-b579-4ee7-dea4-1dfa0824ae1d",
        "id": "mfOuiVRJmYRk"
      },
      "execution_count": 45,
      "outputs": [
        {
          "output_type": "display_data",
          "data": {
            "text/plain": [
              "<Figure size 640x480 with 1 Axes>"
            ],
            "image/png": "[encoded data removed]"
          },
          "metadata": {}
        }
      ]
    },
    {
      "cell_type": "markdown",
      "source": [
        "## Compare to Radiation Data"
      ],
      "metadata": {
        "id": "p0mpy932mYRk"
      }
    },
    {
      "cell_type": "code",
      "source": [
        "nTMR_NEU_MTTF = 1/ 3.82E-09 # 1/ cross-section\n",
        "TMR_NEU_MTTF = 1 / 1.93E-10 # 1/ cross-section"
      ],
      "metadata": {
        "id": "3i-My_2emYRk"
      },
      "execution_count": 46,
      "outputs": []
    },
    {
      "cell_type": "code",
      "source": [
        "GEO_improvement = TMR_GEO_MTTF/nTMR_GEO_MTTF\n",
        "NEU_improvement = TMR_NEU_MTTF/nTMR_NEU_MTTF\n",
        "print(GEO_improvement,NEU_improvement)"
      ],
      "metadata": {
        "colab": {
          "base_uri": "https://localhost:8080/"
        },
        "outputId": "89afa60b-e4f5-4b9a-a8e7-77ed2a1a03a7",
        "id": "O4dDDIrlmYRk"
      },
      "execution_count": 47,
      "outputs": [
        {
          "output_type": "stream",
          "name": "stdout",
          "text": [
            "20.179999356756642 19.792746113989637\n"
          ]
        }
      ]
    },
    {
      "cell_type": "code",
      "source": [
        "nTMR_processor_count = 1\n",
        "TMR_processor_count = 1\n",
        "nTMR_norm_perf = 1\n",
        "TMR_norm_perf = 0.81\n",
        "\n",
        "nTMR_GEO_MWBF = nTMR_GEO_MTTF * nTMR_processor_count * nTMR_norm_perf\n",
        "TMR_GEO_MWBF = TMR_GEO_MTTF * TMR_processor_count * TMR_norm_perf\n",
        "\n",
        "nTMR_NEU_MWBF = nTMR_NEU_MTTF * nTMR_processor_count * nTMR_norm_perf\n",
        "TMR_NEU_MWBF = TMR_NEU_MTTF * TMR_processor_count * TMR_norm_perf\n",
        "\n",
        "GEO_improvement = TMR_GEO_MWBF/nTMR_GEO_MWBF\n",
        "NEU_improvement = TMR_NEU_MWBF/nTMR_NEU_MWBF\n",
        "print(GEO_improvement,NEU_improvement)"
      ],
      "metadata": {
        "colab": {
          "base_uri": "https://localhost:8080/"
        },
        "outputId": "8b395796-cb68-4a3f-ce2c-dfedf4eac83e",
        "id": "iDfWTAHrmYRk"
      },
      "execution_count": 48,
      "outputs": [
        {
          "output_type": "stream",
          "name": "stdout",
          "text": [
            "16.345799478972882 16.032124352331607\n"
          ]
        }
      ]
    },
    {
      "cell_type": "markdown",
      "source": [
        "# Dont forget DDR Failure Rates"
      ],
      "metadata": {
        "id": "c-lTlY8YnzB9"
      }
    },
    {
      "cell_type": "markdown",
      "source": [
        "<figure>\n",
        "    <img src=\"https://www.3d-plus.com/app/uploads/2023/04/3D4D48G48LB2825.png.webp\" width=\"250\" alt=\"3Dplus Memory\">\n",
        "    <figcaption>Caption Goes Here</figcaption>\n",
        "</figure>"
      ],
      "metadata": {
        "id": "UY7SYV0_IPz0"
      }
    },
    {
      "cell_type": "markdown",
      "source": [
        "## Placement with SDRAM DDR"
      ],
      "metadata": {
        "id": "kATRVskun4Lu"
      }
    },
    {
      "cell_type": "code",
      "source": [
        "CRAM_senstivity = .00013\n",
        "nFIFO_BRAM = .2076\n",
        "SLR_util = .03 #Assume non-zero\n",
        "CNT_util = .03 #Assume non-zero\n",
        "DSP_util = .0162\n",
        "GTH_util = 0 # Not used\n",
        "IOB_util = 64 /620 # UART only\n",
        "PLL_util = 0 / 24 # Not used\n",
        "MMCM_util = 1 / 12"
      ],
      "metadata": {
        "id": "xYgfEVKtn_QE"
      },
      "execution_count": 49,
      "outputs": []
    },
    {
      "cell_type": "code",
      "source": [
        "BRAM_senstivity_estimate = 0.5\n",
        "BRAM_TMR_senstivity_estiamte = 0.00411983113735914\n",
        "TMR_protected = 0\n",
        "\n",
        "CRAM_design_day = CRAM_device_day * CRAM_senstivity\n",
        "BRAM_design_day = BRAM_device_day * nFIFO_BRAM * BRAM_senstivity_estimate * BRAM_TMR_senstivity_estiamte\n",
        "SLR_design_day  = SLR_device_day * SLR_util * TMR_protected\n",
        "CNT_design_day  = CNT_device_day * CNT_util * TMR_protected\n",
        "DSP_design_day  = DSP_device_day * DSP_util * TMR_protected\n",
        "GTH_design_day  = GTH_device_day * GTH_util\n",
        "IOB_design_day  = IOB_device_day * IOB_util\n",
        "PLL_design_day  = PLL_device_day * PLL_util\n",
        "MMCM_design_day = MMCM_device_day * MMCM_util\n",
        "SEFI_design_day = SEFI_device_day"
      ],
      "metadata": {
        "id": "FIvj_X8Kn_QF"
      },
      "execution_count": 50,
      "outputs": []
    },
    {
      "cell_type": "code",
      "source": [
        "# Example with critical charge\n",
        "DDR_bit_day = 7.0531E-12\n",
        "# Same as BRAM for quick estimate\n",
        "DDR_senstivity_estimate = 0.5\n",
        "# go for 16GB\n",
        "DDR_device_day = 1024 * 1024 * 1024 * 16 * DDR_bit_day * DDR_senstivity_estimate"
      ],
      "metadata": {
        "id": "c7h1fZREoDiH"
      },
      "execution_count": 51,
      "outputs": []
    },
    {
      "cell_type": "code",
      "source": [
        "Full_design_day = CRAM_design_day + BRAM_design_day + SLR_design_day + CNT_design_day + DSP_design_day \\\n",
        "                + GTH_design_day + IOB_design_day + PLL_design_day + MMCM_design_day + SEFI_design_day + DDR_device_day\n",
        "print(\"FPGA will see a design failure every {0} days\".format(1/Full_design_day))\n",
        "TMR_GEO_MTTF = 1/Full_design_day"
      ],
      "metadata": {
        "colab": {
          "base_uri": "https://localhost:8080/"
        },
        "outputId": "dee25840-fdda-4386-c4c2-8a3eb52af8c3",
        "id": "1keVrEfcn_QF"
      },
      "execution_count": 52,
      "outputs": [
        {
          "output_type": "stream",
          "name": "stdout",
          "text": [
            "FPGA will see a design failure every 16.264582918866775 days\n"
          ]
        }
      ]
    },
    {
      "cell_type": "code",
      "source": [
        "labels = 'CRAM', 'BRAM', 'SLR', 'Counter','DSP','GTH','IOB','PLL','MMCM','SEFI','DDR'\n",
        "sizes = [CRAM_design_day, BRAM_design_day, SLR_design_day, CNT_design_day,DSP_design_day,\\\n",
        "         GTH_design_day,IOB_design_day,PLL_design_day,MMCM_design_day,SEFI_design_day,DDR_device_day]\n",
        "\n",
        "fig, ax = plt.subplots()\n",
        "ax.pie(sizes, labels=labels, autopct='%1.1f%%')\n",
        "plt.show()"
      ],
      "metadata": {
        "colab": {
          "base_uri": "https://localhost:8080/",
          "height": 406
        },
        "outputId": "26af8015-ce45-4ba8-efc2-56a61f1eda02",
        "id": "seLkTBYLn_QF"
      },
      "execution_count": 53,
      "outputs": [
        {
          "output_type": "display_data",
          "data": {
            "text/plain": [
              "<Figure size 640x480 with 1 Axes>"
            ],
            "image/png": "[encoded data removed]"
          },
          "metadata": {}
        }
      ]
    },
    {
      "cell_type": "markdown",
      "source": [
        "## DDR ECC with SDRAM DDR"
      ],
      "metadata": {
        "id": "KrrKcrU5pxOX"
      }
    },
    {
      "cell_type": "code",
      "source": [
        "CRAM_senstivity = .00035\n",
        "nFIFO_BRAM = .2076\n",
        "SLR_util = .03 #Assume non-zero\n",
        "CNT_util = .03 #Assume non-zero\n",
        "DSP_util = .0301\n",
        "GTH_util = 0 # Not used\n",
        "IOB_util = 75 /620 # UART only\n",
        "PLL_util = 1 / 24 # Not used\n",
        "MMCM_util = 0 / 12"
      ],
      "metadata": {
        "id": "KVJIsauup38g"
      },
      "execution_count": 54,
      "outputs": []
    },
    {
      "cell_type": "code",
      "source": [
        "BRAM_senstivity_estimate = 0.5\n",
        "BRAM_TMR_senstivity_estiamte = 0.00411983113735914\n",
        "TMR_protected = 0\n",
        "\n",
        "CRAM_design_day = CRAM_device_day * CRAM_senstivity\n",
        "BRAM_design_day = BRAM_device_day * nFIFO_BRAM * BRAM_senstivity_estimate * BRAM_TMR_senstivity_estiamte\n",
        "SLR_design_day  = SLR_device_day * SLR_util * TMR_protected\n",
        "CNT_design_day  = CNT_device_day * CNT_util * TMR_protected\n",
        "DSP_design_day  = DSP_device_day * DSP_util * TMR_protected\n",
        "GTH_design_day  = GTH_device_day * GTH_util\n",
        "IOB_design_day  = IOB_device_day * IOB_util\n",
        "PLL_design_day  = PLL_device_day * PLL_util\n",
        "MMCM_design_day = MMCM_device_day * MMCM_util\n",
        "SEFI_design_day = SEFI_device_day"
      ],
      "metadata": {
        "id": "OXhbI67Dp38g"
      },
      "execution_count": 55,
      "outputs": []
    },
    {
      "cell_type": "code",
      "source": [
        "# Example with critical charge\n",
        "DDR_bit_day = 7.0531E-12\n",
        "# Same as BRAM for quick estimate\n",
        "DDR_senstivity_estimate = 0.5\n",
        "# Simple ECC estimate (same as BRAM TMR), but probably much better\n",
        "DDR_ECC_senstivity_estiamte = 0.00411983113735914\n",
        "# go for 16GB\n",
        "DDR_device_day = 1024 * 1024 * 1024 * 16 * DDR_bit_day * DDR_senstivity_estimate * DDR_ECC_senstivity_estiamte"
      ],
      "metadata": {
        "id": "ubTWFsISp5t4"
      },
      "execution_count": 56,
      "outputs": []
    },
    {
      "cell_type": "code",
      "source": [
        "Full_design_day = CRAM_design_day + BRAM_design_day + SLR_design_day + CNT_design_day + DSP_design_day \\\n",
        "                + GTH_design_day + IOB_design_day + PLL_design_day + MMCM_design_day + SEFI_design_day + DDR_device_day\n",
        "print(\"FPGA will see a design failure every {0} years\".format(1/Full_design_day/365.25))\n",
        "TMR_GEO_MTTF = 1/Full_design_day"
      ],
      "metadata": {
        "colab": {
          "base_uri": "https://localhost:8080/"
        },
        "outputId": "88f19332-d112-4f1c-baec-89d2766faa85",
        "id": "nR3y_Z62p38g"
      },
      "execution_count": 57,
      "outputs": [
        {
          "output_type": "stream",
          "name": "stdout",
          "text": [
            "FPGA will see a design failure every 2.0053677253668956 years\n"
          ]
        }
      ]
    },
    {
      "cell_type": "code",
      "source": [
        "labels = 'CRAM', 'BRAM', 'SLR', 'Counter','DSP','GTH','IOB','PLL','MMCM','SEFI','DDR'\n",
        "sizes = [CRAM_design_day, BRAM_design_day, SLR_design_day, CNT_design_day,DSP_design_day,\\\n",
        "         GTH_design_day,IOB_design_day,PLL_design_day,MMCM_design_day,SEFI_design_day,DDR_device_day]\n",
        "\n",
        "fig, ax = plt.subplots()\n",
        "ax.pie(sizes, labels=labels, autopct='%1.1f%%')\n",
        "plt.show()"
      ],
      "metadata": {
        "colab": {
          "base_uri": "https://localhost:8080/",
          "height": 406
        },
        "outputId": "9329db52-1a7a-4142-f9c1-4e1f4a216cdd",
        "id": "tlR0m0MFp38g"
      },
      "execution_count": 58,
      "outputs": [
        {
          "output_type": "display_data",
          "data": {
            "text/plain": [
              "<Figure size 640x480 with 1 Axes>"
            ],
            "image/png": "[encoded data removed]"
          },
          "metadata": {}
        }
      ]
    },
    {
      "cell_type": "markdown",
      "source": [
        "## What About MRAM external memory?\n",
        "\n",
        "There are other options besdies SDRAM DDR that perform much better in space enviroments."
      ],
      "metadata": {
        "id": "cFdHG63YyoG0"
      }
    },
    {
      "cell_type": "markdown",
      "source": [
        "\n",
        "\n",
        "<figure>\n",
        "    <img src=\"https://b1967244.smushcdn.com/1967244/wp-content/uploads/consolidation-with-8Gb-v2.png\"\n",
        "    width=\"750\"\n",
        "    alt=\"MRAM Memory\">\n",
        "    <figcaption>Caption Goes Here</figcaption>\n",
        "</figure>"
      ],
      "metadata": {
        "id": "WEoNdkU6LLqX"
      }
    },
    {
      "cell_type": "code",
      "source": [],
      "metadata": {
        "id": "R0sVf8IOLQO7"
      },
      "execution_count": 58,
      "outputs": []
    },
    {
      "cell_type": "code",
      "source": [],
      "metadata": {
        "id": "ig2OKc49yySN"
      },
      "execution_count": 58,
      "outputs": []
    }
  ]
}