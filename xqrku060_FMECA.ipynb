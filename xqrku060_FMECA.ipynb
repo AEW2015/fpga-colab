{
  "nbformat": 4,
  "nbformat_minor": 0,
  "metadata": {
    "colab": {
      "provenance": [],
      "authorship_tag": "ABX9TyMAzISVjWMYlquajGM9gC71",
      "include_colab_link": true
    },
    "kernelspec": {
      "name": "python3",
      "display_name": "Python 3"
    },
    "language_info": {
      "name": "python"
    },
    "widgets": {
      "application/vnd.jupyter.widget-state+json": {
        "0c1a4401ff064e049167d9e2e34332de": {
          "model_module": "@jupyter-widgets/controls",
          "model_name": "IntProgressModel",
          "model_module_version": "1.5.0",
          "state": {
            "_dom_classes": [],
            "_model_module": "@jupyter-widgets/controls",
            "_model_module_version": "1.5.0",
            "_model_name": "IntProgressModel",
            "_view_count": null,
            "_view_module": "@jupyter-widgets/controls",
            "_view_module_version": "1.5.0",
            "_view_name": "ProgressView",
            "bar_style": "",
            "description": "",
            "description_tooltip": null,
            "layout": "IPY_MODEL_91d333ae45db4977ad00968690849440",
            "max": 100,
            "min": 0,
            "orientation": "horizontal",
            "style": "IPY_MODEL_c924330520d84743884556a5611ca067",
            "value": 100
          }
        },
        "91d333ae45db4977ad00968690849440": {
          "model_module": "@jupyter-widgets/base",
          "model_name": "LayoutModel",
          "model_module_version": "1.2.0",
          "state": {
            "_model_module": "@jupyter-widgets/base",
            "_model_module_version": "1.2.0",
            "_model_name": "LayoutModel",
            "_view_count": null,
            "_view_module": "@jupyter-widgets/base",
            "_view_module_version": "1.2.0",
            "_view_name": "LayoutView",
            "align_content": null,
            "align_items": null,
            "align_self": null,
            "border": null,
            "bottom": null,
            "display": null,
            "flex": null,
            "flex_flow": null,
            "grid_area": null,
            "grid_auto_columns": null,
            "grid_auto_flow": null,
            "grid_auto_rows": null,
            "grid_column": null,
            "grid_gap": null,
            "grid_row": null,
            "grid_template_areas": null,
            "grid_template_columns": null,
            "grid_template_rows": null,
            "height": null,
            "justify_content": null,
            "justify_items": null,
            "left": null,
            "margin": null,
            "max_height": null,
            "max_width": null,
            "min_height": null,
            "min_width": null,
            "object_fit": null,
            "object_position": null,
            "order": null,
            "overflow": null,
            "overflow_x": null,
            "overflow_y": null,
            "padding": null,
            "right": null,
            "top": null,
            "visibility": null,
            "width": null
          }
        },
        "c924330520d84743884556a5611ca067": {
          "model_module": "@jupyter-widgets/controls",
          "model_name": "ProgressStyleModel",
          "model_module_version": "1.5.0",
          "state": {
            "_model_module": "@jupyter-widgets/controls",
            "_model_module_version": "1.5.0",
            "_model_name": "ProgressStyleModel",
            "_view_count": null,
            "_view_module": "@jupyter-widgets/base",
            "_view_module_version": "1.2.0",
            "_view_name": "StyleView",
            "bar_color": null,
            "description_width": ""
          }
        },
        "881892863c72415b87faf977a2f471e1": {
          "model_module": "@jupyter-widgets/controls",
          "model_name": "IntProgressModel",
          "model_module_version": "1.5.0",
          "state": {
            "_dom_classes": [],
            "_model_module": "@jupyter-widgets/controls",
            "_model_module_version": "1.5.0",
            "_model_name": "IntProgressModel",
            "_view_count": null,
            "_view_module": "@jupyter-widgets/controls",
            "_view_module_version": "1.5.0",
            "_view_name": "ProgressView",
            "bar_style": "",
            "description": "",
            "description_tooltip": null,
            "layout": "IPY_MODEL_f3972c7bd9404d2a9fa90fb1552f8999",
            "max": 100,
            "min": 0,
            "orientation": "horizontal",
            "style": "IPY_MODEL_40617d344c064eb49deee16fb8866385",
            "value": 100
          }
        },
        "f3972c7bd9404d2a9fa90fb1552f8999": {
          "model_module": "@jupyter-widgets/base",
          "model_name": "LayoutModel",
          "model_module_version": "1.2.0",
          "state": {
            "_model_module": "@jupyter-widgets/base",
            "_model_module_version": "1.2.0",
            "_model_name": "LayoutModel",
            "_view_count": null,
            "_view_module": "@jupyter-widgets/base",
            "_view_module_version": "1.2.0",
            "_view_name": "LayoutView",
            "align_content": null,
            "align_items": null,
            "align_self": null,
            "border": null,
            "bottom": null,
            "display": null,
            "flex": null,
            "flex_flow": null,
            "grid_area": null,
            "grid_auto_columns": null,
            "grid_auto_flow": null,
            "grid_auto_rows": null,
            "grid_column": null,
            "grid_gap": null,
            "grid_row": null,
            "grid_template_areas": null,
            "grid_template_columns": null,
            "grid_template_rows": null,
            "height": null,
            "justify_content": null,
            "justify_items": null,
            "left": null,
            "margin": null,
            "max_height": null,
            "max_width": null,
            "min_height": null,
            "min_width": null,
            "object_fit": null,
            "object_position": null,
            "order": null,
            "overflow": null,
            "overflow_x": null,
            "overflow_y": null,
            "padding": null,
            "right": null,
            "top": null,
            "visibility": null,
            "width": null
          }
        },
        "40617d344c064eb49deee16fb8866385": {
          "model_module": "@jupyter-widgets/controls",
          "model_name": "ProgressStyleModel",
          "model_module_version": "1.5.0",
          "state": {
            "_model_module": "@jupyter-widgets/controls",
            "_model_module_version": "1.5.0",
            "_model_name": "ProgressStyleModel",
            "_view_count": null,
            "_view_module": "@jupyter-widgets/base",
            "_view_module_version": "1.2.0",
            "_view_name": "StyleView",
            "bar_color": null,
            "description_width": ""
          }
        }
      }
    }
  },
  "cells": [
    {
      "cell_type": "markdown",
      "metadata": {
        "id": "view-in-github",
        "colab_type": "text"
      },
      "source": [
        "<a href=\"https://colab.research.google.com/github/AEW2015/fpga-colab/blob/main/xqrku060_FMECA.ipynb\" target=\"_parent\"><img src=\"https://colab.research.google.com/assets/colab-badge.svg\" alt=\"Open In Colab\"/></a>"
      ]
    },
    {
      "cell_type": "markdown",
      "source": [
        "# Introduction"
      ],
      "metadata": {
        "id": "AkR0dej7DkOP"
      }
    },
    {
      "cell_type": "markdown",
      "source": [
        "AMD-Xilinx offers a Radiaton Tolerant KU060 FPGA, but how often do these devices fail and what is the effect of mitigation?\n",
        "\n",
        "\n",
        "<figure>\n",
        "    <img src=\"https://cf-images.us-east-1.prod.boltdns.net/v1/static/17209957001/321ccd1b-67b4-452a-a0a9-fc5586fdb87c/a3403ace-0540-42cc-a7e6-e042e5a7beb1/1280x720/match/image.jpg\"\n",
        "    width=\"450\"\n",
        "    alt=\"FT KU060\">\n",
        "    <figcaption>AMD-Xilin Space Resilient SRAM FPGA</figcaption>\n",
        "</figure>"
      ],
      "metadata": {
        "id": "uS2_vQj8DrSE"
      }
    },
    {
      "cell_type": "markdown",
      "source": [
        "Failure mode effects and criticality analysis (FMECA)"
      ],
      "metadata": {
        "id": "ZrP92vMgp5wv"
      }
    },
    {
      "cell_type": "markdown",
      "source": [
        "<figure>\n",
        "    <img src=\"https://i0.wp.com/www.apifirst.in/wp-content/uploads/2020/05/Fig-1-1.png\"\n",
        "    width=\"450\"\n",
        "    alt=\"Risk Matrix\">\n",
        "    <figcaption>FMECA Risk Matrix</figcaption>\n",
        "</figure>\n"
      ],
      "metadata": {
        "id": "1ofYrz17p6QI"
      }
    },
    {
      "cell_type": "markdown",
      "source": [
        "\n",
        "Quick points:\n",
        "*   Using Public Vendor Heavy Ion Data\n",
        "*   Vendor, Public, and Opensource Tools and designs\n",
        "*   Map data to an orbit for failures for a specific designs\n",
        "\n"
      ],
      "metadata": {
        "id": "FXof4maNDum9"
      }
    },
    {
      "cell_type": "markdown",
      "source": [
        "Assumptions will be listed, but can be changed to match your situation:\n",
        "*   [DS882](https://docs.xilinx.com/v/u/en-US/ds882-xqr-kintex-ultrascale) Weibull Fit Curves, and SEFI rates\n",
        "*   [Spenvis](https://www.spenvis.oma.be/) with listed configs\n",
        "*   GEO orbit\n",
        "*   100 mils of aluminum shiledling\n",
        "*   Simple CRAM Scrubbing (only look at Single CRAM events)\n",
        "*   No data for freqnecy-based SETI upsets\n",
        "*   [BYU SpyDrNet TMR Tools](https://github.com/byuccl/spydrnet-tmr/tree/main)\n",
        "*   Other assumptions listed below\n",
        "\n"
      ],
      "metadata": {
        "id": "HVIdvHNqEKmO"
      }
    },
    {
      "cell_type": "markdown",
      "source": [
        "# Orbit Upset Rates"
      ],
      "metadata": {
        "id": "QcaT9bNTcFzd"
      }
    },
    {
      "cell_type": "markdown",
      "source": [
        "![Spenvis logo](https://www.spenvis.oma.be/images/spenvislogo.gif)"
      ],
      "metadata": {
        "id": "_DrQbw2rD6Cx"
      }
    },
    {
      "cell_type": "markdown",
      "source": [
        "Spenvis Config:\n",
        "1.  Orbit is geostionary, 1 day orbit, longitude 0, Jan 2020 Launch\n",
        "2.  Solar Partical Flux CREMA-96, H to U, Worst Week, Mag Shield (quiet)\n",
        "3. Short-Term SEU rate, 0.254 cm Shield, Si (CREME-86), x*y = 0.0004 um, z = 2 um\n",
        "4. Heavy Ion Weibull Function\n",
        "\n"
      ],
      "metadata": {
        "id": "gLSHkjzjFfkS"
      }
    },
    {
      "cell_type": "code",
      "execution_count": 3,
      "metadata": {
        "id": "iusUPGVBDfXD"
      },
      "outputs": [],
      "source": [
        "CRAM_bit_day    = 5.5132E-09\n",
        "BRAM_bit_day    = 7.8714E-09\n",
        "SLR_device_day  = 1.1775E-03\n",
        "CNT_device_day  = 7.6083E-04\n",
        "DSP_device_day  = 1.3997E-03\n",
        "GTH_device_day  = 9.0687E-05\n",
        "IOB_device_day  = 1.9342E-03\n",
        "PLL_device_day  = 4.9828E-05\n",
        "MMCM_device_day = 4.9828E-05\n",
        "SEFI_device_day = 4.5e-4"
      ]
    },
    {
      "cell_type": "markdown",
      "source": [
        "# Device Failures"
      ],
      "metadata": {
        "id": "_KGEeOkvcNq9"
      }
    },
    {
      "cell_type": "markdown",
      "source": [
        "<figure>\n",
        "    <img src=\"https://www.xilinx.com/content/xilinx/en/products/silicon-devices/fpga/rt-kintex-ultrascale/_jcr_content/root/imageTabParsys/childParsys-productAdvantages/xilinxcolumns/childParsys-1/xilinximage.img.png/1684954227147.png\"\n",
        "    width=\"350\"\n",
        "    alt=\"FPGA Layout\">\n",
        "    <figcaption>KU060 FPGA Layout</figcaption>\n",
        "</figure>"
      ],
      "metadata": {
        "id": "hy4d8NLNED7e"
      }
    },
    {
      "cell_type": "markdown",
      "source": [
        "Apply this to the Whole device:\n",
        "\n",
        "*   Full Bitstream is 192,999,264 bits:\n",
        "  * CRAM is 153186144 bits (type 0 frames)\n",
        "  * BRAM is 39813120 bits (type 1 frames)\n",
        "\n"
      ],
      "metadata": {
        "id": "zTiWd0DZaX1U"
      }
    },
    {
      "cell_type": "code",
      "source": [
        "CRAM_device_day = CRAM_bit_day * 153186144\n",
        "BRAM_device_day = BRAM_bit_day * 39813120"
      ],
      "metadata": {
        "id": "oU0Pqh3JaXG_"
      },
      "execution_count": 4,
      "outputs": []
    },
    {
      "cell_type": "code",
      "source": [
        "Full_device_day = CRAM_device_day + BRAM_device_day + SLR_device_day + CNT_device_day + DSP_device_day \\\n",
        "                + GTH_device_day + IOB_device_day + PLL_device_day + MMCM_device_day + SEFI_device_day\n",
        "print(\"FPGA will see a device failure every {0:0.4} hours\".format(24/Full_device_day))"
      ],
      "metadata": {
        "colab": {
          "base_uri": "https://localhost:8080/"
        },
        "id": "U7qCI768bELO",
        "outputId": "d349fc73-19af-4e30-a014-cb68ca538ea6"
      },
      "execution_count": 5,
      "outputs": [
        {
          "output_type": "stream",
          "name": "stdout",
          "text": [
            "FPGA will see a device failure every 20.62 hours\n"
          ]
        }
      ]
    },
    {
      "cell_type": "code",
      "source": [
        "import matplotlib.pyplot as plt\n",
        "\n",
        "labels = 'CRAM', 'BRAM', 'SLR', 'Counter','DSP','GTH','IOB','PLL','MMCM','SEFI'\n",
        "sizes = [CRAM_device_day, BRAM_device_day, SLR_device_day, CNT_device_day,DSP_device_day,\\\n",
        "         GTH_device_day,IOB_device_day,PLL_device_day,MMCM_device_day,SEFI_device_day]\n",
        "\n",
        "fig, ax = plt.subplots()\n",
        "ax.pie(sizes, labels=labels, autopct='%1.1f%%')\n",
        "plt.title(\"Failure by Type\")\n",
        "plt.show()"
      ],
      "metadata": {
        "colab": {
          "base_uri": "https://localhost:8080/",
          "height": 428
        },
        "id": "DjQaElwEdDMD",
        "outputId": "4b6063ce-59c6-48bc-e53e-05a0a95698a5"
      },
      "execution_count": 6,
      "outputs": [
        {
          "output_type": "display_data",
          "data": {
            "text/plain": [
              "<Figure size 640x480 with 1 Axes>"
            ],
            "image/png": "[encoded data removed]"
          },
          "metadata": {}
        }
      ]
    },
    {
      "cell_type": "markdown",
      "source": [
        "# Embedded Processors"
      ],
      "metadata": {
        "id": "OtaFIbvBkSEW"
      }
    },
    {
      "cell_type": "markdown",
      "source": [
        "<figure>\n",
        "    <img src=\"https://github.com/AEW2015/fpga-colab/blob/main/images/devkit_2_procs.png?raw=true\"\n",
        "    width=\"350\"\n",
        "    alt=\"Proc Tiles\">\n",
        "    <figcaption>Embedded processor Tiles</figcaption>\n",
        "</figure>"
      ],
      "metadata": {
        "id": "6goT8oUrFqW4"
      }
    },
    {
      "cell_type": "markdown",
      "source": [
        "117 VexRiscv Processor were implmented to \"fill\" the KU060 FPGA with __96.38%__ LUT utilization.  \n",
        "\n",
        "Each processor had a 4KB combined IMEM/DMEM where they performed a size optimized CoreMark Benchmark."
      ],
      "metadata": {
        "id": "moNY4jJ1BYAv"
      }
    },
    {
      "cell_type": "markdown",
      "source": [
        "Example Design Build: [Source](https://github.com/AEW2015/fpga-colab/tree/main/FIG/digilent_arty/dut)"
      ],
      "metadata": {
        "id": "T7AZykNQLrX-"
      }
    },
    {
      "cell_type": "markdown",
      "source": [
        "## Design Failures"
      ],
      "metadata": {
        "id": "efBbX4ZqcQIu"
      }
    },
    {
      "cell_type": "markdown",
      "source": [
        "Fault Injection Example:\n",
        "[ipynb](https://github.com/AEW2015/fpga-colab/blob/main/FIG/digilent_arty/fault_injection/arty_a7_fault_injection.ipynb)"
      ],
      "metadata": {
        "id": "Up1ZzTxRgcNH"
      }
    },
    {
      "cell_type": "markdown",
      "source": [
        "Assumptions:\n",
        "*   CRAM Sensitivity reported with random fault injeciton\n",
        "*   BRAM:\n",
        "  * Ignore unused BRAMs with features not tested\n",
        "  * Ignore FIFO BRAMs with data in flight\n",
        "  * Estimated a 50% \"sensitivity\" for operation BRAMs, but could be different\n",
        "      * difficult to simulate for more detailed analysis\n",
        "* Everything else based on utilization\n"
      ],
      "metadata": {
        "id": "KTGBHoNVcVPw"
      }
    },
    {
      "cell_type": "code",
      "source": [
        "CRAM_sensitivity = .0551\n",
        "nFIFO_BRAM = .702\n",
        "SLR_util = .01 #Assume non-zero\n",
        "CNT_util = .01 #Assume non-zero\n",
        "DSP_util = .117\n",
        "GTH_util = 0 # Not used\n",
        "IOB_util = 2 /620 # UART only\n",
        "PLL_util = 0 / 24 # Not used\n",
        "MMCM_util = 1 / 12"
      ],
      "metadata": {
        "id": "xcU_PEjQeE8B"
      },
      "execution_count": 7,
      "outputs": []
    },
    {
      "cell_type": "code",
      "source": [
        "BRAM_sensitivity_estimate = 0.5\n",
        "CRAM_design_day = CRAM_device_day * CRAM_sensitivity\n",
        "BRAM_design_day = BRAM_device_day * nFIFO_BRAM * BRAM_sensitivity_estimate\n",
        "SLR_design_day  = SLR_device_day * SLR_util\n",
        "CNT_design_day  = CNT_device_day * CNT_util\n",
        "DSP_design_day  = DSP_device_day * DSP_util\n",
        "GTH_design_day  = GTH_device_day * GTH_util\n",
        "IOB_design_day  = IOB_device_day * IOB_util\n",
        "PLL_design_day  = PLL_device_day * PLL_util\n",
        "MMCM_design_day = MMCM_device_day * MMCM_util\n",
        "SEFI_design_day = SEFI_device_day"
      ],
      "metadata": {
        "id": "bNCKB4dGfkyX"
      },
      "execution_count": 8,
      "outputs": []
    },
    {
      "cell_type": "code",
      "source": [
        "Full_design_day = CRAM_design_day + BRAM_design_day + SLR_design_day + CNT_design_day + DSP_design_day \\\n",
        "                + GTH_design_day + IOB_design_day + PLL_design_day + MMCM_design_day + SEFI_design_day\n",
        "print(\"FPGA will see a design failure every {0} days\".format(1/Full_design_day))\n",
        "nTMR_GEO_MTTF = 1/Full_design_day"
      ],
      "metadata": {
        "colab": {
          "base_uri": "https://localhost:8080/"
        },
        "id": "cgm5PrdmfuvA",
        "outputId": "8c6a7468-ec7d-4c13-9fbc-3fbf707027bd"
      },
      "execution_count": 9,
      "outputs": [
        {
          "output_type": "stream",
          "name": "stdout",
          "text": [
            "FPGA will see a design failure every 6.362288481320409 days\n"
          ]
        }
      ]
    },
    {
      "cell_type": "code",
      "source": [
        "labels = 'CRAM', 'BRAM', 'SLR', 'Counter','DSP','GTH','IOB','PLL','MMCM','SEFI'\n",
        "sizes = [CRAM_design_day, BRAM_design_day, SLR_design_day, CNT_design_day,DSP_design_day,\\\n",
        "         GTH_design_day,IOB_design_day,PLL_design_day,MMCM_design_day,SEFI_design_day]\n",
        "\n",
        "fig, ax = plt.subplots()\n",
        "ax.pie(sizes, labels=labels, autopct='%1.1f%%')\n",
        "plt.title(\"Failure by Type\")\n",
        "plt.show()"
      ],
      "metadata": {
        "colab": {
          "base_uri": "https://localhost:8080/",
          "height": 428
        },
        "id": "KwFET_mif5y2",
        "outputId": "479d0568-182d-424e-cf35-31243cdba259"
      },
      "execution_count": 10,
      "outputs": [
        {
          "output_type": "display_data",
          "data": {
            "text/plain": [
              "<Figure size 640x480 with 1 Axes>"
            ],
            "image/png": "[encoded data removed]"
          },
          "metadata": {}
        }
      ]
    },
    {
      "cell_type": "markdown",
      "source": [
        "## Mitigated Design"
      ],
      "metadata": {
        "id": "SkkHhuBrbTXL"
      }
    },
    {
      "cell_type": "markdown",
      "source": [
        "Apply Fine-Grain/ Distrubuted TMR using BYU SpyDrNet TMR Python tools."
      ],
      "metadata": {
        "id": "O1ZeE9NKCie6"
      }
    },
    {
      "cell_type": "markdown",
      "source": [
        "<figure>\n",
        "    <img src=\"https://d3i71xaburhd42.cloudfront.net/6f34b7eba74d2e2460e3af1f3edd310d8492b93f/3-Figure2-1.png\"\n",
        "    width=\"350\"\n",
        "    alt=\"TMR Voters\">\n",
        "    <figcaption>TMR with Triplicated Voter</figcaption>\n",
        "</figure>"
      ],
      "metadata": {
        "id": "sPKMyaUiHW2R"
      }
    },
    {
      "cell_type": "markdown",
      "source": [
        "This method takes a exported netlist from Vivado, modifies it, and then returns it to the Vivado PAR tools (or RapidWrite)."
      ],
      "metadata": {
        "id": "STTqNkdwCpCS"
      }
    },
    {
      "cell_type": "markdown",
      "source": [
        "<figure>\n",
        "    <img src=\"https://d3i71xaburhd42.cloudfront.net/306e7102c922abd010baf5a1a957f9617bd647da/2-Figure1-1.png\"\n",
        "    width=\"350\"\n",
        "    alt=\"TMR Application\">\n",
        "    <figcaption>SpyDrNet TMR Flow</figcaption>\n",
        "</figure>"
      ],
      "metadata": {
        "id": "hKLEMjfHHPHs"
      }
    },
    {
      "cell_type": "markdown",
      "source": [
        "28 TMR VexRiscv Processor were implmented in the KU060 at __93.51%__ LUT utilization."
      ],
      "metadata": {
        "id": "BT8kKAvcC01p"
      }
    },
    {
      "cell_type": "markdown",
      "source": [
        "Example Python TMR Flow: [ipynb](https://github.com/AEW2015/fpga-colab/blob/main/FIG/digilent_arty/tmr/digilent_arty_SpyDrNet_TMR.ipynb)\n",
        "\n",
        "Example Build TCL script: [TCL](https://github.com/AEW2015/fpga-colab/blob/main/FIG/digilent_arty/tmr/build_tmr.tcl)\n",
        "\n",
        "Another Python Example: [ipynb](https://github.com/AEW2015/fpga-colab/blob/main/SpyDrNet_TMR_examples.ipynb)"
      ],
      "metadata": {
        "id": "mW903X_tL9YJ"
      }
    },
    {
      "cell_type": "markdown",
      "source": [
        "Assumptions:\n",
        "*   CRAM Sensitivity reported with random fault injeciton\n",
        "*   BRAM:\n",
        "  * Ignore unused BRAMs with feauters not tested\n",
        "  * Ignore FIFO BRAMs with data in flight\n",
        "  * Estimated a 50% \"sensitivity\" for operation BRAMs, but could be different\n",
        "    * difficult to simulate for more detailed analysis\n",
        "  * add an additional 0.412% sensitivity for TMR BRAM (see Appendix)\n",
        "* Everything else based on utilization\n",
        "  * assume TMR protects SLR, CNT, & DSPs"
      ],
      "metadata": {
        "id": "HERtc8W5gZj2"
      }
    },
    {
      "cell_type": "code",
      "source": [
        "CRAM_sensitivity = .00079\n",
        "nFIFO_BRAM = .476\n",
        "SLR_util = .01 #Assume non-zero\n",
        "CNT_util = .01 #Assume non-zero\n",
        "DSP_util = .117\n",
        "GTH_util = 0 # Not used\n",
        "IOB_util = 2 /620 # UART only\n",
        "PLL_util = 0 / 24 # Not used\n",
        "MMCM_util = 1 / 12"
      ],
      "metadata": {
        "id": "fD3b-UUsgNpy"
      },
      "execution_count": 11,
      "outputs": []
    },
    {
      "cell_type": "code",
      "source": [
        "BRAM_sensitivity_estimate = 0.5\n",
        "BRAM_TMR_sensitivity_estiamte = 0.00411983113735914\n",
        "TMR_protected = 0\n",
        "\n",
        "CRAM_design_day = CRAM_device_day * CRAM_sensitivity\n",
        "BRAM_design_day = BRAM_device_day * nFIFO_BRAM * BRAM_sensitivity_estimate * BRAM_TMR_sensitivity_estiamte\n",
        "SLR_design_day  = SLR_device_day * SLR_util * TMR_protected\n",
        "CNT_design_day  = CNT_device_day * CNT_util * TMR_protected\n",
        "DSP_design_day  = DSP_device_day * DSP_util * TMR_protected\n",
        "GTH_design_day  = GTH_device_day * GTH_util\n",
        "IOB_design_day  = IOB_device_day * IOB_util\n",
        "PLL_design_day  = PLL_device_day * PLL_util\n",
        "MMCM_design_day = MMCM_device_day * MMCM_util\n",
        "SEFI_design_day = SEFI_device_day"
      ],
      "metadata": {
        "id": "msi1WcK0g7kq"
      },
      "execution_count": 12,
      "outputs": []
    },
    {
      "cell_type": "code",
      "source": [
        "Full_design_day = CRAM_design_day + BRAM_design_day + SLR_design_day + CNT_design_day + DSP_design_day \\\n",
        "                + GTH_design_day + IOB_design_day + PLL_design_day + MMCM_design_day + SEFI_design_day\n",
        "print(\"FPGA will see a design failure every {0} Year\".format(1/Full_design_day/365.25))\n",
        "TMR_GEO_MTTF = 1/Full_design_day"
      ],
      "metadata": {
        "colab": {
          "base_uri": "https://localhost:8080/"
        },
        "id": "hVcc37XnhTk6",
        "outputId": "1f950bee-505d-4305-dcfd-8d2ad5fb144a"
      },
      "execution_count": 13,
      "outputs": [
        {
          "output_type": "stream",
          "name": "stdout",
          "text": [
            "FPGA will see a design failure every 1.908091985845966 Year\n"
          ]
        }
      ]
    },
    {
      "cell_type": "code",
      "source": [
        "labels = 'CRAM', 'BRAM', 'SLR', 'Counter','DSP','GTH','IOB','PLL','MMCM','SEFI'\n",
        "sizes = [CRAM_design_day, BRAM_design_day, SLR_design_day, CNT_design_day,DSP_design_day,\\\n",
        "         GTH_design_day,IOB_design_day,PLL_design_day,MMCM_design_day,SEFI_design_day]\n",
        "\n",
        "fig, ax = plt.subplots()\n",
        "ax.pie(sizes, labels=labels, autopct='%1.1f%%')\n",
        "plt.title(\"Failure by Type\")\n",
        "plt.show()"
      ],
      "metadata": {
        "colab": {
          "base_uri": "https://localhost:8080/",
          "height": 428
        },
        "id": "2O9jbF8QhU-E",
        "outputId": "20ffc82e-f005-422a-8c07-8fd86e4fd955"
      },
      "execution_count": 14,
      "outputs": [
        {
          "output_type": "display_data",
          "data": {
            "text/plain": [
              "<Figure size 640x480 with 1 Axes>"
            ],
            "image/png": "[encoded data removed]"
          },
          "metadata": {}
        }
      ]
    },
    {
      "cell_type": "markdown",
      "source": [
        "## Compare to Radiation Data"
      ],
      "metadata": {
        "id": "RAsjkjruiAQS"
      }
    },
    {
      "cell_type": "markdown",
      "source": [
        "Radiation test with AlphaData KU060 Dev board"
      ],
      "metadata": {
        "id": "GoVZabKlEYfR"
      }
    },
    {
      "cell_type": "markdown",
      "source": [
        "<figure>\n",
        "    <img src=\"https://github.com/AEW2015/fpga-colab/blob/main/images/devkit2_cap.JPG?raw=true\"\n",
        "    width=\"350\"\n",
        "    alt=\"Rad Testing\">\n",
        "    <figcaption>LANSCE Neutron Radiation test</figcaption>\n",
        "</figure>"
      ],
      "metadata": {
        "id": "qXjQFhwFEvX3"
      }
    },
    {
      "cell_type": "code",
      "source": [
        "nTMR_NEU_MFTF = 1/ 5.96E-08 # 1/ cross-section\n",
        "TMR_NEU_MFTF = 1 / 5.58E-10 # 1/ cross-section"
      ],
      "metadata": {
        "id": "9gi5xLMmiG-A"
      },
      "execution_count": 15,
      "outputs": []
    },
    {
      "cell_type": "code",
      "source": [
        "GEO_improvement = TMR_GEO_MTTF/nTMR_GEO_MTTF\n",
        "NEU_improvement = TMR_NEU_MFTF/nTMR_NEU_MFTF\n",
        "print(GEO_improvement,NEU_improvement)"
      ],
      "metadata": {
        "colab": {
          "base_uri": "https://localhost:8080/"
        },
        "id": "B-Ekd6QFigsk",
        "outputId": "c4fa0fdc-4076-4c41-9aad-febe1b8c9935"
      },
      "execution_count": 16,
      "outputs": [
        {
          "output_type": "stream",
          "name": "stdout",
          "text": [
            "109.54086723298035 106.8100358422939\n"
          ]
        }
      ]
    },
    {
      "cell_type": "markdown",
      "source": [
        "The GEO model based on Utilizaton, Analysis, and Fault injection closely matches the observed __TMR improvement__ during the Neutron Radiation test."
      ],
      "metadata": {
        "id": "KWpBXcyEEqha"
      }
    },
    {
      "cell_type": "code",
      "source": [
        "nTMR_processor_count = 117\n",
        "TMR_processor_count = 28\n",
        "nTMR_norm_perf = 1\n",
        "TMR_norm_perf = 0.93\n",
        "\n",
        "nTMR_GEO_MWBF = nTMR_GEO_MTTF * nTMR_processor_count * nTMR_norm_perf\n",
        "TMR_GEO_MWBF = TMR_GEO_MTTF * TMR_processor_count * TMR_norm_perf\n",
        "\n",
        "nTMR_NEU_MWBF = nTMR_NEU_MFTF * nTMR_processor_count * nTMR_norm_perf\n",
        "TMR_NEU_MWBF = TMR_NEU_MFTF * TMR_processor_count * TMR_norm_perf\n",
        "\n",
        "GEO_improvement = TMR_GEO_MWBF/nTMR_GEO_MWBF\n",
        "NEU_improvement = TMR_NEU_MWBF/nTMR_NEU_MWBF\n",
        "print(GEO_improvement,NEU_improvement)"
      ],
      "metadata": {
        "colab": {
          "base_uri": "https://localhost:8080/"
        },
        "id": "elsGDU5bjBGX",
        "outputId": "120c9bd1-7108-4aa7-a71c-83da09fa769d"
      },
      "execution_count": 17,
      "outputs": [
        {
          "output_type": "stream",
          "name": "stdout",
          "text": [
            "24.379864809801784 23.772079772079774\n"
          ]
        }
      ]
    },
    {
      "cell_type": "markdown",
      "source": [
        "This applies the processor count and fMax to the improvement calculation."
      ],
      "metadata": {
        "id": "wSbYeJdGE8ff"
      }
    },
    {
      "cell_type": "markdown",
      "source": [
        "### Publication for more info: [IEEE](https://ieeexplore.ieee.org/document/10012379)"
      ],
      "metadata": {
        "id": "EO8J_wJGjZ37"
      }
    },
    {
      "cell_type": "markdown",
      "source": [
        "# Soft Linux SoC Processor\n"
      ],
      "metadata": {
        "id": "I6BU5MmSkdPA"
      }
    },
    {
      "cell_type": "markdown",
      "source": [
        "This design looked at a more complex system, with a soft SoC generated with LiteX.  This SoC used the VexRiscv processor to run a BuildRoot Linux OS."
      ],
      "metadata": {
        "id": "oMySuS5hFZry"
      }
    },
    {
      "cell_type": "markdown",
      "source": [
        "<figure>\n",
        "    <img src=\"https://d3i71xaburhd42.cloudfront.net/6f34b7eba74d2e2460e3af1f3edd310d8492b93f/2-Figure1-1.png\"\n",
        "    width=\"650\"\n",
        "    alt=\"VexRiscv LiteX Config\">\n",
        "    <figcaption>Soft SoC generated by LiteX</figcaption>\n",
        "</figure>"
      ],
      "metadata": {
        "id": "9DDJMxM8EQMl"
      }
    },
    {
      "cell_type": "markdown",
      "source": [
        "Example LiteX Gen:\n",
        "\n",
        "F4PGA LiteX Arty [link](https://github.com/AEW2015/fpga-colab/blob/main/F4PGA_Litex_Arty.ipynb)\n",
        "\n",
        "Linux on LiteX Repo: [link](https://github.com/litex-hub/linux-on-litex-vexriscv) (supports most dev boards)"
      ],
      "metadata": {
        "id": "8X2dw0PtMXbu"
      }
    },
    {
      "cell_type": "markdown",
      "source": [
        "## Design Failures"
      ],
      "metadata": {
        "id": "IUkU4v6pkdPB"
      }
    },
    {
      "cell_type": "markdown",
      "source": [
        "Assumptions:\n",
        "*   CRAM Sensitivity reported with random fault injeciton\n",
        "*   BRAM:\n",
        "  * Ignore unused BRAMs with feauters not tested\n",
        "  * Ignore FIFO BRAMs with data in flight\n",
        "  * Estimated a 50% \"sensitivity\" for operation BRAMs, but could be different\n",
        "    * difficult to simulate for more detailed analysis\n",
        "* Everything else based on utilization\n",
        "\n"
      ],
      "metadata": {
        "id": "mvNvJAoCkdPB"
      }
    },
    {
      "cell_type": "code",
      "source": [
        "CRAM_sensitivity = .0057\n",
        "nFIFO_BRAM = .0692\n",
        "SLR_util = .01 #Assume non-zero\n",
        "CNT_util = .01 #Assume non-zero\n",
        "DSP_util = .0054\n",
        "GTH_util = 0 # Not used\n",
        "IOB_util = 64 /620 # Various IO including DDR3\n",
        "PLL_util = 0 / 24 # Not used\n",
        "MMCM_util = 1 / 12"
      ],
      "metadata": {
        "id": "wpD5iylwkdPB"
      },
      "execution_count": 18,
      "outputs": []
    },
    {
      "cell_type": "code",
      "source": [
        "BRAM_sensitivity_estimate = 0.5\n",
        "CRAM_design_day = CRAM_device_day * CRAM_sensitivity\n",
        "BRAM_design_day = BRAM_device_day * nFIFO_BRAM * BRAM_sensitivity_estimate\n",
        "SLR_design_day  = SLR_device_day * SLR_util\n",
        "CNT_design_day  = CNT_device_day * CNT_util\n",
        "DSP_design_day  = DSP_device_day * DSP_util\n",
        "GTH_design_day  = GTH_device_day * GTH_util\n",
        "IOB_design_day  = IOB_device_day * IOB_util\n",
        "PLL_design_day  = PLL_device_day * PLL_util\n",
        "MMCM_design_day = MMCM_device_day * MMCM_util\n",
        "SEFI_design_day = SEFI_device_day"
      ],
      "metadata": {
        "id": "MYiJJyVGkdPB"
      },
      "execution_count": 19,
      "outputs": []
    },
    {
      "cell_type": "code",
      "source": [
        "Full_design_day = CRAM_design_day + BRAM_design_day + SLR_design_day + CNT_design_day + DSP_design_day \\\n",
        "                + GTH_design_day + IOB_design_day + PLL_design_day + MMCM_design_day + SEFI_design_day\n",
        "print(\"FPGA will see a design failure every {0} days\".format(1/Full_design_day))\n",
        "nTMR_GEO_MTTF = 1/Full_design_day"
      ],
      "metadata": {
        "colab": {
          "base_uri": "https://localhost:8080/"
        },
        "outputId": "8b66718b-b8bb-4f3c-b258-2b299a0fcea7",
        "id": "i2wfSZt_kdPC"
      },
      "execution_count": 20,
      "outputs": [
        {
          "output_type": "stream",
          "name": "stdout",
          "text": [
            "FPGA will see a design failure every 61.2078058303423 days\n"
          ]
        }
      ]
    },
    {
      "cell_type": "code",
      "source": [
        "labels = 'CRAM', 'BRAM', 'SLR', 'Counter','DSP','GTH','IOB','PLL','MMCM','SEFI'\n",
        "sizes = [CRAM_design_day, BRAM_design_day, SLR_design_day, CNT_design_day,DSP_design_day,\\\n",
        "         GTH_design_day,IOB_design_day,PLL_design_day,MMCM_design_day,SEFI_design_day]\n",
        "\n",
        "fig, ax = plt.subplots()\n",
        "ax.pie(sizes, labels=labels, autopct='%1.1f%%')\n",
        "plt.title(\"Failure by Type\")\n",
        "plt.show()"
      ],
      "metadata": {
        "colab": {
          "base_uri": "https://localhost:8080/",
          "height": 428
        },
        "outputId": "c65d6cbb-4e98-44ac-a604-7c2e272c8b11",
        "id": "6yoc4XEjkdPC"
      },
      "execution_count": 21,
      "outputs": [
        {
          "output_type": "display_data",
          "data": {
            "text/plain": [
              "<Figure size 640x480 with 1 Axes>"
            ],
            "image/png": "[encoded data removed]"
          },
          "metadata": {}
        }
      ]
    },
    {
      "cell_type": "markdown",
      "source": [
        "## Mitigated Design"
      ],
      "metadata": {
        "id": "h82Dtpz2kdPC"
      }
    },
    {
      "cell_type": "markdown",
      "source": [
        "Assumptions:\n",
        "*   CRAM Sensitivity reported with random fault injeciton\n",
        "*   BRAM:\n",
        "  * Ignore unused BRAMs with feauters not tested\n",
        "  * Ignore FIFO BRAMs with data in flight\n",
        "  * Estimated a 50% \"sensitivity\" for operation BRAMs, but could be different\n",
        "    * difficult to simulate for more detailed analysis\n",
        "  * add an additional 0.412% sensitivity for BRAM (see Appendix)\n",
        "* Everything else based on utilization\n",
        "  * assume TMR protects SLR, CNT, & DSPs"
      ],
      "metadata": {
        "id": "W-xLxSwZkdPC"
      }
    },
    {
      "cell_type": "code",
      "source": [
        "CRAM_sensitivity = .00039\n",
        "nFIFO_BRAM = .2076\n",
        "SLR_util = .03 #Assume non-zero\n",
        "CNT_util = .03 #Assume non-zero\n",
        "DSP_util = .0162\n",
        "GTH_util = 0 # Not used\n",
        "IOB_util = 64 /620 # Vaiours IO, same as above\n",
        "PLL_util = 0 / 24 # Not used\n",
        "MMCM_util = 1 / 12"
      ],
      "metadata": {
        "id": "2hTE6SvYkdPC"
      },
      "execution_count": 22,
      "outputs": []
    },
    {
      "cell_type": "code",
      "source": [
        "BRAM_sensitivity_estimate = 0.5\n",
        "BRAM_TMR_sensitivity_estiamte = 0.00411983113735914\n",
        "TMR_protected = 0\n",
        "\n",
        "CRAM_design_day = CRAM_device_day * CRAM_sensitivity\n",
        "BRAM_design_day = BRAM_device_day * nFIFO_BRAM * BRAM_sensitivity_estimate * BRAM_TMR_sensitivity_estiamte\n",
        "SLR_design_day  = SLR_device_day * SLR_util * TMR_protected\n",
        "CNT_design_day  = CNT_device_day * CNT_util * TMR_protected\n",
        "DSP_design_day  = DSP_device_day * DSP_util * TMR_protected\n",
        "GTH_design_day  = GTH_device_day * GTH_util\n",
        "IOB_design_day  = IOB_device_day * IOB_util\n",
        "PLL_design_day  = PLL_device_day * PLL_util\n",
        "MMCM_design_day = MMCM_device_day * MMCM_util\n",
        "SEFI_design_day = SEFI_device_day"
      ],
      "metadata": {
        "id": "C20YUm3_kdPD"
      },
      "execution_count": 23,
      "outputs": []
    },
    {
      "cell_type": "code",
      "source": [
        "Full_design_day = CRAM_design_day + BRAM_design_day + SLR_design_day + CNT_design_day + DSP_design_day \\\n",
        "                + GTH_design_day + IOB_design_day + PLL_design_day + MMCM_design_day + SEFI_design_day\n",
        "print(\"FPGA will see a design failure every {0} Year\".format(1/Full_design_day/365.25))\n",
        "TMR_GEO_MTTF = 1/Full_design_day"
      ],
      "metadata": {
        "colab": {
          "base_uri": "https://localhost:8080/"
        },
        "outputId": "55105e92-36d2-4d61-a6b1-b300168b6180",
        "id": "PYpMzxR3kdPD"
      },
      "execution_count": 24,
      "outputs": [
        {
          "output_type": "stream",
          "name": "stdout",
          "text": [
            "FPGA will see a design failure every 2.450636114889419 Year\n"
          ]
        }
      ]
    },
    {
      "cell_type": "code",
      "source": [
        "labels = 'CRAM', 'BRAM', 'SLR', 'Counter','DSP','GTH','IOB','PLL','MMCM','SEFI'\n",
        "sizes = [CRAM_design_day, BRAM_design_day, SLR_design_day, CNT_design_day,DSP_design_day,\\\n",
        "         GTH_design_day,IOB_design_day,PLL_design_day,MMCM_design_day,SEFI_design_day]\n",
        "\n",
        "fig, ax = plt.subplots()\n",
        "ax.pie(sizes, labels=labels, autopct='%1.1f%%')\n",
        "plt.title(\"Failure by Type\")\n",
        "plt.show()"
      ],
      "metadata": {
        "colab": {
          "base_uri": "https://localhost:8080/",
          "height": 428
        },
        "outputId": "68ab5020-3e08-41be-df42-f945b7802dac",
        "id": "v5CoTC7WkdPD"
      },
      "execution_count": 25,
      "outputs": [
        {
          "output_type": "display_data",
          "data": {
            "text/plain": [
              "<Figure size 640x480 with 1 Axes>"
            ],
            "image/png": "[encoded data removed]"
          },
          "metadata": {}
        }
      ]
    },
    {
      "cell_type": "markdown",
      "source": [
        "## Compare to Radiation Data"
      ],
      "metadata": {
        "id": "lXXgRIztkdPD"
      }
    },
    {
      "cell_type": "markdown",
      "source": [
        "Radiation testing with Nexys7 (Series 7 FPGA) at LANSCE"
      ],
      "metadata": {
        "id": "1ZnYvtc-FvnI"
      }
    },
    {
      "cell_type": "markdown",
      "source": [
        "<figure>\n",
        "    <img src=\"https://d3i71xaburhd42.cloudfront.net/6f34b7eba74d2e2460e3af1f3edd310d8492b93f/4-Figure5-1.png\"\n",
        "    width=\"350\"\n",
        "    alt=\"VexRiscv LiteX Rad Test\">\n",
        "    <figcaption>LANSCE Radiation Test</figcaption>\n",
        "</figure>"
      ],
      "metadata": {
        "id": "bGBmPJzgHjbV"
      }
    },
    {
      "cell_type": "code",
      "source": [
        "nTMR_NEU_MFTF = 1/ 2.09E-09 # 1/ cross-section\n",
        "TMR_NEU_MFTF = 1 / 1.42E-10 # 1/ cross-section"
      ],
      "metadata": {
        "id": "5HbULuVCkdPE"
      },
      "execution_count": 26,
      "outputs": []
    },
    {
      "cell_type": "code",
      "source": [
        "GEO_improvement = TMR_GEO_MTTF/nTMR_GEO_MTTF\n",
        "NEU_improvement = TMR_NEU_MFTF/nTMR_NEU_MFTF\n",
        "print(GEO_improvement,NEU_improvement)"
      ],
      "metadata": {
        "colab": {
          "base_uri": "https://localhost:8080/"
        },
        "outputId": "93e7aa1f-3afe-4f74-9019-1fdf4b5b7d89",
        "id": "aJhlrQXykdPE"
      },
      "execution_count": 27,
      "outputs": [
        {
          "output_type": "stream",
          "name": "stdout",
          "text": [
            "14.62386747606036 14.71830985915493\n"
          ]
        }
      ]
    },
    {
      "cell_type": "code",
      "source": [
        "nTMR_processor_count = 1\n",
        "TMR_processor_count = 1\n",
        "nTMR_norm_perf = 1\n",
        "TMR_norm_perf = 0.81\n",
        "\n",
        "nTMR_GEO_MWBF = nTMR_GEO_MTTF * nTMR_processor_count * nTMR_norm_perf\n",
        "TMR_GEO_MWBF = TMR_GEO_MTTF * TMR_processor_count * TMR_norm_perf\n",
        "\n",
        "nTMR_NEU_MWBF = nTMR_NEU_MFTF * nTMR_processor_count * nTMR_norm_perf\n",
        "TMR_NEU_MWBF = TMR_NEU_MFTF * TMR_processor_count * TMR_norm_perf\n",
        "\n",
        "GEO_improvement = TMR_GEO_MWBF/nTMR_GEO_MWBF\n",
        "NEU_improvement = TMR_NEU_MWBF/nTMR_NEU_MWBF\n",
        "print(GEO_improvement,NEU_improvement)"
      ],
      "metadata": {
        "colab": {
          "base_uri": "https://localhost:8080/"
        },
        "id": "aWSHLPLZl7h8",
        "outputId": "a651089a-fcc1-4cb7-9068-8118253b983a"
      },
      "execution_count": 28,
      "outputs": [
        {
          "output_type": "stream",
          "name": "stdout",
          "text": [
            "11.845332655608892 11.921830985915493\n"
          ]
        }
      ]
    },
    {
      "cell_type": "markdown",
      "source": [
        "TMR improvement (efficacy) match between the GEO model and Radiation test, though radiation test was with a Artix 7."
      ],
      "metadata": {
        "id": "A4eYm0usF_sZ"
      }
    },
    {
      "cell_type": "markdown",
      "source": [
        "### Publication for more info: [IEEE](https://ieeexplore.ieee.org/document/9386126)"
      ],
      "metadata": {
        "id": "Gllurw5MPzNY"
      }
    },
    {
      "cell_type": "markdown",
      "source": [
        "# Bitstream Fault Analysis"
      ],
      "metadata": {
        "id": "OZx8klg1NkUH"
      }
    },
    {
      "cell_type": "markdown",
      "source": [
        "BFAT is a tool used for analysis of a design's bitstream to evaluate and report any relevant information about given fault bits as well as any errors that they would cause in the design's implementation."
      ],
      "metadata": {
        "id": "iu6Fk8QRGVnv"
      }
    },
    {
      "cell_type": "markdown",
      "source": [
        "[BFAT github](https://github.com/byuccl/bfat)"
      ],
      "metadata": {
        "id": "DsBVsXLdSqe2"
      }
    },
    {
      "cell_type": "markdown",
      "source": [
        "BYU's Bistream Fault Analsysis tools uses the Senstive bits, the placed and routed design, and ProjectXRay Database to map failures. (Series 7 only at the moment)"
      ],
      "metadata": {
        "id": "uovw_VcaNoRp"
      }
    },
    {
      "cell_type": "markdown",
      "source": [
        "<figure>\n",
        "    <img src=\"https://github.com/byuccl/bfat/raw/main/bfat_flowchart.png\"\n",
        "    width=\"450\"\n",
        "    alt=\"BFAT Flow\">\n",
        "    <figcaption>BFAT Flow Graph</figcaption>\n",
        "</figure>"
      ],
      "metadata": {
        "id": "Ulk-KmIlNrEY"
      }
    },
    {
      "cell_type": "markdown",
      "source": [
        "BFAT Examples:\n",
        "\n",
        "[Embedded Proccessor](https://github.com/AEW2015/fpga-colab/blob/main/FIG/digilent_arty/digilent_arty_BFAT.ipynb)\n",
        "\n",
        "[Litex Example](https://github.com/AEW2015/fpga-colab/blob/main/BFAT_Litex_example.ipynb)"
      ],
      "metadata": {
        "id": "FrsHumWrQg0k"
      }
    },
    {
      "cell_type": "markdown",
      "source": [
        "<figure>\n",
        "    <img src=\"https://d3i71xaburhd42.cloudfront.net/6f34b7eba74d2e2460e3af1f3edd310d8492b93f/8-Table4-1.png\"\n",
        "    width=\"450\"\n",
        "    alt=\"BFAT Flow\">\n",
        "    <figcaption>Design Failures</figcaption>\n",
        "</figure>"
      ],
      "metadata": {
        "id": "OhlpZyozOFSp"
      }
    },
    {
      "cell_type": "markdown",
      "source": [
        "```======================================================================\n",
        "                             Bit Group 28\n",
        "======================================================================\n",
        "\n",
        "Significant Bits:\n",
        "------------------------------\n",
        "bit_00402b84_87_1 (0->1)\n",
        "\tINT_R_X87Y143 - WW4BEG0 2-20 Routing Mux - Column Bit\n",
        "\tResource Design Name: INT_R_X87Y143/WW4BEG0\n",
        "\tShorts formed between net(s): ISERDESE2_13_n_8 (initially connected), Unconnected Wire(SW6END_N0_3)\n",
        "\tAffected PIPs:\n",
        "\t\tSW6END_N0_3->>WW4BEG0 (activated)\n",
        "\tAffected Resources:\n",
        "\t\tVexRiscvLitexSmpCluster_Cc1_Iw32Is4096Iy1_Dw32Ds4096Dy1_ITs4DTs4_Ldw128_Ood/dBridge_logic/io_output_rdata_fifo/storage_12_reg_6_i_10_TMR_2\n",
        "\t\tmain_a7ddrphy_bitslip13_r1_reg_TMR_0[8]\n",
        "\t\tmain_a7ddrphy_bitslip13_r1_reg_TMR_1[8]\n",
        "\t\tmain_a7ddrphy_bitslip13_r1_reg_TMR_2[8]\n",
        "\n",
        "\tVivado Tcl Commands:\n",
        "\t\tselect_objects [get_pips {INT_R_X87Y143/INT_R.SW6END_N0_3->>WW4BEG0}]\n",
        "\t\tselect_objects [get_nets {ISERDESE2_13_n_8}]\n",
        "\t\tselect_objects [get_cells {VexRiscvLitexSmpCluster_Cc1_Iw32Is4096Iy1_Dw32Ds4096Dy1_ITs4DTs4_Ldw128_Ood/dBridge_logic/io_output_rdata_fifo/storage_12_reg_6_i_10_TMR_2 main_a7ddrphy_bitslip13_r1_reg_TMR_0[8] main_a7ddrphy_bitslip13_r1_reg_TMR_1[8] main_a7ddrphy_bitslip13_r1_reg_TMR_2[8]}]\n",
        "```"
      ],
      "metadata": {
        "id": "Dh2GHsuETeO0"
      }
    },
    {
      "cell_type": "markdown",
      "source": [
        "<figure>\n",
        "    <img src=\"https://d3i71xaburhd42.cloudfront.net/6f34b7eba74d2e2460e3af1f3edd310d8492b93f/9-Figure11-1.png\"\n",
        "    width=\"750\"\n",
        "    alt=\"BFAT Flow\">\n",
        "    <figcaption>Failure in Input Net before TMR</figcaption>\n",
        "</figure>"
      ],
      "metadata": {
        "id": "_M4diSufRBAY"
      }
    },
    {
      "cell_type": "markdown",
      "source": [
        "### Publication for more info: [ACM](https://dl.acm.org/doi/10.1145/3543622.3573191)"
      ],
      "metadata": {
        "id": "EY0eWo_VP4E6"
      }
    },
    {
      "cell_type": "markdown",
      "source": [
        "# TMR with Placement guides\n"
      ],
      "metadata": {
        "id": "qxTlLhlrlY8X"
      }
    },
    {
      "cell_type": "markdown",
      "source": [
        "## Design Failures"
      ],
      "metadata": {
        "id": "9dAoZdEUlY8X"
      }
    },
    {
      "cell_type": "markdown",
      "source": [
        "Same as above, just run code to refresh numbers :)"
      ],
      "metadata": {
        "id": "VOg6A9ZblY8X"
      }
    },
    {
      "cell_type": "markdown",
      "source": [
        "Assumptions:\n",
        "*   CRAM Sensitivity reported with random fault injeciton\n",
        "*   BRAM:\n",
        "  * Ignore unused BRAMs with feauters not tested\n",
        "  * Ignore FIFO BRAMs with data in flight\n",
        "  * Estimated a 50% \"sensitivity\" for operation BRAMs, but could be different\n",
        "    * difficult to simulate for more detailed analysis\n",
        "* Everything else based on utilization\n",
        "\n"
      ],
      "metadata": {
        "id": "1BIk6eaTlY8X"
      }
    },
    {
      "cell_type": "code",
      "source": [
        "CRAM_sensitivity = .0057\n",
        "nFIFO_BRAM = .0692\n",
        "SLR_util = .01 #Assume non-zero\n",
        "CNT_util = .01 #Assume non-zero\n",
        "DSP_util = .0054\n",
        "GTH_util = 0 # Not used\n",
        "IOB_util = 64 /620 # Various IO\n",
        "PLL_util = 0 / 24 # Not used\n",
        "MMCM_util = 1 / 12"
      ],
      "metadata": {
        "id": "l4XKvZctlY8X"
      },
      "execution_count": 29,
      "outputs": []
    },
    {
      "cell_type": "code",
      "source": [
        "BRAM_sensitivity_estimate = 0.5\n",
        "CRAM_design_day = CRAM_device_day * CRAM_sensitivity\n",
        "BRAM_design_day = BRAM_device_day * nFIFO_BRAM * BRAM_sensitivity_estimate\n",
        "SLR_design_day  = SLR_device_day * SLR_util\n",
        "CNT_design_day  = CNT_device_day * CNT_util\n",
        "DSP_design_day  = DSP_device_day * DSP_util\n",
        "GTH_design_day  = GTH_device_day * GTH_util\n",
        "IOB_design_day  = IOB_device_day * IOB_util\n",
        "PLL_design_day  = PLL_device_day * PLL_util\n",
        "MMCM_design_day = MMCM_device_day * MMCM_util\n",
        "SEFI_design_day = SEFI_device_day"
      ],
      "metadata": {
        "id": "sWucmJNulY8Y"
      },
      "execution_count": 30,
      "outputs": []
    },
    {
      "cell_type": "code",
      "source": [
        "Full_design_day = CRAM_design_day + BRAM_design_day + SLR_design_day + CNT_design_day + DSP_design_day \\\n",
        "                + GTH_design_day + IOB_design_day + PLL_design_day + MMCM_design_day + SEFI_design_day\n",
        "print(\"FPGA will see a design failure every {0} days\".format(1/Full_design_day))\n",
        "nTMR_GEO_MTTF = 1/Full_design_day"
      ],
      "metadata": {
        "colab": {
          "base_uri": "https://localhost:8080/"
        },
        "outputId": "961e78f3-892e-4d78-c1b4-3c50d78782d7",
        "id": "TvQc1RBtlY8Y"
      },
      "execution_count": 31,
      "outputs": [
        {
          "output_type": "stream",
          "name": "stdout",
          "text": [
            "FPGA will see a design failure every 61.2078058303423 days\n"
          ]
        }
      ]
    },
    {
      "cell_type": "code",
      "source": [
        "labels = 'CRAM', 'BRAM', 'SLR', 'Counter','DSP','GTH','IOB','PLL','MMCM','SEFI'\n",
        "sizes = [CRAM_design_day, BRAM_design_day, SLR_design_day, CNT_design_day,DSP_design_day,\\\n",
        "         GTH_design_day,IOB_design_day,PLL_design_day,MMCM_design_day,SEFI_design_day]\n",
        "\n",
        "fig, ax = plt.subplots()\n",
        "ax.pie(sizes, labels=labels, autopct='%1.1f%%')\n",
        "plt.title(\"Failure by Type\")\n",
        "plt.show()"
      ],
      "metadata": {
        "colab": {
          "base_uri": "https://localhost:8080/",
          "height": 428
        },
        "outputId": "dd460a72-7e6d-4399-a1f3-eab5540cf71c",
        "id": "rsATbTwylY8Y"
      },
      "execution_count": 32,
      "outputs": [
        {
          "output_type": "display_data",
          "data": {
            "text/plain": [
              "<Figure size 640x480 with 1 Axes>"
            ],
            "image/png": "[encoded data removed]"
          },
          "metadata": {}
        }
      ]
    },
    {
      "cell_type": "markdown",
      "source": [
        "## Mitigated Design"
      ],
      "metadata": {
        "id": "5sayi6eJlY8Y"
      }
    },
    {
      "cell_type": "markdown",
      "source": [
        "Output Voters:\n",
        "\n",
        "```\n",
        "create_pblock poserd_0\n",
        "add_cells_to_pblock [get_pblocks poserd_0] [get_cells -quiet [list \\\n",
        "    OSERDESE2_38_i_1_TMR_0_O_VOTER OSERDESE2_38_i_2_TMR_0_O_VOTER  \\\n",
        "    OSERDESE2_38_i_3_TMR_0_O_VOTER OSERDESE2_38_i_4_TMR_0_O_VOTER]]\n",
        "resize_pblock [get_pblocks poserd_0] -add {SLICE_X162Y194:SLICE_X163Y199}\n",
        "```"
      ],
      "metadata": {
        "id": "4ZzG2JmEOn_n"
      }
    },
    {
      "cell_type": "markdown",
      "source": [
        "<figure>\n",
        "    <img src=\"https://github.com/AEW2015/fpga-colab/blob/main/images/oserdes.png?raw=true\"\n",
        "    width=\"950\"\n",
        "    alt=\"BFAT Flow\">\n",
        "    <figcaption>OSERDES Placement Guide</figcaption>\n",
        "</figure>"
      ],
      "metadata": {
        "id": "FNChrT9FOaRa"
      }
    },
    {
      "cell_type": "markdown",
      "source": [
        "Input Flip-Flops\n",
        "```\n",
        "create_pblock piserd_0\n",
        "add_cells_to_pblock [get_pblocks piserd_0] [get_cells -quiet [list \\\n",
        "    main_a7ddrphy_bitslip0_r3_reg_TMR_0[15] \\\n",
        "    main_a7ddrphy_bitslip0_r3_reg_TMR_2[15] \\\n",
        "    main_a7ddrphy_bitslip0_r3_reg_TMR_2[15]]]\n",
        "resize_pblock [get_pblocks piserd_0] -add {SLICE_X162Y180:SLICE_X163Y185}\n",
        "```"
      ],
      "metadata": {
        "id": "_3E3Xle_VitW"
      }
    },
    {
      "cell_type": "markdown",
      "source": [
        "<figure>\n",
        "    <img src=\"https://github.com/AEW2015/fpga-colab/blob/main/images/iserdes.png?raw=true\"\n",
        "    width=\"950\"\n",
        "    alt=\"BFAT Flow\">\n",
        "    <figcaption>ISERDES Placement Guide</figcaption>\n",
        "</figure>"
      ],
      "metadata": {
        "id": "xB82tmCFWZii"
      }
    },
    {
      "cell_type": "markdown",
      "source": [
        "Stripping:\n",
        "```\n",
        "create_pblock pblock_dut_tmr_0\n",
        "resize_pblock [get_pblocks pblock_dut_tmr_0] -add {\n",
        "    SLICE_X0Y0:SLICE_X1Y249\n",
        "    SLICE_X6Y0:SLICE_X7Y249\n",
        "    ...\n",
        "    SLICE_X96Y0:SLICE_X97Y249\n",
        "    SLICE_X102Y0:SLICE_X103Y249\n",
        "}\n",
        "set_property IS_SOFT 0 [get_pblocks pblock_dut_tmr_0]\n",
        "add_cells_to_pblock [get_pblocks pblock_dut_tmr_0] \\\n",
        "    [get_cells -hierarchical -regexp .*TMR(_VOTER)?_0.* -filter IS_PRIMITIVE==1]\n",
        "```"
      ],
      "metadata": {
        "id": "aHxvTpxdVsix"
      }
    },
    {
      "cell_type": "markdown",
      "source": [
        "<figure>\n",
        "    <img src=\"https://github.com/AEW2015/fpga-colab/blob/main/images/pbtmr.png?raw=true\"\n",
        "    width=\"450\"\n",
        "    alt=\"BFAT Flow\">\n",
        "    <figcaption>Full Layout</figcaption>\n",
        "</figure>"
      ],
      "metadata": {
        "id": "rZ7kne1aWboA"
      }
    },
    {
      "cell_type": "markdown",
      "source": [
        "Assumptions:\n",
        "*   CRAM Sensitivity reported with random fault injeciton\n",
        "*   BRAM:\n",
        "  * Ignore unused BRAMs with feauters not tested\n",
        "  * Ignore FIFO BRAMs with data in flight\n",
        "  * Estimated a 50% \"sensitivity\" for operation BRAMs, but could be different\n",
        "    * difficult to simulate for more detailed analysis\n",
        "  * add an additional 0.412% sensitivity for BRAM (see Appendix)\n",
        "* Everything else based on utilization\n",
        "  * assume TMR protects SLR, CNT, & DSPs"
      ],
      "metadata": {
        "id": "Zpwcnj3ClY8Z"
      }
    },
    {
      "cell_type": "markdown",
      "source": [
        "__Point out CRAM sensitivity dropped by 3x from previous TMR!__"
      ],
      "metadata": {
        "id": "J_I5Cne2V89q"
      }
    },
    {
      "cell_type": "code",
      "source": [
        "CRAM_sensitivity = .00013\n",
        "nFIFO_BRAM = .2076\n",
        "SLR_util = .03 #Assume non-zero\n",
        "CNT_util = .03 #Assume non-zero\n",
        "DSP_util = .0162\n",
        "GTH_util = 0 # Not used\n",
        "IOB_util = 64 /620 # Vaiours IO\n",
        "PLL_util = 0 / 24 # Not used\n",
        "MMCM_util = 1 / 12"
      ],
      "metadata": {
        "id": "7igJdefslY8Z"
      },
      "execution_count": 33,
      "outputs": []
    },
    {
      "cell_type": "code",
      "source": [
        "BRAM_sensitivity_estimate = 0.5\n",
        "BRAM_TMR_sensitivity_estiamte = 0.00411983113735914\n",
        "TMR_protected = 0\n",
        "\n",
        "CRAM_design_day = CRAM_device_day * CRAM_sensitivity\n",
        "BRAM_design_day = BRAM_device_day * nFIFO_BRAM * BRAM_sensitivity_estimate * BRAM_TMR_sensitivity_estiamte\n",
        "SLR_design_day  = SLR_device_day * SLR_util * TMR_protected\n",
        "CNT_design_day  = CNT_device_day * CNT_util * TMR_protected\n",
        "DSP_design_day  = DSP_device_day * DSP_util * TMR_protected\n",
        "GTH_design_day  = GTH_device_day * GTH_util\n",
        "IOB_design_day  = IOB_device_day * IOB_util\n",
        "PLL_design_day  = PLL_device_day * PLL_util\n",
        "MMCM_design_day = MMCM_device_day * MMCM_util\n",
        "SEFI_design_day = SEFI_device_day"
      ],
      "metadata": {
        "id": "ar75c9iClY8Z"
      },
      "execution_count": 34,
      "outputs": []
    },
    {
      "cell_type": "code",
      "source": [
        "Full_design_day = CRAM_design_day + BRAM_design_day + SLR_design_day + CNT_design_day + DSP_design_day \\\n",
        "                + GTH_design_day + IOB_design_day + PLL_design_day + MMCM_design_day + SEFI_design_day\n",
        "print(\"FPGA will see a design failure every {0} Year\".format(1/Full_design_day/365.25))\n",
        "TMR_GEO_MTTF = 1/Full_design_day"
      ],
      "metadata": {
        "colab": {
          "base_uri": "https://localhost:8080/"
        },
        "outputId": "644bf1eb-d570-4edc-81c4-23e46403c413",
        "id": "aREQw41JlY8Z"
      },
      "execution_count": 35,
      "outputs": [
        {
          "output_type": "stream",
          "name": "stdout",
          "text": [
            "FPGA will see a design failure every 3.0501286701350017 Year\n"
          ]
        }
      ]
    },
    {
      "cell_type": "code",
      "source": [
        "labels = 'CRAM', 'BRAM', 'SLR', 'Counter','DSP','GTH','IOB','PLL','MMCM','SEFI'\n",
        "sizes = [CRAM_design_day, BRAM_design_day, SLR_design_day, CNT_design_day,DSP_design_day,\\\n",
        "         GTH_design_day,IOB_design_day,PLL_design_day,MMCM_design_day,SEFI_design_day]\n",
        "\n",
        "fig, ax = plt.subplots()\n",
        "ax.pie(sizes, labels=labels, autopct='%1.1f%%')\n",
        "plt.title(\"Failure by Type\")\n",
        "plt.show()"
      ],
      "metadata": {
        "colab": {
          "base_uri": "https://localhost:8080/",
          "height": 428
        },
        "outputId": "a80655d4-3807-4f3d-e76c-8334ab44cb89",
        "id": "ifXTKexplY8Z"
      },
      "execution_count": 36,
      "outputs": [
        {
          "output_type": "display_data",
          "data": {
            "text/plain": [
              "<Figure size 640x480 with 1 Axes>"
            ],
            "image/png": "[encoded data removed]"
          },
          "metadata": {}
        }
      ]
    },
    {
      "cell_type": "markdown",
      "source": [
        "## Compare to Radiation Data"
      ],
      "metadata": {
        "id": "wAOGh2azlY8a"
      }
    },
    {
      "cell_type": "markdown",
      "source": [
        "LANSCE Radiation Test with Nexys 7 dev board"
      ],
      "metadata": {
        "id": "S_sDVSqWH6Q_"
      }
    },
    {
      "cell_type": "markdown",
      "source": [
        "<figure>\n",
        "    <img src=\"https://ccl.byu.edu/images/news_2022/lansce_experiments.jpg\"\n",
        "    width=\"750\"\n",
        "    alt=\"VexRiscv LiteX Par Rad Test\">\n",
        "    <figcaption>LANSCE Radiation Test</figcaption>\n",
        "</figure>"
      ],
      "metadata": {
        "id": "YHo1WrFfGtDi"
      }
    },
    {
      "cell_type": "code",
      "source": [
        "nTMR_NEU_MFTF = 1/ 2.59E-09 # 1/ cross-section\n",
        "TMR_NEU_MFTF = 1 / 1.14E-10 # 1/ cross-section"
      ],
      "metadata": {
        "id": "XG50gCeolY8a"
      },
      "execution_count": 37,
      "outputs": []
    },
    {
      "cell_type": "code",
      "source": [
        "GEO_improvement = TMR_GEO_MTTF/nTMR_GEO_MTTF\n",
        "NEU_improvement = TMR_NEU_MFTF/nTMR_NEU_MFTF\n",
        "print(GEO_improvement,NEU_improvement)"
      ],
      "metadata": {
        "colab": {
          "base_uri": "https://localhost:8080/"
        },
        "outputId": "1cd56c7a-45d0-42d8-96c4-f2584e5a694e",
        "id": "7qu7tkNklY8a"
      },
      "execution_count": 38,
      "outputs": [
        {
          "output_type": "stream",
          "name": "stdout",
          "text": [
            "18.201265045422378 22.719298245614034\n"
          ]
        }
      ]
    },
    {
      "cell_type": "code",
      "source": [
        "nTMR_processor_count = 1\n",
        "TMR_processor_count = 1\n",
        "nTMR_norm_perf = 1\n",
        "TMR_norm_perf = 0.81\n",
        "\n",
        "nTMR_GEO_MWBF = nTMR_GEO_MTTF * nTMR_processor_count * nTMR_norm_perf\n",
        "TMR_GEO_MWBF = TMR_GEO_MTTF * TMR_processor_count * TMR_norm_perf\n",
        "\n",
        "nTMR_NEU_MWBF = nTMR_NEU_MFTF * nTMR_processor_count * nTMR_norm_perf\n",
        "TMR_NEU_MWBF = TMR_NEU_MFTF * TMR_processor_count * TMR_norm_perf\n",
        "\n",
        "GEO_improvement = TMR_GEO_MWBF/nTMR_GEO_MWBF\n",
        "NEU_improvement = TMR_NEU_MWBF/nTMR_NEU_MWBF\n",
        "print(GEO_improvement,NEU_improvement)"
      ],
      "metadata": {
        "colab": {
          "base_uri": "https://localhost:8080/"
        },
        "id": "vcH9lnjgmHNN",
        "outputId": "578f33d0-b1f0-4caa-c637-0af0fb349abd"
      },
      "execution_count": 39,
      "outputs": [
        {
          "output_type": "stream",
          "name": "stdout",
          "text": [
            "14.743024686792127 18.40263157894737\n"
          ]
        }
      ]
    },
    {
      "cell_type": "markdown",
      "source": [
        "These results differ about 20%, but otherwise lineup well.  This could be due to the different failure modes from GEO to Neutron, BRAM sensitivity (still just a guess), or other unknowns."
      ],
      "metadata": {
        "id": "A-SyzH4TIC-e"
      }
    },
    {
      "cell_type": "markdown",
      "source": [
        "# TMR with DDR EDAC\n"
      ],
      "metadata": {
        "id": "yF9hl_V4mYRh"
      }
    },
    {
      "cell_type": "markdown",
      "source": [
        "The Antmicro DDR4 tester to support the full 72-bit data bus for a simple radiation test with Series 7 FPGAs."
      ],
      "metadata": {
        "id": "TmqD5fVXIbOl"
      }
    },
    {
      "cell_type": "markdown",
      "source": [
        "<figure>\n",
        "    <img src=\"https://rowhammer-tester.readthedocs.io/en/latest/_images/ddr4_datacenter_dram_tester.jpg\"\n",
        "    width=\"750\"\n",
        "    alt=\"VexRiscv LiteX Par Rad Test\">\n",
        "    <figcaption>Antmicro DDR4 Tester</figcaption>\n",
        "</figure>"
      ],
      "metadata": {
        "id": "uUs4oppDH-rA"
      }
    },
    {
      "cell_type": "markdown",
      "source": [
        "## Design Failures"
      ],
      "metadata": {
        "id": "na3o5_R-mYRh"
      }
    },
    {
      "cell_type": "markdown",
      "source": [
        "Assumptions:\n",
        "*   CRAM Sensitivity reported with random fault injeciton\n",
        "*   BRAM:\n",
        "  * Ignore unused BRAMs with feauters not tested\n",
        "  * Ignore FIFO BRAMs with data in flight\n",
        "  * Estimated a 50% \"sensitivity\" for operation BRAMs, but could be different\n",
        "    * difficult to simulate for more detailed analysis\n",
        "* Everything else based on utilization\n",
        "\n"
      ],
      "metadata": {
        "id": "I48NTjNsmYRi"
      }
    },
    {
      "cell_type": "code",
      "source": [
        "CRAM_sensitivity = .01274\n",
        "nFIFO_BRAM = .0692\n",
        "SLR_util = .01 #Assume non-zero\n",
        "CNT_util = .01 #Assume non-zero\n",
        "DSP_util = .0067\n",
        "GTH_util = 0 # Not used\n",
        "IOB_util = 138 /620 # Lots of IO for DDR4 72-bit bus and address\n",
        "PLL_util = 1 / 24 # Not used\n",
        "MMCM_util = 0 / 12"
      ],
      "metadata": {
        "id": "V8LXYLBBmYRi"
      },
      "execution_count": 40,
      "outputs": []
    },
    {
      "cell_type": "code",
      "source": [
        "BRAM_sensitivity_estimate = 0.5\n",
        "CRAM_design_day = CRAM_device_day * CRAM_sensitivity\n",
        "BRAM_design_day = BRAM_device_day * nFIFO_BRAM * BRAM_sensitivity_estimate\n",
        "SLR_design_day  = SLR_device_day * SLR_util\n",
        "CNT_design_day  = CNT_device_day * CNT_util\n",
        "DSP_design_day  = DSP_device_day * DSP_util\n",
        "GTH_design_day  = GTH_device_day * GTH_util\n",
        "IOB_design_day  = IOB_device_day * IOB_util\n",
        "PLL_design_day  = PLL_device_day * PLL_util\n",
        "MMCM_design_day = MMCM_device_day * MMCM_util\n",
        "SEFI_design_day = SEFI_device_day"
      ],
      "metadata": {
        "id": "VU8yG4yomYRi"
      },
      "execution_count": 41,
      "outputs": []
    },
    {
      "cell_type": "code",
      "source": [
        "Full_design_day = CRAM_design_day + BRAM_design_day + SLR_design_day + CNT_design_day + DSP_design_day \\\n",
        "                + GTH_design_day + IOB_design_day + PLL_design_day + MMCM_design_day + SEFI_design_day\n",
        "print(\"FPGA will see a design failure every {0} days\".format(1/Full_design_day))\n",
        "nTMR_GEO_MTTF = 1/Full_design_day"
      ],
      "metadata": {
        "colab": {
          "base_uri": "https://localhost:8080/"
        },
        "outputId": "4548ecf0-9f11-4b16-939c-0d7e1d3b13aa",
        "id": "Y_eyb2wEmYRi"
      },
      "execution_count": 42,
      "outputs": [
        {
          "output_type": "stream",
          "name": "stdout",
          "text": [
            "FPGA will see a design failure every 44.416831373210684 days\n"
          ]
        }
      ]
    },
    {
      "cell_type": "code",
      "source": [
        "labels = 'CRAM', 'BRAM', 'SLR', 'Counter','DSP','GTH','IOB','PLL','MMCM','SEFI'\n",
        "sizes = [CRAM_design_day, BRAM_design_day, SLR_design_day, CNT_design_day,DSP_design_day,\\\n",
        "         GTH_design_day,IOB_design_day,PLL_design_day,MMCM_design_day,SEFI_design_day]\n",
        "\n",
        "fig, ax = plt.subplots()\n",
        "ax.pie(sizes, labels=labels, autopct='%1.1f%%')\n",
        "plt.title(\"Failure by Type\")\n",
        "plt.show()"
      ],
      "metadata": {
        "colab": {
          "base_uri": "https://localhost:8080/",
          "height": 428
        },
        "outputId": "092b3f0a-4f03-4682-b2cd-d8f16a46805f",
        "id": "uagPN-Y_mYRi"
      },
      "execution_count": 43,
      "outputs": [
        {
          "output_type": "display_data",
          "data": {
            "text/plain": [
              "<Figure size 640x480 with 1 Axes>"
            ],
            "image/png": "[encoded data removed]"
          },
          "metadata": {}
        }
      ]
    },
    {
      "cell_type": "markdown",
      "source": [
        "## Mitigated Design"
      ],
      "metadata": {
        "id": "l0DqCuNdmYRj"
      }
    },
    {
      "cell_type": "markdown",
      "source": [
        "Assumptions:\n",
        "*   CRAM Sensitivity reported with random fault injeciton\n",
        "*   BRAM:\n",
        "  * Ignore unused BRAMs with feauters not tested\n",
        "  * Ignore FIFO BRAMs with data in flight\n",
        "  * Estimated a 50% \"sensitivity\" for operation BRAMs, but could be different\n",
        "    * difficult to simulate for more detailed analysis\n",
        "  * add an additional 0.412% sensitivity for BRAM (see Appendix)\n",
        "* Everything else based on utilization\n",
        "  * assume TMR protects SLR, CNT, & DSPs"
      ],
      "metadata": {
        "id": "OCj2FiE1mYRj"
      }
    },
    {
      "cell_type": "code",
      "source": [
        "CRAM_sensitivity = .00035\n",
        "nFIFO_BRAM = .2076\n",
        "SLR_util = .03 #Assume non-zero\n",
        "CNT_util = .03 #Assume non-zero\n",
        "DSP_util = .0301\n",
        "GTH_util = 0 # Not used\n",
        "IOB_util = 75 /620 # Reduce IO since Data pins are protected\n",
        "PLL_util = 1 / 24 # Not used\n",
        "MMCM_util = 0 / 12"
      ],
      "metadata": {
        "id": "uQu_6N7kmYRj"
      },
      "execution_count": 44,
      "outputs": []
    },
    {
      "cell_type": "code",
      "source": [
        "BRAM_sensitivity_estimate = 0.5\n",
        "BRAM_TMR_sensitivity_estiamte = 0.00411983113735914\n",
        "TMR_protected = 0\n",
        "\n",
        "CRAM_design_day = CRAM_device_day * CRAM_sensitivity\n",
        "BRAM_design_day = BRAM_device_day * nFIFO_BRAM * BRAM_sensitivity_estimate * BRAM_TMR_sensitivity_estiamte\n",
        "SLR_design_day  = SLR_device_day * SLR_util * TMR_protected\n",
        "CNT_design_day  = CNT_device_day * CNT_util * TMR_protected\n",
        "DSP_design_day  = DSP_device_day * DSP_util * TMR_protected\n",
        "GTH_design_day  = GTH_device_day * GTH_util\n",
        "IOB_design_day  = IOB_device_day * IOB_util\n",
        "PLL_design_day  = PLL_device_day * PLL_util\n",
        "MMCM_design_day = MMCM_device_day * MMCM_util\n",
        "SEFI_design_day = SEFI_device_day"
      ],
      "metadata": {
        "id": "iH1lyglLmYRj"
      },
      "execution_count": 45,
      "outputs": []
    },
    {
      "cell_type": "code",
      "source": [
        "Full_design_day = CRAM_design_day + BRAM_design_day + SLR_design_day + CNT_design_day + DSP_design_day \\\n",
        "                + GTH_design_day + IOB_design_day + PLL_design_day + MMCM_design_day + SEFI_design_day\n",
        "print(\"FPGA will see a design failure every {0} Year\".format(1/Full_design_day/365.25))\n",
        "TMR_GEO_MTTF = 1/Full_design_day"
      ],
      "metadata": {
        "colab": {
          "base_uri": "https://localhost:8080/"
        },
        "outputId": "d087fbd5-7347-4a59-f0f0-d881680f480f",
        "id": "vuFyMFjPmYRj"
      },
      "execution_count": 46,
      "outputs": [
        {
          "output_type": "stream",
          "name": "stdout",
          "text": [
            "FPGA will see a design failure every 2.45402225473117 Year\n"
          ]
        }
      ]
    },
    {
      "cell_type": "code",
      "source": [
        "labels = 'CRAM', 'BRAM', 'SLR', 'Counter','DSP','GTH','IOB','PLL','MMCM','SEFI'\n",
        "sizes = [CRAM_design_day, BRAM_design_day, SLR_design_day, CNT_design_day,DSP_design_day,\\\n",
        "         GTH_design_day,IOB_design_day,PLL_design_day,MMCM_design_day,SEFI_design_day]\n",
        "\n",
        "fig, ax = plt.subplots()\n",
        "ax.pie(sizes, labels=labels, autopct='%1.1f%%')\n",
        "plt.title(\"Failure by Type\")\n",
        "plt.show()"
      ],
      "metadata": {
        "colab": {
          "base_uri": "https://localhost:8080/",
          "height": 428
        },
        "outputId": "745588c9-5bfd-4d5d-98a4-9639675c9d9d",
        "id": "mfOuiVRJmYRk"
      },
      "execution_count": 47,
      "outputs": [
        {
          "output_type": "display_data",
          "data": {
            "text/plain": [
              "<Figure size 640x480 with 1 Axes>"
            ],
            "image/png": "[encoded data removed]"
          },
          "metadata": {}
        }
      ]
    },
    {
      "cell_type": "markdown",
      "source": [
        "## Compare to Radiation Data"
      ],
      "metadata": {
        "id": "p0mpy932mYRk"
      }
    },
    {
      "cell_type": "code",
      "source": [
        "nTMR_NEU_MFTF = 1/ 3.82E-09 # 1/ cross-section\n",
        "TMR_NEU_MFTF = 1 / 1.93E-10 # 1/ cross-section"
      ],
      "metadata": {
        "id": "3i-My_2emYRk"
      },
      "execution_count": 48,
      "outputs": []
    },
    {
      "cell_type": "code",
      "source": [
        "GEO_improvement = TMR_GEO_MTTF/nTMR_GEO_MTTF\n",
        "NEU_improvement = TMR_NEU_MFTF/nTMR_NEU_MFTF\n",
        "print(GEO_improvement,NEU_improvement)"
      ],
      "metadata": {
        "colab": {
          "base_uri": "https://localhost:8080/"
        },
        "outputId": "41a04de2-01f9-44e8-e9c3-61582d6e7be2",
        "id": "O4dDDIrlmYRk"
      },
      "execution_count": 49,
      "outputs": [
        {
          "output_type": "stream",
          "name": "stdout",
          "text": [
            "20.179999356756642 19.792746113989637\n"
          ]
        }
      ]
    },
    {
      "cell_type": "code",
      "source": [
        "nTMR_processor_count = 1\n",
        "TMR_processor_count = 1\n",
        "nTMR_norm_perf = 1\n",
        "TMR_norm_perf = 0.81\n",
        "\n",
        "nTMR_GEO_MWBF = nTMR_GEO_MTTF * nTMR_processor_count * nTMR_norm_perf\n",
        "TMR_GEO_MWBF = TMR_GEO_MTTF * TMR_processor_count * TMR_norm_perf\n",
        "\n",
        "nTMR_NEU_MWBF = nTMR_NEU_MFTF * nTMR_processor_count * nTMR_norm_perf\n",
        "TMR_NEU_MWBF = TMR_NEU_MFTF * TMR_processor_count * TMR_norm_perf\n",
        "\n",
        "GEO_improvement = TMR_GEO_MWBF/nTMR_GEO_MWBF\n",
        "NEU_improvement = TMR_NEU_MWBF/nTMR_NEU_MWBF\n",
        "print(GEO_improvement,NEU_improvement)"
      ],
      "metadata": {
        "colab": {
          "base_uri": "https://localhost:8080/"
        },
        "outputId": "bc82a53c-67d3-41c4-bdf0-57f06a12956c",
        "id": "iDfWTAHrmYRk"
      },
      "execution_count": 50,
      "outputs": [
        {
          "output_type": "stream",
          "name": "stdout",
          "text": [
            "16.345799478972882 16.032124352331607\n"
          ]
        }
      ]
    },
    {
      "cell_type": "markdown",
      "source": [
        "The GEO model and Neutron radiation test line up very for this example."
      ],
      "metadata": {
        "id": "jH8WKU69JDeE"
      }
    },
    {
      "cell_type": "markdown",
      "source": [
        "# Dont forget DDR Failure Rates"
      ],
      "metadata": {
        "id": "c-lTlY8YnzB9"
      }
    },
    {
      "cell_type": "markdown",
      "source": [
        "The FPGA is not the only thing that has failures that can affect the operation for our system.  The external DDR module was not included in fault injection or radiation test with the LiteX SoC."
      ],
      "metadata": {
        "id": "9iTLLPZqJOiU"
      }
    },
    {
      "cell_type": "markdown",
      "source": [
        "<figure>\n",
        "    <img src=\"https://www.3d-plus.com/app/uploads/2023/04/3D4D48G48LB2825.png.webp\" width=\"250\" alt=\"3Dplus Memory\">\n",
        "    <figcaption>3Dplus Radiation Tolerant DDR4</figcaption>\n",
        "</figure>"
      ],
      "metadata": {
        "id": "UY7SYV0_IPz0"
      }
    },
    {
      "cell_type": "markdown",
      "source": [
        "## Placement with SDRAM DDR"
      ],
      "metadata": {
        "id": "kATRVskun4Lu"
      }
    },
    {
      "cell_type": "code",
      "source": [
        "CRAM_sensitivity = .00013\n",
        "nFIFO_BRAM = .2076\n",
        "SLR_util = .03 #Assume non-zero\n",
        "CNT_util = .03 #Assume non-zero\n",
        "DSP_util = .0162\n",
        "GTH_util = 0 # Not used\n",
        "IOB_util = 64 /620 # UART only\n",
        "PLL_util = 0 / 24 # Not used\n",
        "MMCM_util = 1 / 12"
      ],
      "metadata": {
        "id": "xYgfEVKtn_QE"
      },
      "execution_count": 51,
      "outputs": []
    },
    {
      "cell_type": "code",
      "source": [
        "BRAM_sensitivity_estimate = 0.5\n",
        "BRAM_TMR_sensitivity_estiamte = 0.00411983113735914\n",
        "TMR_protected = 0\n",
        "\n",
        "CRAM_design_day = CRAM_device_day * CRAM_sensitivity\n",
        "BRAM_design_day = BRAM_device_day * nFIFO_BRAM * BRAM_sensitivity_estimate * BRAM_TMR_sensitivity_estiamte\n",
        "SLR_design_day  = SLR_device_day * SLR_util * TMR_protected\n",
        "CNT_design_day  = CNT_device_day * CNT_util * TMR_protected\n",
        "DSP_design_day  = DSP_device_day * DSP_util * TMR_protected\n",
        "GTH_design_day  = GTH_device_day * GTH_util\n",
        "IOB_design_day  = IOB_device_day * IOB_util\n",
        "PLL_design_day  = PLL_device_day * PLL_util\n",
        "MMCM_design_day = MMCM_device_day * MMCM_util\n",
        "SEFI_design_day = SEFI_device_day"
      ],
      "metadata": {
        "id": "FIvj_X8Kn_QF"
      },
      "execution_count": 52,
      "outputs": []
    },
    {
      "cell_type": "code",
      "source": [
        "# Example with critical charge\n",
        "DDR_bit_day = 7.0531E-12\n",
        "# Same as BRAM for quick estimate\n",
        "DDR_sensitivity_estimate = 0.5\n",
        "# go for 16Gb (2GB)\n",
        "DDR_device_day = 1024 * 1024 * 1024 * 16 * DDR_bit_day * DDR_sensitivity_estimate"
      ],
      "metadata": {
        "id": "c7h1fZREoDiH"
      },
      "execution_count": 53,
      "outputs": []
    },
    {
      "cell_type": "code",
      "source": [
        "Full_design_day = CRAM_design_day + BRAM_design_day + SLR_design_day + CNT_design_day + DSP_design_day \\\n",
        "                + GTH_design_day + IOB_design_day + PLL_design_day + MMCM_design_day + SEFI_design_day + DDR_device_day\n",
        "print(\"FPGA will see a design failure every {0} days\".format(1/Full_design_day))\n",
        "TMR_GEO_MTTF = 1/Full_design_day"
      ],
      "metadata": {
        "colab": {
          "base_uri": "https://localhost:8080/"
        },
        "outputId": "e5c68576-b1bf-48d1-c71b-0f285f02b766",
        "id": "1keVrEfcn_QF"
      },
      "execution_count": 54,
      "outputs": [
        {
          "output_type": "stream",
          "name": "stdout",
          "text": [
            "FPGA will see a design failure every 16.264582918866775 days\n"
          ]
        }
      ]
    },
    {
      "cell_type": "code",
      "source": [
        "labels = 'CRAM', 'BRAM', 'DDR', 'Counter','DSP','GTH','IOB','PLL','MMCM','SEFI','SLR'\n",
        "sizes = [CRAM_design_day, BRAM_design_day, DDR_device_day, CNT_design_day,DSP_design_day,\\\n",
        "         GTH_design_day,IOB_design_day,PLL_design_day,MMCM_design_day,SEFI_design_day,SLR_design_day]\n",
        "\n",
        "fig, ax = plt.subplots()\n",
        "ax.pie(sizes, labels=labels, autopct='%1.1f%%')\n",
        "plt.title(\"Failure by Type\")\n",
        "plt.show()"
      ],
      "metadata": {
        "colab": {
          "base_uri": "https://localhost:8080/",
          "height": 428
        },
        "outputId": "6ab0389f-fe00-48c5-ad17-032987a98cf3",
        "id": "seLkTBYLn_QF"
      },
      "execution_count": 55,
      "outputs": [
        {
          "output_type": "display_data",
          "data": {
            "text/plain": [
              "<Figure size 640x480 with 1 Axes>"
            ],
            "image/png": "[encoded data removed]"
          },
          "metadata": {}
        }
      ]
    },
    {
      "cell_type": "markdown",
      "source": [
        "## DDR ECC with SDRAM DDR"
      ],
      "metadata": {
        "id": "KrrKcrU5pxOX"
      }
    },
    {
      "cell_type": "code",
      "source": [
        "CRAM_sensitivity = .00035\n",
        "nFIFO_BRAM = .2076\n",
        "SLR_util = .03 #Assume non-zero\n",
        "CNT_util = .03 #Assume non-zero\n",
        "DSP_util = .0301\n",
        "GTH_util = 0 # Not used\n",
        "IOB_util = 75 /620 # Data lines protected by ECC\n",
        "PLL_util = 1 / 24 # Not used\n",
        "MMCM_util = 0 / 12"
      ],
      "metadata": {
        "id": "KVJIsauup38g"
      },
      "execution_count": 56,
      "outputs": []
    },
    {
      "cell_type": "code",
      "source": [
        "BRAM_sensitivity_estimate = 0.5\n",
        "BRAM_TMR_sensitivity_estiamte = 0.00411983113735914\n",
        "TMR_protected = 0\n",
        "\n",
        "CRAM_design_day = CRAM_device_day * CRAM_sensitivity\n",
        "BRAM_design_day = BRAM_device_day * nFIFO_BRAM * BRAM_sensitivity_estimate * BRAM_TMR_sensitivity_estiamte\n",
        "SLR_design_day  = SLR_device_day * SLR_util * TMR_protected\n",
        "CNT_design_day  = CNT_device_day * CNT_util * TMR_protected\n",
        "DSP_design_day  = DSP_device_day * DSP_util * TMR_protected\n",
        "GTH_design_day  = GTH_device_day * GTH_util\n",
        "IOB_design_day  = IOB_device_day * IOB_util\n",
        "PLL_design_day  = PLL_device_day * PLL_util\n",
        "MMCM_design_day = MMCM_device_day * MMCM_util\n",
        "SEFI_design_day = SEFI_device_day"
      ],
      "metadata": {
        "id": "OXhbI67Dp38g"
      },
      "execution_count": 57,
      "outputs": []
    },
    {
      "cell_type": "code",
      "source": [
        "# Example with critical charge\n",
        "DDR_bit_day = 7.0531E-12\n",
        "# Same as BRAM for quick estimate\n",
        "DDR_sensitivity_estimate = 0.5\n",
        "# Simple ECC estimate (same as BRAM TMR), but probably much better\n",
        "DDR_ECC_sensitivity_estiamte = 0.00411983113735914\n",
        "# go for 16Gb (2GB)\n",
        "DDR_device_day = 1024 * 1024 * 1024 * 16 * DDR_bit_day * DDR_sensitivity_estimate * DDR_ECC_sensitivity_estiamte"
      ],
      "metadata": {
        "id": "ubTWFsISp5t4"
      },
      "execution_count": 58,
      "outputs": []
    },
    {
      "cell_type": "code",
      "source": [
        "Full_design_day = CRAM_design_day + BRAM_design_day + SLR_design_day + CNT_design_day + DSP_design_day \\\n",
        "                + GTH_design_day + IOB_design_day + PLL_design_day + MMCM_design_day + SEFI_design_day + DDR_device_day\n",
        "print(\"FPGA will see a design failure every {0} years\".format(1/Full_design_day/365.25))\n",
        "TMR_GEO_MTTF = 1/Full_design_day"
      ],
      "metadata": {
        "colab": {
          "base_uri": "https://localhost:8080/"
        },
        "outputId": "a8306742-aa2b-4eaf-d52f-a98250386090",
        "id": "nR3y_Z62p38g"
      },
      "execution_count": 59,
      "outputs": [
        {
          "output_type": "stream",
          "name": "stdout",
          "text": [
            "FPGA will see a design failure every 2.0053677253668956 years\n"
          ]
        }
      ]
    },
    {
      "cell_type": "code",
      "source": [
        "labels = 'CRAM', 'BRAM','DDR', 'Counter','DSP','GTH','IOB','PLL','MMCM','SEFI','SLR'\n",
        "sizes = [CRAM_design_day, BRAM_design_day, DDR_device_day, CNT_design_day,DSP_design_day,\\\n",
        "         GTH_design_day,IOB_design_day,PLL_design_day,MMCM_design_day,SEFI_design_day,SLR_design_day]\n",
        "\n",
        "fig, ax = plt.subplots()\n",
        "ax.pie(sizes, labels=labels, autopct='%1.1f%%')\n",
        "plt.title(\"Failure by Type\")\n",
        "plt.show()"
      ],
      "metadata": {
        "colab": {
          "base_uri": "https://localhost:8080/",
          "height": 428
        },
        "outputId": "a3edc9a8-9e6f-4e1d-b040-94ea8edca170",
        "id": "tlR0m0MFp38g"
      },
      "execution_count": 60,
      "outputs": [
        {
          "output_type": "display_data",
          "data": {
            "text/plain": [
              "<Figure size 640x480 with 1 Axes>"
            ],
            "image/png": "[encoded data removed]"
          },
          "metadata": {}
        }
      ]
    },
    {
      "cell_type": "markdown",
      "source": [
        "## What About MRAM external memory?\n",
        "\n",
        "There are other options besides SDRAM DDR that perform much better in space enviroments."
      ],
      "metadata": {
        "id": "cFdHG63YyoG0"
      }
    },
    {
      "cell_type": "markdown",
      "source": [
        "\n",
        "\n",
        "<figure>\n",
        "    <img src=\"https://b1967244.smushcdn.com/1967244/wp-content/uploads/consolidation-with-8Gb-v2.png\"\n",
        "    width=\"750\"\n",
        "    alt=\"MRAM Memory\">\n",
        "    <figcaption>MRAM memory option</figcaption>\n",
        "</figure>"
      ],
      "metadata": {
        "id": "WEoNdkU6LLqX"
      }
    },
    {
      "cell_type": "markdown",
      "source": [
        "# Reaching Full Fault Tolerance"
      ],
      "metadata": {
        "id": "UHhJXPxAEQ81"
      }
    },
    {
      "cell_type": "markdown",
      "source": [
        "* CRAM -> TMR placement to reduce sensitivity to 0.01%\n",
        "* BRAM -> EDAC with scrubbing to greatly reduce sensitvity\n",
        "* DDR/IO -> Protocols to protect Data, Addr, Cmd\n",
        "    *  3Dplus Radiation Intelligent Memory Controller (RMIC)\n",
        "        * Reed Solomon\n",
        "        * Addr/Cmd Parity\n",
        "* External Devices -> Select MRAM or FDSOI memories\n",
        "    * Avalanche MRAM\n",
        "    * 3Dplus MNEMOSYNE"
      ],
      "metadata": {
        "id": "R2T7TKTEEWw7"
      }
    },
    {
      "cell_type": "code",
      "source": [
        "Other_design_day = 1E-4\n",
        "Full_design_day =  SEFI_design_day+Other_design_day\n",
        "print(\"FPGA will see a design failure every {0} years\".format(1/Full_design_day/365.25))\n",
        "TMR_GEO_MTTF = 1/Full_design_day"
      ],
      "metadata": {
        "colab": {
          "base_uri": "https://localhost:8080/"
        },
        "outputId": "28120246-d3c6-4942-c41b-ec90bf95d755",
        "id": "4EvOOYXvFXD2"
      },
      "execution_count": 61,
      "outputs": [
        {
          "output_type": "stream",
          "name": "stdout",
          "text": [
            "FPGA will see a design failure every 4.977910522058366 years\n"
          ]
        }
      ]
    },
    {
      "cell_type": "code",
      "source": [
        "labels = 'SEFI','Others'\n",
        "sizes = [SEFI_design_day,Other_design_day]\n",
        "\n",
        "fig, ax = plt.subplots()\n",
        "ax.pie(sizes, labels=labels, autopct='%1.1f%%')\n",
        "plt.title(\"Failure by Type\")\n",
        "plt.show()"
      ],
      "metadata": {
        "colab": {
          "base_uri": "https://localhost:8080/",
          "height": 428
        },
        "outputId": "b1d273da-e4eb-4e25-97d5-39318b29a153",
        "id": "4HJ01712FXD3"
      },
      "execution_count": 62,
      "outputs": [
        {
          "output_type": "display_data",
          "data": {
            "text/plain": [
              "<Figure size 640x480 with 1 Axes>"
            ],
            "image/png": "[encoded data removed]"
          },
          "metadata": {}
        }
      ]
    },
    {
      "cell_type": "markdown",
      "source": [
        "For the xqrKU060, the SEFI quickly becomes the limiting factor for fault tolerance.  \n",
        "\n",
        "If you can allow for \"down time\", MTTF from 7 days to 5 years may be enough.\n",
        "\n",
        "If you need critical function over a window that can't abort, a MTTF of 5 years may not be enough.\n",
        "\n",
        "If you need better MTTF, then other technologies need to be considered.\n",
        "\n",
        "\n",
        "For Heavy Ion Data,\n",
        "* AMD Versal AI Edge 2302 will likely get up to __100__ years with the same design.\n",
        "* Microchip RTG4 will likely get up to __1000__ years with the same design."
      ],
      "metadata": {
        "id": "EMnV8H88GR2w"
      }
    },
    {
      "cell_type": "markdown",
      "source": [
        "Summary:\n",
        "*   Understand Orbit data and SEE rates\n",
        "*   Perform Fault Injection\n",
        "*   Trace Fault dependences and consequnces\n",
        "*   Identify Critical Single-point failures\n",
        "*   Provide targeted mitigation to help"
      ],
      "metadata": {
        "id": "T_da4_GEHcp_"
      }
    },
    {
      "cell_type": "markdown",
      "source": [
        "# BRAM TMR Sensitivity Appendix"
      ],
      "metadata": {
        "id": "MNi2_QlVIbBW"
      }
    },
    {
      "cell_type": "markdown",
      "source": [
        "## Model\n",
        "\n",
        "Some quick math to get a \"close\" value, check later with simulation"
      ],
      "metadata": {
        "id": "FR5TPvXIIukp"
      }
    },
    {
      "cell_type": "code",
      "source": [
        "from sympy import symbols, binomial\n",
        "# Calculating the probability that exactly 2 out of 3 bits fail for 3 32Kb BRAMs\n",
        "p_value = 1/(3*32*1024) #\n",
        "P_X_equals_2_value = binomial(3, 2) * (p_value**2) * ((1-p_value)**(3-2))\n",
        "\n",
        "P_X_equals_2_value"
      ],
      "metadata": {
        "colab": {
          "base_uri": "https://localhost:8080/",
          "height": 37
        },
        "id": "GxzalAWCId0v",
        "outputId": "92cac777-8796-47be-d0f8-6b56b959556f"
      },
      "execution_count": null,
      "outputs": [
        {
          "output_type": "execute_result",
          "data": {
            "text/plain": [
              "3.10437700237445e-10"
            ],
            "text/latex": "$\\displaystyle 3.10437700237445 \\cdot 10^{-10}$"
          },
          "metadata": {},
          "execution_count": 86
        }
      ]
    },
    {
      "cell_type": "code",
      "source": [
        "P_X_equals_2_value * 32 * 1024 * 405"
      ],
      "metadata": {
        "colab": {
          "base_uri": "https://localhost:8080/",
          "height": 37
        },
        "id": "Pk1a3Hm8IrYV",
        "outputId": "1844f318-e1c3-4364-ab34-d46b49f051e4"
      },
      "execution_count": null,
      "outputs": [
        {
          "output_type": "execute_result",
          "data": {
            "text/plain": [
              "0.00411983113735914"
            ],
            "text/latex": "$\\displaystyle 0.00411983113735914$"
          },
          "metadata": {},
          "execution_count": 87
        }
      ]
    },
    {
      "cell_type": "markdown",
      "source": [
        "## TMR BRAM Simulation\n",
        "\n",
        "Our Model value is about 5% below the median of TMR BRAM failures.\n",
        "It seems to be a good conserative value."
      ],
      "metadata": {
        "id": "jw2spj6kI1vE"
      }
    },
    {
      "cell_type": "code",
      "source": [
        "import numpy as np\n",
        "k32 = 32*1024\n",
        "k96 = 96*1024\n",
        "p96 = 1/k96\n",
        "pbgeo = 0.0000000078773"
      ],
      "metadata": {
        "id": "KDtd8g62ItfC"
      },
      "execution_count": 99,
      "outputs": []
    },
    {
      "cell_type": "code",
      "source": [
        "#reset array\n",
        "nTMR = []\n",
        "TMR = []"
      ],
      "metadata": {
        "id": "weUi2kCAI-rS"
      },
      "execution_count": 100,
      "outputs": []
    },
    {
      "cell_type": "markdown",
      "source": [
        "* Add progress bar without soooo much output..."
      ],
      "metadata": {
        "id": "mJeLnxCXwCNB"
      }
    },
    {
      "cell_type": "code",
      "source": [
        "from ipywidgets import IntProgress\n",
        "from IPython.display import display"
      ],
      "metadata": {
        "colab": {
          "base_uri": "https://localhost:8080/",
          "height": 49,
          "referenced_widgets": [
            "0c1a4401ff064e049167d9e2e34332de",
            "91d333ae45db4977ad00968690849440",
            "c924330520d84743884556a5611ca067"
          ]
        },
        "id": "9UF5KeVN-Ytl",
        "outputId": "e947ca44-0556-46f2-807d-8f77abd4f5a0"
      },
      "execution_count": 114,
      "outputs": [
        {
          "output_type": "display_data",
          "data": {
            "text/plain": [
              "IntProgress(value=0)"
            ],
            "application/vnd.jupyter.widget-view+json": {
              "version_major": 2,
              "version_minor": 0,
              "model_id": "0c1a4401ff064e049167d9e2e34332de"
            }
          },
          "metadata": {}
        }
      ]
    },
    {
      "cell_type": "code",
      "source": [
        "verbose_output = 0"
      ],
      "metadata": {
        "id": "bgcKMFLxwVkj"
      },
      "execution_count": 120,
      "outputs": []
    },
    {
      "cell_type": "code",
      "source": [
        "f = IntProgress(min=0, max=100) # instantiate the bar\n",
        "display(f) # display the bar\n",
        "\n",
        "for sims in range(0,100):\n",
        "  f.value += 1\n",
        "  if (verbose_output):\n",
        "      print(\"### \",sims,\" ###\")\n",
        "  TMR_a = np.zeros(k32, dtype=bool)\n",
        "  TMR_b = np.zeros(k32, dtype=bool)\n",
        "  TMR_c = np.zeros(k32, dtype=bool)\n",
        "  pbgeoALL = pbgeo * 405 #simulate whole device and quicker testing\n",
        "  time = 0\n",
        "  flag_a = 0\n",
        "  flag_b = 0\n",
        "  flag_c = 0\n",
        "  goto = 0\n",
        "  while goto == 0:\n",
        "    SEU_a = np.random.binomial(1,pbgeoALL,k32)\n",
        "    SEU_b = np.random.binomial(1,pbgeoALL,k32)\n",
        "    SEU_c = np.random.binomial(1,pbgeoALL,k32)\n",
        "    TMR_a = TMR_a | SEU_a\n",
        "    TMR_b = TMR_b | SEU_b\n",
        "    TMR_c = TMR_c | SEU_c\n",
        "\n",
        "    time += 1\n",
        "\n",
        "    if (time%100 == 0):\n",
        "      acount = 0\n",
        "      bcount = 0\n",
        "      ccount = 0\n",
        "      for av, bv ,cv in zip(TMR_a , TMR_b, TMR_c):\n",
        "        if av == 1:\n",
        "          acount += 1\n",
        "        if bv == 1:\n",
        "          bcount += 1\n",
        "        if cv == 1:\n",
        "          ccount += 1\n",
        "      if (verbose_output):\n",
        "          print(time,\" counts \",acount,bcount,ccount)\n",
        "\n",
        "    if ((TMR_a == 1 ).any() == True) and flag_a == 0:\n",
        "        if (verbose_output):\n",
        "          print (\"A \",time)\n",
        "        nTMR.append(time)\n",
        "        flag_a = 1\n",
        "    if ((TMR_b == 1 ).any() == True) and flag_b == 0:\n",
        "        if (verbose_output):\n",
        "          print (\"B \",time)\n",
        "        nTMR.append(time)\n",
        "        flag_b = 1\n",
        "    if ((TMR_c == 1 ).any() == True) and flag_c == 0:\n",
        "        if (verbose_output):\n",
        "          print (\"C \",time)\n",
        "        nTMR.append(time)\n",
        "        flag_c = 1\n",
        "    for av, bv ,cv in zip(TMR_a , TMR_b, TMR_c):\n",
        "      if (av == 1) and (bv ==1):\n",
        "        if (verbose_output):\n",
        "          print (\"A&B \",time)\n",
        "        TMR.append(time)\n",
        "        goto = 1\n",
        "      if (av == 1) and (cv ==1):\n",
        "        if (verbose_output):\n",
        "          print (\"A&C \",time)\n",
        "        TMR.append(time)\n",
        "        goto = 1\n",
        "      if (cv == 1) and (bv ==1):\n",
        "        if (verbose_output):\n",
        "          print (\"C&B \",time)\n",
        "        TMR.append(time)\n",
        "        goto = 1\n",
        "  if (verbose_output):\n",
        "      print(\"=== Results ===\")\n",
        "  nTMRCount = (len(nTMR))\n",
        "  TMRCount = (len(TMR))\n",
        "  nTMRFailRate = (sum(nTMR) / len(nTMR))\n",
        "  TMRFailRate = (sum(TMR) / len(TMR))\n",
        "  Sensitivity = nTMRFailRate/TMRFailRate\n",
        "  model = 0.00411983113735914\n",
        "  SensitivityDiff = (Sensitivity - model)/model\n",
        "  if (verbose_output):\n",
        "      print(nTMRCount,TMRCount,nTMRFailRate,TMRFailRate,Sensitivity,SensitivityDiff)\n",
        "  is_above = 0\n",
        "  limit = 1/(model*0.31361989)\n",
        "  for tmrv in TMR:\n",
        "    if tmrv >= limit:\n",
        "      is_above += 1\n",
        "  is_above_percent = is_above/TMRCount\n",
        "  if (verbose_output):\n",
        "        print(is_above_percent)\n"
      ],
      "metadata": {
        "colab": {
          "base_uri": "https://localhost:8080/",
          "height": 49,
          "referenced_widgets": [
            "881892863c72415b87faf977a2f471e1",
            "f3972c7bd9404d2a9fa90fb1552f8999",
            "40617d344c064eb49deee16fb8866385"
          ]
        },
        "id": "aCHTOVgBJBo1",
        "outputId": "9de00516-b1bd-4ad1-caf5-e729f79cc127"
      },
      "execution_count": 121,
      "outputs": [
        {
          "output_type": "display_data",
          "data": {
            "text/plain": [
              "IntProgress(value=0)"
            ],
            "application/vnd.jupyter.widget-view+json": {
              "version_major": 2,
              "version_minor": 0,
              "model_id": "881892863c72415b87faf977a2f471e1"
            }
          },
          "metadata": {}
        }
      ]
    },
    {
      "cell_type": "code",
      "source": [
        "print(\"=== Results ===\")\n",
        "print(nTMRCount,TMRCount,nTMRFailRate,TMRFailRate,Sensitivity,SensitivityDiff)\n",
        "print(is_above_percent)\n",
        "print(nTMR)\n",
        "print(TMR)"
      ],
      "metadata": {
        "id": "DhMdIlNHJDnX",
        "colab": {
          "base_uri": "https://localhost:8080/"
        },
        "outputId": "754e3957-7c11-4c65-862a-66357a0a1bfc"
      },
      "execution_count": 122,
      "outputs": [
        {
          "output_type": "stream",
          "name": "stdout",
          "text": [
            "=== Results ===\n",
            "327 105 11.051987767584098 831.9238095238095 0.013284855705608691 2.224611704382729\n",
            "0.5428571428571428\n",
            "[1, 2, 4, 6, 14, 16, 5, 10, 14, 2, 4, 8, 1, 4, 9, 7, 9, 9, 1, 11, 22, 1, 7, 15, 8, 8, 34, 6, 10, 28, 1, 4, 13, 7, 11, 29, 13, 26, 35, 2, 7, 18, 15, 20, 24, 1, 8, 32, 4, 6, 30, 4, 15, 22, 3, 9, 15, 4, 6, 7, 1, 18, 18, 3, 4, 10, 4, 6, 7, 1, 1, 25, 1, 9, 34, 7, 10, 43, 4, 6, 16, 2, 9, 20, 7, 9, 27, 2, 6, 14, 3, 3, 25, 5, 14, 25, 2, 3, 8, 1, 8, 11, 1, 20, 32, 1, 3, 12, 1, 3, 8, 6, 17, 36, 6, 16, 33, 2, 13, 24, 6, 7, 16, 2, 9, 26, 7, 8, 12, 7, 8, 25, 3, 12, 16, 5, 5, 5, 3, 7, 12, 2, 14, 30, 4, 8, 13, 15, 20, 26, 7, 13, 15, 2, 24, 38, 1, 1, 11, 2, 13, 18, 17, 17, 20, 3, 3, 10, 2, 38, 46, 2, 3, 26, 4, 10, 22, 1, 5, 22, 1, 3, 9, 11, 13, 21, 4, 9, 17, 5, 9, 15, 5, 12, 21, 1, 3, 53, 6, 8, 14, 4, 16, 19, 7, 16, 16, 2, 5, 60, 4, 7, 12, 2, 5, 7, 4, 4, 8, 1, 8, 35, 2, 4, 13, 2, 9, 27, 3, 13, 25, 7, 9, 9, 4, 5, 17, 1, 5, 46, 2, 6, 12, 1, 7, 8, 2, 17, 23, 1, 2, 18, 3, 7, 16, 3, 7, 10, 2, 8, 30, 2, 4, 27, 3, 3, 5, 5, 12, 22, 1, 2, 48, 2, 5, 20, 1, 5, 16, 4, 8, 37, 1, 5, 7, 1, 4, 7, 1, 13, 15, 2, 7, 21, 1, 10, 12, 1, 19, 19, 4, 11, 27, 5, 13, 25, 7, 7, 7, 1, 2, 13, 2, 5, 38, 3, 3, 4, 5, 9, 15, 13, 15, 21, 5, 18, 28]\n",
            "[507, 256, 588, 787, 458, 1046, 535, 885, 426, 548, 595, 760, 316, 1545, 808, 754, 1236, 1031, 845, 681, 398, 556, 1005, 577, 873, 506, 928, 1476, 752, 672, 539, 617, 992, 783, 272, 1694, 835, 902, 1058, 1317, 334, 997, 690, 234, 983, 976, 653, 470, 887, 370, 1354, 354, 279, 1658, 996, 1406, 1108, 995, 1016, 903, 1298, 191, 509, 767, 826, 1416, 553, 1063, 494, 1063, 497, 1131, 1013, 844, 914, 557, 1255, 1235, 1068, 610, 967, 1106, 639, 823, 844, 1872, 379, 86, 1515, 1732, 1021, 355, 1525, 572, 300, 579, 671, 1238, 848, 1843, 546, 811, 607, 372, 775]\n"
          ]
        }
      ]
    }
  ]
}