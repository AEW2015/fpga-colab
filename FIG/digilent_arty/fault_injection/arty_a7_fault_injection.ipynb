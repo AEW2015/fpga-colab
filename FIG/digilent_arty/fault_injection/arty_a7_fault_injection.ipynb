{
 "cells": [
  {
   "cell_type": "code",
   "execution_count": 1,
   "id": "e211f98f-cb37-45dc-9616-51cc3332ee7c",
   "metadata": {},
   "outputs": [],
   "source": [
    "from tcl_client import *\n",
    "cl = Tcl_client()\n",
    "cl.open()"
   ]
  },
  {
   "cell_type": "code",
   "execution_count": 2,
   "id": "98dcfc52-984e-4216-84e9-434e56b264f8",
   "metadata": {},
   "outputs": [
    {
     "data": {
      "text/plain": [
       "'EOF'"
      ]
     },
     "execution_count": 2,
     "metadata": {},
     "output_type": "execute_result"
    }
   ],
   "source": [
    "cl.send_command(\"target 1\")\n",
    "cl.send_command(\"jtag target 2\")\n",
    "cl.send_command(\"jcm_lite::update_active_device\")"
   ]
  },
  {
   "cell_type": "code",
   "execution_count": 3,
   "id": "ee63f2b1-b064-49bc-bd65-75b36bf81383",
   "metadata": {},
   "outputs": [
    {
     "data": {
      "text/plain": [
       "'EOF'"
      ]
     },
     "execution_count": 3,
     "metadata": {},
     "output_type": "execute_result"
    }
   ],
   "source": [
    "cl.send_command(\"fpga -f ../../dut/outputs/kronos.bit\")"
   ]
  },
  {
   "cell_type": "code",
   "execution_count": 4,
   "id": "275c02d2-2d03-4989-9e29-16df599d1b17",
   "metadata": {},
   "outputs": [],
   "source": [
    "import serial\n",
    "BAUD = 115200\n",
    "DEV = \"COM4\""
   ]
  },
  {
   "cell_type": "code",
   "execution_count": 5,
   "id": "84ae83e4-26a2-4040-b681-190747c987ea",
   "metadata": {},
   "outputs": [],
   "source": [
    "new_serial = serial.Serial(port=DEV, baudrate=BAUD,timeout=5,)"
   ]
  },
  {
   "cell_type": "code",
   "execution_count": 6,
   "id": "44cc0142-6e80-4f55-8cf3-0fba5c8a842f",
   "metadata": {},
   "outputs": [
    {
     "name": "stdout",
     "output_type": "stream",
     "text": [
      "b'00:38A7\\n'\n"
     ]
    }
   ],
   "source": [
    "new_serial.reset_input_buffer()\n",
    "print(new_serial.readline())"
   ]
  },
  {
   "cell_type": "code",
   "execution_count": 7,
   "id": "91be8a48-5b3f-4039-97ec-9a55acf1499a",
   "metadata": {},
   "outputs": [
    {
     "name": "stdout",
     "output_type": "stream",
     "text": [
      "b'00:38A7\\n'\n"
     ]
    }
   ],
   "source": [
    "new_serial.reset_input_buffer()\n",
    "cl.send_command(\"fpga -f ../../tmr/outputs/kronos_tmr.bit\")\n",
    "print(new_serial.readline())"
   ]
  },
  {
   "cell_type": "code",
   "execution_count": 8,
   "id": "d01af4a0-141d-476f-b795-a12b4038ccb8",
   "metadata": {},
   "outputs": [
    {
     "data": {
      "text/plain": [
       "['00020814', '77', '16', '1', 'EOF']"
      ]
     },
     "execution_count": 8,
     "metadata": {},
     "output_type": "execute_result"
    }
   ],
   "source": [
    "cl.send_command(\"jcm_lite::inject_random_fault\").split()"
   ]
  },
  {
   "cell_type": "code",
   "execution_count": 9,
   "id": "a667471e-5f29-49b6-96a3-d9198bfe1bc0",
   "metadata": {},
   "outputs": [],
   "source": [
    "import re\n",
    "from collections import Counter\n",
    "num_procs = 1\n",
    "TELEMETRY_KEY = \"([0-9A-F]{2}):\"\n",
    "for x in range(num_procs):\n",
    "    TELEMETRY_KEY += \"([0-9A-F]{4})\"\n",
    "    \n"
   ]
  },
  {
   "cell_type": "code",
   "execution_count": 10,
   "id": "7c928a91-fcd1-48d7-820c-154677d68414",
   "metadata": {},
   "outputs": [],
   "source": [
    "# Print iterations progress\n",
    "def printProgressBar (iteration, total, prefix = '', suffix = '', decimals = 1, length = 100, fill = '█', printEnd = \"\\r\"):\n",
    "    \"\"\"\n",
    "    Call in a loop to create terminal progress bar\n",
    "    @params:\n",
    "        iteration   - Required  : current iteration (Int)\n",
    "        total       - Required  : total iterations (Int)\n",
    "        prefix      - Optional  : prefix string (Str)\n",
    "        suffix      - Optional  : suffix string (Str)\n",
    "        decimals    - Optional  : positive number of decimals in percent complete (Int)\n",
    "        length      - Optional  : character length of bar (Int)\n",
    "        fill        - Optional  : bar fill character (Str)\n",
    "        printEnd    - Optional  : end character (e.g. \"\\r\", \"\\r\\n\") (Str)\n",
    "    \"\"\"\n",
    "    percent = (\"{0:.\" + str(decimals) + \"f}\").format(100 * (iteration / float(total)))\n",
    "    filledLength = int(length * iteration // total)\n",
    "    bar = fill * filledLength + '-' * (length - filledLength)\n",
    "    print(f'\\r{prefix} |{bar}| {percent}% {suffix}', end = printEnd)\n",
    "    # Print New Line on Complete\n",
    "    if iteration == total: \n",
    "        print()"
   ]
  },
  {
   "cell_type": "code",
   "execution_count": 11,
   "id": "773151e2-8cd6-4405-997c-575a22a403e5",
   "metadata": {},
   "outputs": [
    {
     "name": "stdout",
     "output_type": "stream",
     "text": [
      "Failure:  0 130 82 4CB8 10 ['00400D09', '81', '3', '1', 'EOF']----------------------------------------| 0.1% \n",
      "Failure:  1 65 41 42A2 11 ['00400D20', '62', '10', '1', 'EOF']----------------------------------------| 0.1% \n",
      "Failure:  2 35 23 3DFA 12 ['00400F8E', '72', '24', '1', 'EOF']----------------------------------------| 0.0% \n",
      "Failure:  3 34 22 3DD0 11 ['00400E0D', '68', '18', '1', 'EOF']----------------------------------------| 0.0% \n",
      "Failure:  4 55 37 4113 10 ['00400E94', '66', '6', '1', 'EOF']-----------------------------------------| 0.1% \n",
      "Failure:  5 58 3A A2BC 24892 ['00400C17', '79', '1', '1', 'EOF']--------------------------------------| 0.1% \n",
      "Failure:  6 65 41 42A1 10 ['00400F15', '78', '18', '1', 'EOF']----------------------------------------| 0.1% \n",
      "Failure:  7 26 1A 3C94 11 ['00400982', '89', '14', '1', 'EOF']----------------------------------------| 0.0% \n",
      "Failure:  8 366 6E 737B 554 ['00400D16', '45', '2', '1', 'EOF']---------------------------------------| 0.4% \n",
      "Failure:  9 280 18 00A7 -25424 ['00400C0F', '74', '5', '1', 'EOF']------------------------------------| 0.3% \n"
     ]
    }
   ],
   "source": [
    "new_serial.reset_input_buffer()\n",
    "for y in range(10):\n",
    "    cl.send_command(\"fpga -f ../../dut/outputs/kronos.bit\")\n",
    "    new_serial.reset_input_buffer()\n",
    "    old_value = -1\n",
    "    injection = ['0','0','0','0']\n",
    "    for x in range(100000):\n",
    "        printProgressBar(x,100000)\n",
    "        serial_string = str(new_serial.readline())\n",
    "        if old_value != -1 and injection[3] == '1':\n",
    "            cl.send_command(\"jcm_lite::inject_fault {} {} {}\".format(injection[0],injection[1],injection[2]))\n",
    "        m = re.search(TELEMETRY_KEY,serial_string)\n",
    "        if m:\n",
    "            if old_value == -1:\n",
    "                old_value = int(m.group(2),16)\n",
    "            else:\n",
    "                current_value = int(m.group(2),16)\n",
    "                if current_value < 60 and old_value > 0xFFD0:\n",
    "                    current_value += 0x10000\n",
    "                diff = current_value - old_value\n",
    "                if diff == 39 or diff == 40:\n",
    "                    pass\n",
    "                else:\n",
    "                    # print (m.group(2))\n",
    "                    print (\"Failure: \",y,x,m.group(1),m.group(2),diff,injection)\n",
    "                    break\n",
    "                old_value =  int(m.group(2),16)\n",
    "        else:\n",
    "            print (\"Failure: \",y,x,serial_string,injection)\n",
    "            break\n",
    "            \n",
    "\n",
    "        cl.send_command(\"jcm_lite::ctl0_nmask\")\n",
    "        injection = cl.send_command(\"jcm_lite::inject_random_fault\").split()"
   ]
  },
  {
   "cell_type": "code",
   "execution_count": 12,
   "id": "c6355e3c-5b2f-402d-9673-1a70b982aba0",
   "metadata": {},
   "outputs": [
    {
     "name": "stdout",
     "output_type": "stream",
     "text": [
      "Failure:  0 6351 CF 38A4 9783 ['00400B8C', '65', '10', '1', 'EOF']------------------------------------| 6.4% \n",
      "Failure:  1 2251 CB 0F1A -34519 ['00400E00', '95', '22', '1', 'EOF']----------------------------------| 2.3% \n",
      "Failure:  2 5228 6C 6423 12 ['00400F8F', '32', '19', '1', 'EOF']--------------------------------------| 5.2% \n",
      "Failure:  3 6309 b'\\r' ['00000007', '98', '7', '1', 'EOF']--------------------------------------------| 6.3% \n",
      "Failure:  4 1699 A3 404A 10 ['00400D1B', '84', '28', '1', 'EOF']--------------------------------------| 1.7% \n",
      "Failure:  5 4729 79 16CB 43 ['00400C9B', '95', '22', '1', 'EOF']--------------------------------------| 4.7% \n",
      "Failure:  6 8091 9B 389A 6159 ['00400307', '68', '14', '1', 'EOF']------------------------------------| 8.1% \n",
      "Failure:  7 2435 b'\\r' ['0000159D', '54', '1', '1', 'EOF']--------------------------------------------| 2.4% \n",
      "Failure:  8 6192 30 F9CA 12 ['00400302', '67', '18', '1', 'EOF']--------------------------------------| 6.2% \n",
      "Failure:  9 13448 88 6035 12 ['0000110B', '3', '13', '1', 'EOF']--------------------------------------| 13.4% \n"
     ]
    }
   ],
   "source": [
    "new_serial.reset_input_buffer()\n",
    "for y in range(10):\n",
    "    cl.send_command(\"fpga -f ../../tmr/outputs/kronos_tmr.bit\")\n",
    "    new_serial.reset_input_buffer()\n",
    "    old_value = -1\n",
    "    injection = ['0','0','0','0']\n",
    "    for x in range(100000):\n",
    "        printProgressBar(x,100000)\n",
    "        serial_string = str(new_serial.readline())\n",
    "        if old_value != -1 and injection[3] == '1':\n",
    "            cl.send_command(\"jcm_lite::inject_fault {} {} {}\".format(injection[0],injection[1],injection[2]))\n",
    "        m = re.search(TELEMETRY_KEY,serial_string)\n",
    "        if m:\n",
    "            if old_value == -1:\n",
    "                old_value = int(m.group(2),16)\n",
    "            else:\n",
    "                current_value = int(m.group(2),16)\n",
    "                if current_value < 60 and old_value > 0xFFD0:\n",
    "                    current_value += 0x10000\n",
    "                diff = current_value - old_value\n",
    "                if diff == 39 or diff == 40:\n",
    "                    pass\n",
    "                else:\n",
    "                    # print (m.group(2))\n",
    "                    print (\"Failure: \",y,x,m.group(1),m.group(2),diff,injection)\n",
    "                    break\n",
    "                old_value =  int(m.group(2),16)\n",
    "        else:\n",
    "            print (\"Failure: \",y,x,serial_string,injection)\n",
    "            break\n",
    "            \n",
    "\n",
    "        cl.send_command(\"jcm_lite::ctl0_nmask\")\n",
    "        injection = cl.send_command(\"jcm_lite::inject_random_fault\").split()"
   ]
  }
 ],
 "metadata": {
  "kernelspec": {
   "display_name": "Python 3 (ipykernel)",
   "language": "python",
   "name": "python3"
  },
  "language_info": {
   "codemirror_mode": {
    "name": "ipython",
    "version": 3
   },
   "file_extension": ".py",
   "mimetype": "text/x-python",
   "name": "python",
   "nbconvert_exporter": "python",
   "pygments_lexer": "ipython3",
   "version": "3.8.10"
  }
 },
 "nbformat": 4,
 "nbformat_minor": 5
}
