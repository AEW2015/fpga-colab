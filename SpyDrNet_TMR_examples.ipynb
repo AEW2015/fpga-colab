{
  "nbformat": 4,
  "nbformat_minor": 0,
  "metadata": {
    "colab": {
      "name": "SpyDrNet-TMR_examples.ipynb",
      "provenance": [],
      "collapsed_sections": [],
      "authorship_tag": "ABX9TyMpyM2vhYFvMfaonyTjJAZa"
    },
    "kernelspec": {
      "name": "python3",
      "display_name": "Python 3"
    },
    "language_info": {
      "name": "python"
    }
  },
  "cells": [
    {
      "cell_type": "markdown",
      "source": [
        "This example uses SpyDrNet TMR Open-Source tool to generate Triple Modular Redundant EDIFs."
      ],
      "metadata": {
        "id": "5WHpM4VC_1AK"
      }
    },
    {
      "cell_type": "code",
      "execution_count": null,
      "metadata": {
        "colab": {
          "base_uri": "https://localhost:8080/"
        },
        "id": "IbMn_W7r4bS6",
        "outputId": "0b1a59f7-ef32-449a-f52b-35176bd2a3a6"
      },
      "outputs": [
        {
          "output_type": "stream",
          "name": "stdout",
          "text": [
            "Looking in indexes: https://pypi.org/simple, https://us-python.pkg.dev/colab-wheels/public/simple/\n",
            "Collecting spydrnet\n",
            "  Downloading spydrnet-1.11.1-py3-none-any.whl (461 kB)\n",
            "\u001b[K     |████████████████████████████████| 461 kB 5.1 MB/s \n",
            "\u001b[?25hInstalling collected packages: spydrnet\n",
            "Successfully installed spydrnet-1.11.1\n"
          ]
        }
      ],
      "source": [
        "pip install spydrnet"
      ]
    },
    {
      "cell_type": "code",
      "source": [
        "!git clone https://github.com/byuccl/spydrnet-tmr.git\n",
        "%cd /content/spydrnet-tmr"
      ],
      "metadata": {
        "colab": {
          "base_uri": "https://localhost:8080/"
        },
        "id": "Hj-geAWd4goV",
        "outputId": "e8904f88-2324-4bf0-d42f-71c1ad9d23a0"
      },
      "execution_count": null,
      "outputs": [
        {
          "output_type": "stream",
          "name": "stdout",
          "text": [
            "Cloning into 'spydrnet-tmr'...\n",
            "remote: Enumerating objects: 1674, done.\u001b[K\n",
            "remote: Counting objects: 100% (317/317), done.\u001b[K\n",
            "remote: Compressing objects: 100% (208/208), done.\u001b[K\n",
            "remote: Total 1674 (delta 139), reused 224 (delta 107), pack-reused 1357\u001b[K\n",
            "Receiving objects: 100% (1674/1674), 7.21 MiB | 18.05 MiB/s, done.\n",
            "Resolving deltas: 100% (1012/1012), done.\n",
            "/content/spydrnet-tmr\n"
          ]
        }
      ]
    },
    {
      "cell_type": "code",
      "source": [
        "pip install ."
      ],
      "metadata": {
        "colab": {
          "base_uri": "https://localhost:8080/"
        },
        "id": "XLY_fyj14o3C",
        "outputId": "3fc6c363-2bb1-46a0-d433-6ca68cda57fa"
      },
      "execution_count": null,
      "outputs": [
        {
          "output_type": "stream",
          "name": "stdout",
          "text": [
            "Looking in indexes: https://pypi.org/simple, https://us-python.pkg.dev/colab-wheels/public/simple/\n",
            "Processing /content/spydrnet-tmr\n",
            "\u001b[33m  DEPRECATION: A future pip version will change local packages to be built in-place without first copying to a temporary directory. We recommend you use --use-feature=in-tree-build to test your packages with this new behavior before it becomes the default.\n",
            "   pip 21.3 will remove support for this functionality. You can find discussion regarding this at https://github.com/pypa/pip/issues/7555.\u001b[0m\n",
            "Requirement already satisfied: spydrnet<2,>=1.4 in /usr/local/lib/python3.7/dist-packages (from spydrnet-tmr==1.2.0) (1.11.1)\n",
            "Requirement already satisfied: pyyaml in /usr/local/lib/python3.7/dist-packages (from spydrnet-tmr==1.2.0) (6.0)\n",
            "Building wheels for collected packages: spydrnet-tmr\n",
            "  Building wheel for spydrnet-tmr (setup.py) ... \u001b[?25l\u001b[?25hdone\n",
            "  Created wheel for spydrnet-tmr: filename=spydrnet_tmr-1.2.0-py3-none-any.whl size=62472 sha256=123188aed1a72229ce32552dbde4f738509305fa90bc5e6f4f74b1e5abc3ebab\n",
            "  Stored in directory: /root/.cache/pip/wheels/9a/8b/89/ce2010072ad5befcc6f4f4efe9959f0c9ce12538644ba95d0b\n",
            "Successfully built spydrnet-tmr\n",
            "Installing collected packages: spydrnet-tmr\n",
            "Successfully installed spydrnet-tmr-1.2.0\n"
          ]
        }
      ]
    },
    {
      "cell_type": "code",
      "source": [
        "!cp -a /content/spydrnet-tmr/spydrnet_tmr/support_files /usr/local/lib/python3.7/dist-packages/spydrnet_tmr/"
      ],
      "metadata": {
        "id": "UlCyQwvz-2z6"
      },
      "execution_count": null,
      "outputs": []
    },
    {
      "cell_type": "code",
      "source": [
        "%cd /content/spydrnet-tmr/examples/basic/"
      ],
      "metadata": {
        "colab": {
          "base_uri": "https://localhost:8080/"
        },
        "id": "vmmd2JbA4p5D",
        "outputId": "c79d729c-1ddb-4011-e8ff-a7d5234f6a65"
      },
      "execution_count": null,
      "outputs": [
        {
          "output_type": "stream",
          "name": "stdout",
          "text": [
            "/content/spydrnet-tmr/examples/basic\n"
          ]
        }
      ]
    },
    {
      "cell_type": "code",
      "source": [
        "! python3 plot_generic_tmr.py"
      ],
      "metadata": {
        "colab": {
          "base_uri": "https://localhost:8080/"
        },
        "id": "k6H6Q57m4ufw",
        "outputId": "a38e3eb9-d405-4003-ce02-4d16a335be7b"
      },
      "execution_count": null,
      "outputs": [
        {
          "output_type": "stream",
          "name": "stdout",
          "text": [
            "Identified 0 insertion points for reduction voters.\n"
          ]
        }
      ]
    },
    {
      "cell_type": "code",
      "source": [
        "\"\"\"\n",
        "Basic TMR\n",
        "----------\n",
        "\n",
        "A bare minimum use case for SpyDrNet-TMR.\n",
        "\n",
        "This script loads in a netlist of an inverter from SpyDrNet. Only required parameters are given to `apply_tmr_to_netlist` so default settings will be applied. Everything in the netlist will be replicated, including all top-level ports. Since there are no reduction voters required and no special voter insertion was enabled, there are no voters inserted in this design.\n",
        "\n",
        "\"\"\"\n",
        "\n",
        "import spydrnet as sdn\n",
        "from spydrnet_tmr.apply_tmr_to_netlist import apply_tmr_to_netlist\n",
        "from spydrnet_tmr.support_files.vendor_names import XILINX\n",
        "\n",
        "\n",
        "netlist_name = \"inverter\"\n",
        "netlist = sdn.load_example_netlist_by_name(netlist_name)\n",
        "apply_tmr_to_netlist(\n",
        "    netlist,\n",
        "    XILINX,\n",
        ")\n",
        "sdn.compose(netlist, netlist_name + \"_tmr.edf\")"
      ],
      "metadata": {
        "colab": {
          "base_uri": "https://localhost:8080/"
        },
        "id": "NeNsCvWw_M_9",
        "outputId": "ddc84901-afd2-4391-bd7f-a04d5d2003e8"
      },
      "execution_count": null,
      "outputs": [
        {
          "output_type": "stream",
          "name": "stdout",
          "text": [
            "Identified 0 insertion points for reduction voters.\n"
          ]
        }
      ]
    },
    {
      "cell_type": "code",
      "source": [
        "! python3 plot_xilinx_generic_tmr.py"
      ],
      "metadata": {
        "colab": {
          "base_uri": "https://localhost:8080/"
        },
        "id": "O5FCd8Pd_Nbr",
        "outputId": "194bd91d-3164-4b6a-d36f-661738154d90"
      },
      "execution_count": null,
      "outputs": [
        {
          "output_type": "stream",
          "name": "stdout",
          "text": [
            "Identified 4 insertion points for reduction voters.\n",
            "\n",
            "Primitive count before and after TMR:\n",
            "\t BUFG :  1  -->  3\n",
            "\t IBUF :  4  -->  12\n",
            "\t LUT1 :  1  -->  3\n",
            "\t LUT3 :  1  -->  7\n",
            "\t LUT4 :  1  -->  3\n",
            "\t LUT5 :  1  -->  3\n",
            "\t OBUF :  4  -->  12\n",
            "\t FDCE :  4  -->  12\n",
            "\t INV :  0  -->  0\n"
          ]
        }
      ]
    },
    {
      "cell_type": "code",
      "source": [
        "\"\"\"\n",
        "Xilinx TMR\n",
        "===========\n",
        "This is a xilinx TMR example using SpyDrNet TMR\n",
        "\n",
        "The number of times each primitive is instanced before and after triplicating will be printed.\n",
        "\"\"\"\n",
        "\n",
        "import spydrnet as sdn\n",
        "from spydrnet.uniquify import uniquify\n",
        "from spydrnet_tmr import apply_nmr, insert_organs\n",
        "from spydrnet_tmr.support_files.vendor_names import XILINX\n",
        "from spydrnet_tmr.apply_tmr_to_netlist import apply_tmr_to_netlist\n",
        "\n",
        "# set_property design_mode GateLvl [current_fileset]\n",
        "# set_property edif_top_file <path_to_file> [current_fileset]\n",
        "# link_design -part <part_number> -mode out_of_context\n",
        "netlist = sdn.load_example_netlist_by_name(\n",
        "    \"fourBitCounter\"\n",
        ")  # loading an example, use `sdn.parse(<netlist filename>)` otherwise\n",
        "\n",
        "# uniquify is called to insure that non-leaf definitions are instanced only once, prevents unintended transformations.\n",
        "uniquify(netlist)\n",
        "\n",
        "# set instances_to_replicate [get_cells -hierarchical -filter {PRIMITIVE_LEVEL==LEAF||PRIMITIVE_LEVEL==MACRO}]\n",
        "hinstances_to_replicate = list(\n",
        "    netlist.get_hinstances(\n",
        "        recursive=True, filter=lambda x: x.item.reference.is_leaf() is True\n",
        "    )\n",
        ")\n",
        "\n",
        "# set ports_to_replicate [get_ports]\n",
        "hports_to_replicate = list(\n",
        "    netlist.get_hports(filter=lambda x: x.item.direction is sdn.IN)\n",
        ")\n",
        "\n",
        "valid_voter_point_dict = dict()\n",
        "valid_voter_point_dict[\"reduction\"] = [\n",
        "    *netlist.get_hports(),\n",
        "    *hinstances_to_replicate,\n",
        "]\n",
        "\n",
        "# find out where to insert reduction voters\n",
        "netlist = apply_tmr_to_netlist(\n",
        "    netlist,\n",
        "    XILINX,\n",
        "    hinstances_and_hports_to_replicate=[\n",
        "        *hports_to_replicate,\n",
        "        *hinstances_to_replicate,\n",
        "    ],\n",
        "    valid_voter_point_dict=valid_voter_point_dict,\n",
        ")\n",
        "\n",
        "# print the number of times each primitive is instanced\n",
        "def instance_count(original_netlist, new_netlist):\n",
        "    print(\"\\nPrimitive count before and after TMR:\")\n",
        "    primitives_library = next(\n",
        "        new_netlist.get_libraries(\"hdi_primitives\"), None\n",
        "    )\n",
        "    for primitive in primitives_library.get_definitions():\n",
        "        i = 0\n",
        "        j = 0\n",
        "        for instance in original_netlist.get_instances():\n",
        "            if primitive.name == instance.reference.name:\n",
        "                i += 1\n",
        "        for instance in new_netlist.get_instances():\n",
        "            if primitive.name == instance.reference.name:\n",
        "                j += 1\n",
        "        print(\"\\t\", primitive.name, \": \", i, \" --> \", j)\n",
        "\n",
        "\n",
        "instance_count(sdn.load_example_netlist_by_name(\"fourBitCounter\"), netlist)\n",
        "\n",
        "sdn.compose(netlist, \"fourBitCounter_tmr.edf\")"
      ],
      "metadata": {
        "colab": {
          "base_uri": "https://localhost:8080/"
        },
        "id": "bvpeOeln_eMA",
        "outputId": "5f254e16-e9ab-4df8-c26e-c13ccd2bffdb"
      },
      "execution_count": null,
      "outputs": [
        {
          "output_type": "stream",
          "name": "stdout",
          "text": [
            "Identified 4 insertion points for reduction voters.\n",
            "\n",
            "Primitive count before and after TMR:\n",
            "\t BUFG :  1  -->  3\n",
            "\t IBUF :  4  -->  12\n",
            "\t LUT1 :  1  -->  3\n",
            "\t LUT3 :  1  -->  7\n",
            "\t LUT4 :  1  -->  3\n",
            "\t LUT5 :  1  -->  3\n",
            "\t OBUF :  4  -->  12\n",
            "\t FDCE :  4  -->  12\n",
            "\t INV :  0  -->  0\n"
          ]
        }
      ]
    },
    {
      "cell_type": "markdown",
      "source": [
        "TODO: add real design example from Linux on Litex"
      ],
      "metadata": {
        "id": "Nn6EjnyyAIow"
      }
    }
  ]
}